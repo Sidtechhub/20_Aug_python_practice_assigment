{
 "cells": [
  {
   "cell_type": "code",
   "execution_count": null,
   "id": "ce63544e-841d-4e36-8192-7515f0d81260",
   "metadata": {},
   "outputs": [],
   "source": [
    "TOPIC: String Based Assignment Problem"
   ]
  },
  {
   "cell_type": "code",
   "execution_count": 81,
   "id": "c5458fdf-00ee-4b9e-aa62-33d356e70571",
   "metadata": {},
   "outputs": [],
   "source": [
    " # 1.  Write a program to reverse a string."
   ]
  },
  {
   "cell_type": "code",
   "execution_count": 82,
   "id": "f2696e81-ab7b-464d-ade8-712ba0d6e2a1",
   "metadata": {},
   "outputs": [],
   "source": [
    "sentence=\"I am playing now\""
   ]
  },
  {
   "cell_type": "code",
   "execution_count": 83,
   "id": "df0837af-8e67-48f2-8dc0-7fea71c06a55",
   "metadata": {},
   "outputs": [],
   "source": [
    "rev_sentence=sentence[::-1]"
   ]
  },
  {
   "cell_type": "code",
   "execution_count": 84,
   "id": "efc53899-9887-4a96-81ee-df8e38d4c7e3",
   "metadata": {},
   "outputs": [
    {
     "name": "stdout",
     "output_type": "stream",
     "text": [
      "won gniyalp ma I\n"
     ]
    }
   ],
   "source": [
    "print(rev_sentence)"
   ]
  },
  {
   "cell_type": "code",
   "execution_count": null,
   "id": "ca8ca525-6942-49ce-878f-eaff5c10c366",
   "metadata": {},
   "outputs": [],
   "source": [
    "# 2. Check if a string is a palindrome."
   ]
  },
  {
   "cell_type": "code",
   "execution_count": 11,
   "id": "8fcb85f6-c4c7-4ece-9ef0-594ba33919a1",
   "metadata": {},
   "outputs": [],
   "source": [
    "word=\"oppo\""
   ]
  },
  {
   "cell_type": "code",
   "execution_count": 12,
   "id": "cff9441e-ecc4-4e22-8ac6-a8f3f4375388",
   "metadata": {},
   "outputs": [],
   "source": [
    "rev_word=word[::-1]"
   ]
  },
  {
   "cell_type": "code",
   "execution_count": 13,
   "id": "4569dd22-fa19-4a60-9096-342d02f589a8",
   "metadata": {},
   "outputs": [
    {
     "name": "stdout",
     "output_type": "stream",
     "text": [
      "Yes it is a pallindrome\n"
     ]
    }
   ],
   "source": [
    "if word==rev_word:\n",
    "    print(\"Yes it is a pallindrome\")\n",
    "else:\n",
    "    print(\"No it is not a pallindrome\")       "
   ]
  },
  {
   "cell_type": "code",
   "execution_count": null,
   "id": "3ecbc962-f611-45a8-a689-2612a8121d23",
   "metadata": {},
   "outputs": [],
   "source": [
    "# 3. Convert a string to uppercase."
   ]
  },
  {
   "cell_type": "code",
   "execution_count": 14,
   "id": "cd1bfd63-675e-4a67-bf7e-ce43d4f09280",
   "metadata": {},
   "outputs": [],
   "source": [
    "any_wrd=\"goaway\""
   ]
  },
  {
   "cell_type": "code",
   "execution_count": 15,
   "id": "df4eaf4a-780e-4486-9fdb-250fa4665d4d",
   "metadata": {},
   "outputs": [],
   "source": [
    "up_wrd=any_wrd.upper()"
   ]
  },
  {
   "cell_type": "code",
   "execution_count": 16,
   "id": "024c9cea-3ea6-45c1-8420-de4bc67f4fb1",
   "metadata": {},
   "outputs": [
    {
     "name": "stdout",
     "output_type": "stream",
     "text": [
      "GOAWAY\n"
     ]
    }
   ],
   "source": [
    " print(up_wrd)       "
   ]
  },
  {
   "cell_type": "code",
   "execution_count": null,
   "id": "d09e1f6d-f971-4925-8fd5-d9796f8a775a",
   "metadata": {},
   "outputs": [],
   "source": [
    "# 4. Convert a string to lowercase."
   ]
  },
  {
   "cell_type": "code",
   "execution_count": 17,
   "id": "eaf0a4f4-8fd7-44eb-a72a-1ff69a145aee",
   "metadata": {},
   "outputs": [],
   "source": [
    "any_word=\"Testing in Lab\""
   ]
  },
  {
   "cell_type": "code",
   "execution_count": 18,
   "id": "33cc56c3-f4fa-4e1f-8476-56a39939bddf",
   "metadata": {},
   "outputs": [],
   "source": [
    "low_wrd=any_word.lower()"
   ]
  },
  {
   "cell_type": "code",
   "execution_count": 19,
   "id": "d5aa8d66-3549-4d96-a446-fe401cecc311",
   "metadata": {},
   "outputs": [
    {
     "name": "stdout",
     "output_type": "stream",
     "text": [
      "testing in lab\n"
     ]
    }
   ],
   "source": [
    " print(low_wrd)       "
   ]
  },
  {
   "cell_type": "code",
   "execution_count": null,
   "id": "17936861-65dd-4232-bfc7-c28e0578844a",
   "metadata": {},
   "outputs": [],
   "source": [
    "# 5. Count the number of vowels in a string."
   ]
  },
  {
   "cell_type": "code",
   "execution_count": null,
   "id": "3c725d36-5b8b-4aed-ba8f-32bcc3a13410",
   "metadata": {},
   "outputs": [],
   "source": [
    "#the vowels are a,e,i,o,u"
   ]
  },
  {
   "cell_type": "code",
   "execution_count": 72,
   "id": "e734cae1-e72b-4043-b85f-c8271d7cbf38",
   "metadata": {},
   "outputs": [],
   "source": [
    "string_word =\"Hello how are you.I am fine what about you.\""
   ]
  },
  {
   "cell_type": "code",
   "execution_count": 73,
   "id": "d0516ede-6fbc-46b5-ba53-b3f27358ee04",
   "metadata": {},
   "outputs": [],
   "source": [
    "low_wd=string_word.lower()"
   ]
  },
  {
   "cell_type": "code",
   "execution_count": 74,
   "id": "b24fddb6-b4f1-4e37-a371-bec0b53eb79f",
   "metadata": {},
   "outputs": [],
   "source": [
    "a=low_wd.count('a')\n",
    "\n",
    "\n"
   ]
  },
  {
   "cell_type": "code",
   "execution_count": 75,
   "id": "86396c65-4f46-4826-812e-73039b9e6a15",
   "metadata": {},
   "outputs": [],
   "source": [
    "e=low_wd.count('e')\n"
   ]
  },
  {
   "cell_type": "code",
   "execution_count": 76,
   "id": "f452b054-68c1-4466-8aba-7f77c74f0a77",
   "metadata": {},
   "outputs": [],
   "source": [
    "i=low_wd.count('i')"
   ]
  },
  {
   "cell_type": "code",
   "execution_count": 77,
   "id": "6247b027-c5eb-484e-8793-d3af4e9e1564",
   "metadata": {},
   "outputs": [],
   "source": [
    "o=low_wd.count('o')"
   ]
  },
  {
   "cell_type": "code",
   "execution_count": 78,
   "id": "29613689-fbfb-4104-819f-bc9c48b82750",
   "metadata": {},
   "outputs": [],
   "source": [
    "u=low_wd.count('u')\n"
   ]
  },
  {
   "cell_type": "code",
   "execution_count": 79,
   "id": "804e952d-e92e-4816-a6c7-707fd798f344",
   "metadata": {},
   "outputs": [],
   "source": [
    "result=a+e+i+o+u"
   ]
  },
  {
   "cell_type": "code",
   "execution_count": null,
   "id": "b75ffb23-1136-4301-bed4-30a814e0d82b",
   "metadata": {},
   "outputs": [],
   "source": []
  },
  {
   "cell_type": "code",
   "execution_count": 80,
   "id": "fb58e69f-f42e-42cf-ad12-98249283e158",
   "metadata": {},
   "outputs": [
    {
     "name": "stdout",
     "output_type": "stream",
     "text": [
      "The no. of vowels are 17\n"
     ]
    }
   ],
   "source": [
    "print(\"The number of vowels are \"+str(result))"
   ]
  },
  {
   "cell_type": "code",
   "execution_count": null,
   "id": "955ed3f1-0473-47ca-aff0-0d57d678c7f4",
   "metadata": {},
   "outputs": [],
   "source": []
  },
  {
   "cell_type": "code",
   "execution_count": 29,
   "id": "7a04f541-5900-45c3-a11b-260db87e3b5c",
   "metadata": {},
   "outputs": [],
   "source": [
    "# 6. Count the number of consonants in a string.\n"
   ]
  },
  {
   "cell_type": "code",
   "execution_count": null,
   "id": "b852c38a-b491-4b10-baa2-8ee64641af4e",
   "metadata": {},
   "outputs": [],
   "source": [
    "\n"
   ]
  },
  {
   "cell_type": "code",
   "execution_count": 30,
   "id": "4aa23960-7629-49ca-afe6-1983f55d4cfd",
   "metadata": {},
   "outputs": [
    {
     "name": "stdin",
     "output_type": "stream",
     "text": [
      "Enter a string:  oops\n"
     ]
    },
    {
     "name": "stdout",
     "output_type": "stream",
     "text": [
      "The number of consonants:  2\n"
     ]
    }
   ],
   "source": [
    "# Program to count consonants\n",
    "\n",
    "# function to check consonant \n",
    "def check_consonant(x): \n",
    "      \n",
    "    return not (x == 'a' or x == 'e' or \n",
    "                x == 'i' or x == 'o' or \n",
    "                x == 'u')\n",
    "  \n",
    "# Count total number of consonants from 0 to n-1 \n",
    "def count_consonants(string, n): \n",
    "      \n",
    "    if n == 1: \n",
    "        return check_consonant(string[0]) \n",
    "  \n",
    "    return count_consonants(string, n - 1) + check_consonant(string[n-1]) \n",
    "  \n",
    "  \n",
    " # Enter an input string \n",
    "user_input = input(\"Enter a string: \")\n",
    "\n",
    "# convert string in case insensitive\n",
    "string = user_input.casefold()\n",
    "\n",
    "print(\"The number of consonants: \",count_consonants(string, len(string))) "
   ]
  },
  {
   "cell_type": "code",
   "execution_count": 2,
   "id": "b1224763-b683-4984-9c11-43d05b50de10",
   "metadata": {},
   "outputs": [],
   "source": []
  },
  {
   "cell_type": "code",
   "execution_count": null,
   "id": "cbe436fb-084a-43ca-b89f-6ec7709b3578",
   "metadata": {},
   "outputs": [],
   "source": []
  },
  {
   "cell_type": "code",
   "execution_count": null,
   "id": "39c6fb5e-7b9c-484f-8687-dcf044de1a47",
   "metadata": {},
   "outputs": [],
   "source": []
  },
  {
   "cell_type": "code",
   "execution_count": 4,
   "id": "b3791676-f0af-42d5-8e36-d6c43550b35e",
   "metadata": {},
   "outputs": [],
   "source": [
    "# 7. Remove all whitespaces from a string."
   ]
  },
  {
   "cell_type": "code",
   "execution_count": 40,
   "id": "30f5a10d-7727-463b-a586-4b7f85d0131d",
   "metadata": {},
   "outputs": [],
   "source": [
    "string=\"Thou art thee\""
   ]
  },
  {
   "cell_type": "code",
   "execution_count": 41,
   "id": "32900f17-81dc-4dbb-9b06-2ffbb68250b0",
   "metadata": {},
   "outputs": [],
   "source": [
    "spacefree_string=string.replace(\" \",\"\")"
   ]
  },
  {
   "cell_type": "code",
   "execution_count": 42,
   "id": "4415b409-fb05-461e-9232-ce2d5e284a69",
   "metadata": {},
   "outputs": [
    {
     "name": "stdout",
     "output_type": "stream",
     "text": [
      "Thouartthee\n"
     ]
    }
   ],
   "source": [
    "print(spacefree_string)"
   ]
  },
  {
   "cell_type": "code",
   "execution_count": 5,
   "id": "f0a92326-8aed-4eed-8499-d5c0ef047c50",
   "metadata": {},
   "outputs": [],
   "source": [
    "# 8. Find the length of a string without using the `len()` function."
   ]
  },
  {
   "cell_type": "code",
   "execution_count": 32,
   "id": "f91d9fd0-4606-4253-81e2-47419f36861d",
   "metadata": {},
   "outputs": [
    {
     "name": "stdout",
     "output_type": "stream",
     "text": [
      "5\n"
     ]
    }
   ],
   "source": [
    "#take user input\n",
    "string = 'Hello'\n",
    "\n",
    "count = 0\n",
    "\n",
    "for i in string:\n",
    " \n",
    "    count+=1\n",
    "print(count)"
   ]
  },
  {
   "cell_type": "code",
   "execution_count": null,
   "id": "1ec30e00-6faa-4a3b-b6f9-f46503fd52b2",
   "metadata": {},
   "outputs": [],
   "source": []
  },
  {
   "cell_type": "code",
   "execution_count": null,
   "id": "3f99e40a-e350-4384-a28c-97fde525ec8c",
   "metadata": {},
   "outputs": [],
   "source": []
  },
  {
   "cell_type": "code",
   "execution_count": null,
   "id": "874db62f-b40c-459d-89d9-3105454c1e25",
   "metadata": {},
   "outputs": [],
   "source": [
    "# 9. Check if a string contains a specific word."
   ]
  },
  {
   "cell_type": "code",
   "execution_count": 34,
   "id": "768ef809-3aa3-4506-b000-c2a3aae9c3a1",
   "metadata": {},
   "outputs": [],
   "source": [
    "group_of_words=\"The Supreme Lord is manifested in infinite forms.The whole creation is thy play\""
   ]
  },
  {
   "cell_type": "code",
   "execution_count": 35,
   "id": "5321d92e-9a6e-4f6f-b7fa-f9cc5cf0e901",
   "metadata": {},
   "outputs": [
    {
     "name": "stdout",
     "output_type": "stream",
     "text": [
      "Yes, 'is' word is contained in the string\n"
     ]
    }
   ],
   "source": [
    "if(group_of_words.__contains__(\"is\")==True):\n",
    "    print(\"Yes,\"+\" 'is' \"+\"word is contained in the string\" )\n",
    "else:\n",
    "          \n",
    "    print(\"No,\"+\" 'is' \"+\"word isn't contained in the string\" )"
   ]
  },
  {
   "cell_type": "code",
   "execution_count": null,
   "id": "e19661d0-6ec6-4b82-a8bf-8752fd2a9d19",
   "metadata": {},
   "outputs": [],
   "source": []
  },
  {
   "cell_type": "code",
   "execution_count": null,
   "id": "3ed48c46-84ec-4524-b488-a61d73a85bee",
   "metadata": {},
   "outputs": [],
   "source": [
    "# 10. Replace a word in a string with another word."
   ]
  },
  {
   "cell_type": "code",
   "execution_count": 37,
   "id": "492c02a1-d3f4-4076-865f-4aa67e349969",
   "metadata": {},
   "outputs": [],
   "source": [
    "words=\"The ultimate goal of life is to merge into the Supreme Lord \""
   ]
  },
  {
   "cell_type": "code",
   "execution_count": 38,
   "id": "e249f95f-39a7-4e3a-9ab7-d709ab85b201",
   "metadata": {},
   "outputs": [],
   "source": [
    "new_words=words.replace(\"Lord\",\"reality\")"
   ]
  },
  {
   "cell_type": "code",
   "execution_count": 39,
   "id": "0fcd5502-492c-4cd1-8129-250d11d767a6",
   "metadata": {},
   "outputs": [
    {
     "name": "stdout",
     "output_type": "stream",
     "text": [
      "The ultimate goal of life is to merge into the Supreme reality \n"
     ]
    }
   ],
   "source": [
    "print(new_words)"
   ]
  },
  {
   "cell_type": "code",
   "execution_count": null,
   "id": "934c3b81-3e71-4737-bcb7-33a9d84f5477",
   "metadata": {},
   "outputs": [],
   "source": []
  },
  {
   "cell_type": "code",
   "execution_count": null,
   "id": "451edf03-2946-463d-b038-3902be7c88dc",
   "metadata": {},
   "outputs": [],
   "source": [
    "# 11. Count the occurrences of a word in a string."
   ]
  },
  {
   "cell_type": "code",
   "execution_count": 45,
   "id": "35332b9f-3658-405f-8250-9d434f7b2842",
   "metadata": {},
   "outputs": [],
   "source": [
    "spiritual_declaration=\"One who always sees all living entities as spiritual sparks, in quality one with the Lord, becomes a true knower of things. What, then, can be illusion or anxiety for him?Everything animate or inanimate that is within the universe is controlled and owned by the Lord.\"\n"
   ]
  },
  {
   "cell_type": "code",
   "execution_count": 46,
   "id": "215cc246-7bd2-4b8e-aa86-5e33000c4f5f",
   "metadata": {},
   "outputs": [],
   "source": [
    "mantra=spiritual_declaration.count(\"Lord\")"
   ]
  },
  {
   "cell_type": "code",
   "execution_count": 47,
   "id": "ff4b413f-2333-41a7-88a7-1b559bef6e4e",
   "metadata": {},
   "outputs": [
    {
     "name": "stdout",
     "output_type": "stream",
     "text": [
      "2\n"
     ]
    }
   ],
   "source": [
    "print(mantra)"
   ]
  },
  {
   "cell_type": "code",
   "execution_count": null,
   "id": "032ccba0-5ad4-4781-af1c-21cac2afca94",
   "metadata": {},
   "outputs": [],
   "source": []
  },
  {
   "cell_type": "code",
   "execution_count": null,
   "id": "8b44a6b2-424e-4110-b46e-91a74efd7686",
   "metadata": {},
   "outputs": [],
   "source": [
    "# 12. Find the first occurrence of a word in a string."
   ]
  },
  {
   "cell_type": "code",
   "execution_count": 86,
   "id": "759b106f-e5fe-4648-9722-a0fc5e6e5e46",
   "metadata": {},
   "outputs": [],
   "source": [
    "spiritual_declaration=\"One who all always sees all living all entities as spiritual sparks, in quality one with the Lord, becomes a true knower of things. What, then, can be illusion or anxiety for him?Everything animate or inanimate that is within the universe is controlled and owned by the Lord.\"\n"
   ]
  },
  {
   "cell_type": "code",
   "execution_count": 87,
   "id": "cd510fe8-a301-4cf6-a991-d0e933818988",
   "metadata": {},
   "outputs": [],
   "source": [
    "occurence=spiritual_declaration.index(\"all\",20)"
   ]
  },
  {
   "cell_type": "code",
   "execution_count": 88,
   "id": "f961fd2b-43ad-4a31-af23-2d8ba93b4ab1",
   "metadata": {},
   "outputs": [
    {
     "name": "stdout",
     "output_type": "stream",
     "text": [
      "24\n"
     ]
    }
   ],
   "source": [
    "print(occurence)"
   ]
  },
  {
   "cell_type": "code",
   "execution_count": null,
   "id": "2973cdc7-8e9c-46ca-acbb-3714d9b0f500",
   "metadata": {},
   "outputs": [],
   "source": []
  },
  {
   "cell_type": "code",
   "execution_count": null,
   "id": "7af66e09-9656-4988-aa78-721f495b2545",
   "metadata": {},
   "outputs": [],
   "source": [
    "# 13. Find the last occurrence of a word in a string."
   ]
  },
  {
   "cell_type": "code",
   "execution_count": 36,
   "id": "168e3602-2a89-48cb-a62e-9bfdff60e18e",
   "metadata": {},
   "outputs": [
    {
     "name": "stdout",
     "output_type": "stream",
     "text": [
      "The last index of t in the given string is 16\n"
     ]
    }
   ],
   "source": [
    "str1 = \"This is diffucult problem\"\n",
    "\n",
    "index = str1.rindex('t')\n",
    "print(\"The last index of t in the given string is\",index)"
   ]
  },
  {
   "cell_type": "code",
   "execution_count": 39,
   "id": "c17180b2-dfeb-42af-ba91-390c7fddcfe7",
   "metadata": {},
   "outputs": [],
   "source": [
    "# 14. Split a string into a list of words."
   ]
  },
  {
   "cell_type": "code",
   "execution_count": 49,
   "id": "2a7c8fd3-39c3-4577-8327-45b6165088db",
   "metadata": {},
   "outputs": [],
   "source": [
    "divine=\"The Supreme Lord walks and does not walk. He is far away, but He is very near as well. He is within everything, and yet He is outside of everything.\""
   ]
  },
  {
   "cell_type": "code",
   "execution_count": 50,
   "id": "fe7f8fa8-92b7-414c-b45b-28aa3d9ba553",
   "metadata": {},
   "outputs": [],
   "source": [
    "divine_sermon=divine.split()"
   ]
  },
  {
   "cell_type": "code",
   "execution_count": 51,
   "id": "a8abea84-5f84-4299-8f3b-fb0f8e170cc1",
   "metadata": {},
   "outputs": [
    {
     "name": "stdout",
     "output_type": "stream",
     "text": [
      "['The', 'Supreme', 'Lord', 'walks', 'and', 'does', 'not', 'walk.', 'He', 'is', 'far', 'away,', 'but', 'He', 'is', 'very', 'near', 'as', 'well.', 'He', 'is', 'within', 'everything,', 'and', 'yet', 'He', 'is', 'outside', 'of', 'everything.']\n"
     ]
    }
   ],
   "source": [
    "print(divine_sermon)"
   ]
  },
  {
   "cell_type": "code",
   "execution_count": null,
   "id": "475ebf0c-90f7-4607-9db7-d44ab0fd689e",
   "metadata": {},
   "outputs": [],
   "source": []
  },
  {
   "cell_type": "code",
   "execution_count": 54,
   "id": "ece1cdf8-4ff9-4bc1-b4ba-2164c60023bc",
   "metadata": {},
   "outputs": [],
   "source": [
    "# 15. Join a list of words into a string."
   ]
  },
  {
   "cell_type": "code",
   "execution_count": null,
   "id": "38ed2d67-ba3d-4ff4-9278-b7152d634b10",
   "metadata": {},
   "outputs": [],
   "source": []
  },
  {
   "cell_type": "code",
   "execution_count": 55,
   "id": "0ffd528e-be23-4f15-894a-499c144135d7",
   "metadata": {},
   "outputs": [
    {
     "name": "stdout",
     "output_type": "stream",
     "text": [
      "The Supreme Lord walks and does not walk. He is far away, but He is very near as well. He is within everything, and yet He is outside of everything.\n"
     ]
    }
   ],
   "source": [
    "sermon=['The', 'Supreme', 'Lord', 'walks', 'and', 'does', 'not', 'walk.', 'He', 'is', 'far', 'away,', 'but', 'He', 'is', 'very', 'near', 'as', 'well.', 'He', 'is', 'within', 'everything,', 'and', 'yet', 'He', 'is', 'outside', 'of', 'everything.']\n",
    "\n",
    "# join elements of sermon with space\n",
    "print(' '.join(sermon))\n",
    "\n",
    "# Output: The Supreme Lord walks and does not walk. He is far away, but He is very near as well. He is within everything, and yet He is outside of everything."
   ]
  },
  {
   "cell_type": "code",
   "execution_count": null,
   "id": "76de38bf-e1e3-47e1-bf8c-5f074ea5e489",
   "metadata": {},
   "outputs": [],
   "source": []
  },
  {
   "cell_type": "code",
   "execution_count": null,
   "id": "a336e45c-d54e-487d-bc27-c12419100c25",
   "metadata": {},
   "outputs": [],
   "source": [
    "# 16. Convert a string where words are separated by spaces to one where words\n",
    "# are separated by underscores."
   ]
  },
  {
   "cell_type": "code",
   "execution_count": 161,
   "id": "2a058d8a-b102-478f-8693-27abc910b3b9",
   "metadata": {},
   "outputs": [],
   "source": [
    "divine=\"The Supreme Lord walks and does not walk. He is far away, but He is very near as well. He is within everything, and yet He is outside of everything.\""
   ]
  },
  {
   "cell_type": "code",
   "execution_count": 162,
   "id": "b1149cfe-e440-4bf0-8be6-cd1e800cef6e",
   "metadata": {},
   "outputs": [],
   "source": [
    "supreme_divine=divine.replace(\" \",\"_\")"
   ]
  },
  {
   "cell_type": "code",
   "execution_count": 163,
   "id": "ee5d25dd-17a5-407f-a959-396964dc215d",
   "metadata": {},
   "outputs": [
    {
     "name": "stdout",
     "output_type": "stream",
     "text": [
      "The_Supreme_Lord_walks_and_does_not_walk._He_is_far_away,_but_He_is_very_near_as_well._He_is_within_everything,_and_yet_He_is_outside_of_everything.\n"
     ]
    }
   ],
   "source": [
    "print(supreme_divine)"
   ]
  },
  {
   "cell_type": "code",
   "execution_count": null,
   "id": "1b77c747-445a-4979-87c9-ee0a529ea40b",
   "metadata": {},
   "outputs": [],
   "source": []
  },
  {
   "cell_type": "code",
   "execution_count": null,
   "id": "fa06b89f-7455-46ca-bf1c-f7868548d0b8",
   "metadata": {},
   "outputs": [],
   "source": [
    "# 17. Check if a string starts with a specific word or phrase."
   ]
  },
  {
   "cell_type": "code",
   "execution_count": 58,
   "id": "5e3da94e-fce0-42a5-b7af-b6861bbe15e0",
   "metadata": {},
   "outputs": [
    {
     "name": "stdout",
     "output_type": "stream",
     "text": [
      "True\n"
     ]
    }
   ],
   "source": [
    "view= 'It is difficult'\n",
    "\n",
    "# check if the message starts with It\n",
    "print(view.startswith('It'))\n",
    "\n",
    "# Output: True"
   ]
  },
  {
   "cell_type": "code",
   "execution_count": null,
   "id": "71ea09c0-500b-4318-826f-9523f39afd8a",
   "metadata": {},
   "outputs": [],
   "source": []
  },
  {
   "cell_type": "code",
   "execution_count": null,
   "id": "7b3c1acc-f186-487e-ab46-cac19c189a15",
   "metadata": {},
   "outputs": [],
   "source": [
    "# 18. Check if a string ends with a specific word or phrase."
   ]
  },
  {
   "cell_type": "code",
   "execution_count": 60,
   "id": "a8baf216-d7a2-43d2-807a-cd40d1b59e08",
   "metadata": {},
   "outputs": [
    {
     "name": "stdout",
     "output_type": "stream",
     "text": [
      "True\n"
     ]
    }
   ],
   "source": [
    "view= 'It is difficult'\n",
    "\n",
    "# check if the message ends with difficult\n",
    "print(view.endswith('difficult'))\n",
    "\n",
    "# Output: True"
   ]
  },
  {
   "cell_type": "code",
   "execution_count": null,
   "id": "7afd7e69-7f5c-49d0-90f7-5a36cc4b3d71",
   "metadata": {},
   "outputs": [],
   "source": [
    "# 19. Convert a string to title case (e.g., \"hello world\" to \"Hello World\")."
   ]
  },
  {
   "cell_type": "code",
   "execution_count": 164,
   "id": "aee0c397-b7aa-4e4d-864f-e01980e8baca",
   "metadata": {},
   "outputs": [],
   "source": [
    "divine=\"The Supreme Lord walks and does not walk. He is far away, but He is very near as well. He is within everything, and yet He is outside of everything.\""
   ]
  },
  {
   "cell_type": "code",
   "execution_count": 165,
   "id": "b717f3d4-53fd-4308-8fc3-ac7c918ac813",
   "metadata": {},
   "outputs": [],
   "source": [
    "great_divine=divine.title()"
   ]
  },
  {
   "cell_type": "code",
   "execution_count": 166,
   "id": "4fe0b2e9-7f45-4f04-8a49-0ac0333a8a8b",
   "metadata": {},
   "outputs": [
    {
     "name": "stdout",
     "output_type": "stream",
     "text": [
      "The Supreme Lord Walks And Does Not Walk. He Is Far Away, But He Is Very Near As Well. He Is Within Everything, And Yet He Is Outside Of Everything.\n"
     ]
    }
   ],
   "source": [
    "print(great_divine)"
   ]
  },
  {
   "cell_type": "code",
   "execution_count": null,
   "id": "fc7d02db-c2d2-40a9-975f-549a71ea371b",
   "metadata": {},
   "outputs": [],
   "source": []
  },
  {
   "cell_type": "code",
   "execution_count": 61,
   "id": "e08748b0-c13d-4299-9de3-8599040dbc88",
   "metadata": {},
   "outputs": [],
   "source": [
    "# 20. Find the longest word in a string."
   ]
  },
  {
   "cell_type": "code",
   "execution_count": 46,
   "id": "071d3bc5-98c2-481a-a3c2-098125c63b93",
   "metadata": {},
   "outputs": [
    {
     "name": "stdout",
     "output_type": "stream",
     "text": [
      "important\n"
     ]
    }
   ],
   "source": [
    "\n",
    "# Function to print the longest\n",
    "# word in given sentence\n",
    "def largestWord(s):\n",
    " \n",
    "    # Sort the words in increasing\n",
    "    # order of their lengths\n",
    "    s = sorted(s, key = len)\n",
    " \n",
    "    # Print last word\n",
    "    print(s[-1])\n",
    " \n",
    " \n",
    "if __name__ == \"__main__\":\n",
    " \n",
    "    # Given string\n",
    "    s = \"Python is very important language\"\n",
    " \n",
    "    # Split the string into words\n",
    "    l = list(s.split(\" \"))\n",
    " \n",
    "    largestWord(l)"
   ]
  },
  {
   "cell_type": "code",
   "execution_count": null,
   "id": "89bd6cb3-e9d6-43ea-820e-2d6038804f1e",
   "metadata": {},
   "outputs": [],
   "source": []
  },
  {
   "cell_type": "code",
   "execution_count": null,
   "id": "5c61b0fa-2933-40a2-bea9-c1088e0b3e68",
   "metadata": {},
   "outputs": [],
   "source": [
    "# 21. Find the shortest word in a string."
   ]
  },
  {
   "cell_type": "code",
   "execution_count": 47,
   "id": "701d64a7-ba13-453f-b1d8-4b1217e2c615",
   "metadata": {},
   "outputs": [
    {
     "name": "stdout",
     "output_type": "stream",
     "text": [
      "Shortest word: is\n"
     ]
    }
   ],
   "source": [
    "def find_shortest_word(text):\n",
    "    # Step 1: Use the split() method to split the text into a list of words.\n",
    "    words = text.split()\n",
    "\n",
    "    # Step 2: Initialize variables to keep track of the shortest word and its length.\n",
    "    shortest_word = None\n",
    "    min_length = float('inf')  # Initialize to a large value\n",
    "\n",
    "    # Step 3: Iterate through the list of words.\n",
    "    for word in words:\n",
    "        # Check if the length of the current word is smaller than the current min_length.\n",
    "        if len(word) < min_length:\n",
    "            min_length = len(word)\n",
    "            shortest_word = word\n",
    "\n",
    "    # Step 4: Return the shortest word.\n",
    "    return shortest_word\n",
    "\n",
    "# Example usage\n",
    "text = \"This is an example sentence with some short words.\"\n",
    "shortest_word = find_shortest_word(text)\n",
    "print(\"Shortest word:\", shortest_word)"
   ]
  },
  {
   "cell_type": "code",
   "execution_count": null,
   "id": "257c3232-1df9-4e9e-ae01-c40c50975e19",
   "metadata": {},
   "outputs": [],
   "source": []
  },
  {
   "cell_type": "code",
   "execution_count": null,
   "id": "b809cb3a-3af0-45f3-95e1-f2a6b33aa66b",
   "metadata": {},
   "outputs": [],
   "source": [
    "# 22. Reverse the order of words in a string."
   ]
  },
  {
   "cell_type": "code",
   "execution_count": 87,
   "id": "6f5110ce-3d80-4616-be6f-34b947c11e71",
   "metadata": {},
   "outputs": [
    {
     "name": "stdout",
     "output_type": "stream",
     "text": [
      "Lord Supreme The\n"
     ]
    }
   ],
   "source": [
    "divine=\"The Supreme Lord\"\n",
    "text=divine.split()\n",
    "text=text[::-1]\n",
    "reversed_order=' '.join(text)\n",
    "print(reversed_order)"
   ]
  },
  {
   "cell_type": "code",
   "execution_count": null,
   "id": "0b3de513-b812-4c7f-986f-a0171da47319",
   "metadata": {},
   "outputs": [],
   "source": []
  },
  {
   "cell_type": "code",
   "execution_count": null,
   "id": "349f0fda-0117-4cd5-bc49-74a3d035b3af",
   "metadata": {},
   "outputs": [],
   "source": []
  },
  {
   "cell_type": "code",
   "execution_count": null,
   "id": "7b33eaa8-049f-4621-995f-d9f66d41bf5c",
   "metadata": {},
   "outputs": [],
   "source": []
  },
  {
   "cell_type": "code",
   "execution_count": 55,
   "id": "d57f9206-bcd3-4868-ae5f-fca5cd728a87",
   "metadata": {},
   "outputs": [],
   "source": []
  },
  {
   "cell_type": "code",
   "execution_count": 103,
   "id": "9fc45f7e-97aa-4318-a262-b702781e548f",
   "metadata": {},
   "outputs": [],
   "source": [
    "# 23. Check if a string is alphanumeric."
   ]
  },
  {
   "cell_type": "code",
   "execution_count": 3,
   "id": "e9216388-8884-4432-81e8-dcbad61f362e",
   "metadata": {},
   "outputs": [],
   "source": [
    "my_sentence=\"himalayas1200km\""
   ]
  },
  {
   "cell_type": "code",
   "execution_count": 4,
   "id": "f62f8184-50b4-46dd-8b50-753245dfa788",
   "metadata": {},
   "outputs": [
    {
     "name": "stdout",
     "output_type": "stream",
     "text": [
      "Yes, string is alphanumeric\n"
     ]
    }
   ],
   "source": [
    "if(my_sentence.isalnum()==True):\n",
    "    print(\"Yes, string is alphanumeric\")\n",
    "else:\n",
    "    print(\"No, string is not  alphanumeric\")\n",
    "#Note that space is counted as anti-alphanumeric"
   ]
  },
  {
   "cell_type": "code",
   "execution_count": null,
   "id": "acaff9f8-5165-4030-8850-3bca945b8d5d",
   "metadata": {},
   "outputs": [],
   "source": []
  },
  {
   "cell_type": "code",
   "execution_count": 106,
   "id": "095bf4d5-5e04-4579-8e36-45e68cd81ae5",
   "metadata": {},
   "outputs": [],
   "source": [
    "# 24. Extract all digits from a string."
   ]
  },
  {
   "cell_type": "code",
   "execution_count": 48,
   "id": "98616f89-7879-4572-a526-4b518940293a",
   "metadata": {},
   "outputs": [
    {
     "name": "stdout",
     "output_type": "stream",
     "text": [
      "Extracted digits: 123456\n"
     ]
    }
   ],
   "source": [
    "def extract_digits(text):\n",
    "    # Step 1: Initialize an empty string to store the extracted digits.\n",
    "    digits = \"\"\n",
    "\n",
    "    # Step 2: Iterate through each character in the text.\n",
    "    for char in text:\n",
    "        # Check if the character is a digit using the isdigit() method.\n",
    "        if char.isdigit():\n",
    "            # Append the digit to the digits string.\n",
    "            digits += char\n",
    "\n",
    "    # Step 3: Return the extracted digits.\n",
    "    return digits\n",
    "\n",
    "# Example usage\n",
    "text = \"Hello123World456\"\n",
    "extracted_digits = extract_digits(text)\n",
    "print(\"Extracted digits:\", extracted_digits)"
   ]
  },
  {
   "cell_type": "code",
   "execution_count": null,
   "id": "7cb14c06-c1f3-4ca5-8fb7-91d7ac266e49",
   "metadata": {},
   "outputs": [],
   "source": [
    "# 25. Extract all alphabets from a string."
   ]
  },
  {
   "cell_type": "code",
   "execution_count": 51,
   "id": "9e885101-a980-40b1-8cac-7892b1b4a5bb",
   "metadata": {},
   "outputs": [
    {
     "name": "stdout",
     "output_type": "stream",
     "text": [
      "H e l l o W o r l d\n"
     ]
    }
   ],
   "source": [
    "def extract_alphabets(input_string):\n",
    "    alphabets = ' '.join([char for char in input_string if char.isalpha()])\n",
    "    return alphabets\n",
    "\n",
    "# Example input string\n",
    "input_string = \"Hello123World456\"\n",
    "result = extract_alphabets(input_string)\n",
    "print(result)"
   ]
  },
  {
   "cell_type": "code",
   "execution_count": null,
   "id": "d07b64d1-a71a-4f6e-b725-0418d51e9ea9",
   "metadata": {},
   "outputs": [],
   "source": []
  },
  {
   "cell_type": "code",
   "execution_count": null,
   "id": "3feb40fc-a597-4f8d-a528-9241b1ee384c",
   "metadata": {},
   "outputs": [],
   "source": [
    "# 26. Count the number of uppercase letters in a string."
   ]
  },
  {
   "cell_type": "code",
   "execution_count": 52,
   "id": "d2c10fb7-3b9d-4aa1-bfff-15246c97c9fd",
   "metadata": {},
   "outputs": [
    {
     "name": "stdout",
     "output_type": "stream",
     "text": [
      "6\n"
     ]
    }
   ],
   "source": [
    "def count_uppercase(input_string):\n",
    "    uppercase_count = sum(1 for char in input_string if char.isupper())\n",
    "    return uppercase_count\n",
    "\n",
    "# Example input string\n",
    "input_string = \"HelloWORLD\"\n",
    "result = count_uppercase(input_string)\n",
    "print(result)"
   ]
  },
  {
   "cell_type": "code",
   "execution_count": null,
   "id": "53eb4e57-8314-4ae9-8d15-86960e3327f1",
   "metadata": {},
   "outputs": [],
   "source": []
  },
  {
   "cell_type": "code",
   "execution_count": null,
   "id": "ea5737c1-c8fe-4d68-ba7e-d6fd44a2be81",
   "metadata": {},
   "outputs": [],
   "source": [
    "### 27. Count the number of lowercase letters in a string."
   ]
  },
  {
   "cell_type": "code",
   "execution_count": 53,
   "id": "6f552cb5-95d7-4150-9e93-e111d8193c15",
   "metadata": {},
   "outputs": [
    {
     "name": "stdout",
     "output_type": "stream",
     "text": [
      "4\n"
     ]
    }
   ],
   "source": [
    "def count_lowercase(input_string):\n",
    "    lowercase_count = sum(1 for char in input_string if char.islower())\n",
    "    return lowercase_count\n",
    "\n",
    "# Example input string\n",
    "input_string = \"HelloWORLD\"\n",
    "result = count_lowercase(input_string)\n",
    "print(result)"
   ]
  },
  {
   "cell_type": "code",
   "execution_count": null,
   "id": "8c1be58f-c9ae-44df-941c-b64674070402",
   "metadata": {},
   "outputs": [],
   "source": []
  },
  {
   "cell_type": "code",
   "execution_count": null,
   "id": "444d7ac8-420f-4901-9088-484d6b5b9384",
   "metadata": {},
   "outputs": [],
   "source": [
    "### 28. Swap the case of each character in a string."
   ]
  },
  {
   "cell_type": "code",
   "execution_count": 54,
   "id": "dfd73171-3b63-4380-9af4-15a55b9ee0e6",
   "metadata": {},
   "outputs": [
    {
     "name": "stdout",
     "output_type": "stream",
     "text": [
      "hELLOworld\n"
     ]
    }
   ],
   "source": [
    "def swap_case(input_string):\n",
    "    swapped_string = input_string.swapcase()\n",
    "    return swapped_string\n",
    "\n",
    "# Example input string\n",
    "input_string = \"HelloWORLD\"\n",
    "result = swap_case(input_string)\n",
    "print(result)"
   ]
  },
  {
   "cell_type": "code",
   "execution_count": null,
   "id": "1d5776a1-af93-4f2a-ac50-57ca89e85799",
   "metadata": {},
   "outputs": [],
   "source": []
  },
  {
   "cell_type": "code",
   "execution_count": null,
   "id": "9105efac-69e1-4339-8d8a-c773872cacc7",
   "metadata": {},
   "outputs": [],
   "source": [
    "### 29. Remove a specific word from a string."
   ]
  },
  {
   "cell_type": "code",
   "execution_count": 55,
   "id": "8f33ee48-0ad6-4b90-9952-df4c61068297",
   "metadata": {},
   "outputs": [
    {
     "name": "stdout",
     "output_type": "stream",
     "text": [
      "Hello world, welcome to the of programming.\n"
     ]
    }
   ],
   "source": [
    "def remove_word(input_string, word_to_remove):\n",
    "    words = input_string.split()  # Split the input string into a list of words\n",
    "    filtered_words = [word for word in words if word != word_to_remove]  # Create a new list excluding the word to remove\n",
    "    modified_string = ' '.join(filtered_words)  # Join the filtered words back into a string\n",
    "    return modified_string\n",
    "\n",
    "# Example input string and word to remove\n",
    "input_string = \"Hello world, welcome to the world of programming.\"\n",
    "word_to_remove = \"world\"\n",
    "result = remove_word(input_string, word_to_remove)\n",
    "print(result)"
   ]
  },
  {
   "cell_type": "code",
   "execution_count": null,
   "id": "a8eecd47-fc11-47a6-9d26-db16deb7ccf6",
   "metadata": {},
   "outputs": [],
   "source": []
  },
  {
   "cell_type": "code",
   "execution_count": null,
   "id": "c53c272b-7ec5-41b7-9a6b-2c09034797a9",
   "metadata": {},
   "outputs": [],
   "source": [
    "### 30. Check if a string is a valid email address."
   ]
  },
  {
   "cell_type": "code",
   "execution_count": 56,
   "id": "ca700842-0dab-494e-9246-04ec48318781",
   "metadata": {},
   "outputs": [
    {
     "name": "stdout",
     "output_type": "stream",
     "text": [
      "True\n",
      "False\n"
     ]
    }
   ],
   "source": [
    "import re  # Import the regular expression module\n",
    "\n",
    "def is_valid_email(email):\n",
    "    pattern = r'^[\\w\\.-]+@[\\w\\.-]+\\.\\w+$'  # Regular expression pattern for a basic email validation\n",
    "    if re.match(pattern, email):\n",
    "        return True\n",
    "    else:\n",
    "        return False\n",
    "\n",
    "# Example email addresses\n",
    "email1 = \"example@email.com\"\n",
    "email2 = \"invalid-email\"\n",
    "result1 = is_valid_email(email1)\n",
    "result2 = is_valid_email(email2)\n",
    "print(result1)\n",
    "print(result2)"
   ]
  },
  {
   "cell_type": "code",
   "execution_count": null,
   "id": "3db3be14-83ba-4416-8842-9c859dcc59d2",
   "metadata": {},
   "outputs": [],
   "source": []
  },
  {
   "cell_type": "code",
   "execution_count": null,
   "id": "02ab761e-5d18-4434-a807-de3fc5ffb467",
   "metadata": {},
   "outputs": [],
   "source": [
    "### 31. Extract the username from an email address string."
   ]
  },
  {
   "cell_type": "code",
   "execution_count": 57,
   "id": "0dfc1fb7-d205-4855-b453-b6c0a2d73229",
   "metadata": {},
   "outputs": [
    {
     "name": "stdout",
     "output_type": "stream",
     "text": [
      "example\n"
     ]
    }
   ],
   "source": [
    "def extract_username(email):\n",
    "    username = email.split('@')[0]  # Split the email address at \"@\" and take the first part\n",
    "    return username\n",
    "\n",
    "# Example email address\n",
    "email = \"example@email.com\"\n",
    "result = extract_username(email)\n",
    "print(result)"
   ]
  },
  {
   "cell_type": "code",
   "execution_count": null,
   "id": "821ce15c-2145-4757-b3bf-fafc0781af1d",
   "metadata": {},
   "outputs": [],
   "source": []
  },
  {
   "cell_type": "code",
   "execution_count": null,
   "id": "069e24dd-d9ac-438c-a406-362738718c30",
   "metadata": {},
   "outputs": [],
   "source": [
    "### 32. Extract the domain name from an email address string."
   ]
  },
  {
   "cell_type": "code",
   "execution_count": 58,
   "id": "cf8d87d7-85c7-4c52-bf34-8b31bcf05867",
   "metadata": {},
   "outputs": [
    {
     "name": "stdout",
     "output_type": "stream",
     "text": [
      "email.com\n"
     ]
    }
   ],
   "source": [
    "def extract_domain(email):\n",
    "    domain = email.split('@')[1]  # Split the email address at \"@\" and take the second part\n",
    "    return domain\n",
    "\n",
    "# Example email address\n",
    "email = \"example@email.com\"\n",
    "result = extract_domain(email)\n",
    "print(result)"
   ]
  },
  {
   "cell_type": "code",
   "execution_count": null,
   "id": "1c9f23f0-1a9a-43b6-9cd9-18df8011b09a",
   "metadata": {},
   "outputs": [],
   "source": []
  },
  {
   "cell_type": "code",
   "execution_count": null,
   "id": "17f32962-2703-42e8-a5a1-5a721ed6dc7f",
   "metadata": {},
   "outputs": [],
   "source": [
    "### 33. Replace multiple spaces in a string with a single space."
   ]
  },
  {
   "cell_type": "code",
   "execution_count": 59,
   "id": "e79e7c7d-a2e1-4abe-9ebd-95f6b2ebd03f",
   "metadata": {},
   "outputs": [
    {
     "name": "stdout",
     "output_type": "stream",
     "text": [
      "Hello world! How are you?\n"
     ]
    }
   ],
   "source": [
    "def replace_multiple_spaces(input_string):\n",
    "    cleaned_string = ' '.join(input_string.split())  # Split the string at spaces and then join using a single space\n",
    "    return cleaned_string\n",
    "\n",
    "# Example input string with multiple spaces\n",
    "input_string = \"Hello     world!   How   are   you?\"\n",
    "result = replace_multiple_spaces(input_string)\n",
    "print(result)"
   ]
  },
  {
   "cell_type": "code",
   "execution_count": null,
   "id": "580d0ec4-add6-4259-84e9-28e4e3e14fd3",
   "metadata": {},
   "outputs": [],
   "source": []
  },
  {
   "cell_type": "code",
   "execution_count": null,
   "id": "b12d38cd-be0a-4adf-aa0c-276b94dabc0f",
   "metadata": {},
   "outputs": [],
   "source": [
    "### 34. Check if a string is a valid URL."
   ]
  },
  {
   "cell_type": "code",
   "execution_count": 60,
   "id": "3a27e877-970d-48de-a25f-4c4849b8b64d",
   "metadata": {},
   "outputs": [
    {
     "name": "stdout",
     "output_type": "stream",
     "text": [
      "True\n",
      "False\n"
     ]
    }
   ],
   "source": [
    "from urllib.parse import urlparse\n",
    "\n",
    "def is_valid_url(url):\n",
    "    try:\n",
    "        result = urlparse(url)\n",
    "        return all([result.scheme, result.netloc])  # Check if both scheme and netloc are present\n",
    "    except ValueError:\n",
    "        return False\n",
    "\n",
    "# Example URLs\n",
    "url1 = \"https://www.example.com\"\n",
    "url2 = \"invalid-url\"\n",
    "result1 = is_valid_url(url1)\n",
    "result2 = is_valid_url(url2)\n",
    "print(result1)  # Should print True\n",
    "print(result2)  # Should print False"
   ]
  },
  {
   "cell_type": "code",
   "execution_count": null,
   "id": "64a2f8ff-c7ae-475f-8ff3-0f9bc24cf29c",
   "metadata": {},
   "outputs": [],
   "source": []
  },
  {
   "cell_type": "code",
   "execution_count": null,
   "id": "0b7d7cb9-e7e1-4de2-a63a-84461e222041",
   "metadata": {},
   "outputs": [],
   "source": [
    "### 35. Extract the protocol (http or https) from a URL string."
   ]
  },
  {
   "cell_type": "code",
   "execution_count": 61,
   "id": "d2a838db-3069-4404-a5a9-b325b3e6e64d",
   "metadata": {},
   "outputs": [
    {
     "name": "stdout",
     "output_type": "stream",
     "text": [
      "Protocol 1: https\n",
      "Protocol 2: http\n",
      "Protocol 3: ftp\n"
     ]
    }
   ],
   "source": [
    "def extract_protocol(url):\n",
    "    # Find the index of the first occurrence of \"://\"\n",
    "    protocol_end = url.find(\"://\")\n",
    "\n",
    "    if protocol_end != -1:\n",
    "        # Extract the protocol from the URL\n",
    "        protocol = url[:protocol_end]\n",
    "        return protocol\n",
    "    else:\n",
    "        return None\n",
    "\n",
    "# Example URL strings\n",
    "url1 = \"https://www.example.com\"\n",
    "url2 = \"http://google.com\"\n",
    "url3 = \"ftp://ftp.example.com\"\n",
    "\n",
    "# Extract protocols\n",
    "protocol1 = extract_protocol(url1)\n",
    "protocol2 = extract_protocol(url2)\n",
    "protocol3 = extract_protocol(url3)\n",
    "\n",
    "# Print extracted protocols\n",
    "print(\"Protocol 1:\", protocol1)\n",
    "print(\"Protocol 2:\", protocol2)\n",
    "print(\"Protocol 3:\", protocol3)"
   ]
  },
  {
   "cell_type": "code",
   "execution_count": null,
   "id": "9d60064b-f1ee-4446-aa12-7e6f47c2f8f4",
   "metadata": {},
   "outputs": [],
   "source": []
  },
  {
   "cell_type": "code",
   "execution_count": null,
   "id": "18b06758-60a4-4535-99ac-7a8180042113",
   "metadata": {},
   "outputs": [],
   "source": [
    "### 36. Find the frequency of each character in a string."
   ]
  },
  {
   "cell_type": "code",
   "execution_count": 62,
   "id": "4c82a6b3-4e86-4320-92be-471695fa0181",
   "metadata": {},
   "outputs": [
    {
     "name": "stdout",
     "output_type": "stream",
     "text": [
      "Character: 'h', Frequency: 1\n",
      "Character: 'e', Frequency: 1\n",
      "Character: 'l', Frequency: 3\n",
      "Character: 'o', Frequency: 2\n",
      "Character: ' ', Frequency: 1\n",
      "Character: 'w', Frequency: 1\n",
      "Character: 'r', Frequency: 1\n",
      "Character: 'd', Frequency: 1\n"
     ]
    }
   ],
   "source": [
    "def character_frequency(input_string):\n",
    "    frequency = {}  # Create an empty dictionary to store character frequencies\n",
    "\n",
    "    for char in input_string:\n",
    "        if char in frequency:\n",
    "            frequency[char] += 1  # Increment the frequency count if the character is already in the dictionary\n",
    "        else:\n",
    "            frequency[char] = 1   # Initialize the frequency count to 1 if the character is not in the dictionary\n",
    "\n",
    "    return frequency\n",
    "\n",
    "# Example string\n",
    "input_str = \"hello world\"\n",
    "\n",
    "# Calculate character frequencies\n",
    "char_freq = character_frequency(input_str)\n",
    "\n",
    "# Print character frequencies\n",
    "for char, freq in char_freq.items():\n",
    "    print(f\"Character: '{char}', Frequency: {freq}\")"
   ]
  },
  {
   "cell_type": "code",
   "execution_count": null,
   "id": "c0273ac7-0a44-4043-91f0-e5fb02e2cfbc",
   "metadata": {},
   "outputs": [],
   "source": []
  },
  {
   "cell_type": "code",
   "execution_count": null,
   "id": "cc63eb89-7065-4d3a-a0cc-450f13e98a81",
   "metadata": {},
   "outputs": [],
   "source": [
    "### 37. Remove all punctuation from a string."
   ]
  },
  {
   "cell_type": "code",
   "execution_count": 63,
   "id": "2755f03a-126b-4610-a974-f791be57f40f",
   "metadata": {},
   "outputs": [
    {
     "name": "stdout",
     "output_type": "stream",
     "text": [
      "Original string: Hello, world! How's it going?\n",
      "Cleaned string: Hello world Hows it going\n"
     ]
    }
   ],
   "source": [
    "import string\n",
    "\n",
    "def remove_punctuation(input_string):\n",
    "    # Create a translation table to remove punctuation\n",
    "    translator = str.maketrans(\"\", \"\", string.punctuation)\n",
    "\n",
    "    # Use the translation table to remove punctuation from the input string\n",
    "    clean_string = input_string.translate(translator)\n",
    "\n",
    "    return clean_string\n",
    "\n",
    "# Example string with punctuation\n",
    "input_str = \"Hello, world! How's it going?\"\n",
    "\n",
    "# Remove punctuation\n",
    "cleaned_str = remove_punctuation(input_str)\n",
    "\n",
    "# Print the cleaned string\n",
    "print(\"Original string:\", input_str)\n",
    "print(\"Cleaned string:\", cleaned_str)"
   ]
  },
  {
   "cell_type": "code",
   "execution_count": null,
   "id": "227bfa6a-a63f-4262-9503-167420fb8145",
   "metadata": {},
   "outputs": [],
   "source": []
  },
  {
   "cell_type": "code",
   "execution_count": null,
   "id": "c0c88706-c4f1-4e34-bde3-027f5c034e28",
   "metadata": {},
   "outputs": [],
   "source": [
    "### 38. Check if a string contains only digits."
   ]
  },
  {
   "cell_type": "code",
   "execution_count": 64,
   "id": "6bfbb2b5-055d-4e21-8ffb-585bc2df78d7",
   "metadata": {},
   "outputs": [
    {
     "name": "stdout",
     "output_type": "stream",
     "text": [
      "'12345' contains only digits: True\n",
      "'Hello123' contains only digits: False\n",
      "'456.789' contains only digits: False\n"
     ]
    }
   ],
   "source": [
    "def contains_only_digits(input_string):\n",
    "    # Check if all characters in the string are digits\n",
    "    return input_string.isdigit()\n",
    "\n",
    "# Example strings\n",
    "string1 = \"12345\"\n",
    "string2 = \"Hello123\"\n",
    "string3 = \"456.789\"\n",
    "\n",
    "# Check if strings contain only digits\n",
    "result1 = contains_only_digits(string1)\n",
    "result2 = contains_only_digits(string2)\n",
    "result3 = contains_only_digits(string3)\n",
    "\n",
    "# Print the results\n",
    "print(f\"'{string1}' contains only digits:\", result1)\n",
    "print(f\"'{string2}' contains only digits:\", result2)\n",
    "print(f\"'{string3}' contains only digits:\", result3)"
   ]
  },
  {
   "cell_type": "code",
   "execution_count": null,
   "id": "25b11fb2-1e21-47f3-a107-83903fc03faf",
   "metadata": {},
   "outputs": [],
   "source": []
  },
  {
   "cell_type": "code",
   "execution_count": null,
   "id": "53826465-a0b9-48b1-bb3e-58181fdd5bfb",
   "metadata": {},
   "outputs": [],
   "source": [
    "### 39. Check if a string contains only alphabets."
   ]
  },
  {
   "cell_type": "code",
   "execution_count": 67,
   "id": "7e4614b9-a00a-430e-a498-bb4e7bd022ad",
   "metadata": {},
   "outputs": [
    {
     "name": "stdout",
     "output_type": "stream",
     "text": [
      "'Hello' contains only alphabets: True\n",
      "'Hello123' contains only alphabets: False\n",
      "'12345' contains only alphabets: False\n"
     ]
    }
   ],
   "source": [
    "def contains_only_alphabets(input_string):\n",
    "    # Check if all characters in the string are alphabetic\n",
    "    return input_string.isalpha()\n",
    "\n",
    "# Example strings\n",
    "string1 = \"Hello\"\n",
    "string2 = \"Hello123\"\n",
    "string3 = \"12345\"\n",
    "\n",
    "# Check if strings contain only alphabets\n",
    "result1 = contains_only_alphabets(string1)\n",
    "result2 = contains_only_alphabets(string2)\n",
    "result3 = contains_only_alphabets(string3)\n",
    "\n",
    "# Print the results\n",
    "print(f\"'{string1}' contains only alphabets:\", result1)\n",
    "print(f\"'{string2}' contains only alphabets:\", result2)\n",
    "print(f\"'{string3}' contains only alphabets:\", result3)"
   ]
  },
  {
   "cell_type": "code",
   "execution_count": null,
   "id": "0cd7e5a3-b134-45f2-b12e-50bd5729e828",
   "metadata": {},
   "outputs": [],
   "source": []
  },
  {
   "cell_type": "code",
   "execution_count": null,
   "id": "24f52736-f7ce-4eb8-91ab-73f32f1ec8db",
   "metadata": {},
   "outputs": [],
   "source": [
    "### 40. Convert a string to a list of characters."
   ]
  },
  {
   "cell_type": "code",
   "execution_count": 66,
   "id": "3b4c1576-52a4-4f6d-ba85-8bb62baba229",
   "metadata": {},
   "outputs": [
    {
     "name": "stdout",
     "output_type": "stream",
     "text": [
      "Original string: Hello, world!\n",
      "List of characters: ['H', 'e', 'l', 'l', 'o', ',', ' ', 'w', 'o', 'r', 'l', 'd', '!']\n"
     ]
    }
   ],
   "source": [
    "def string_to_list(input_string):\n",
    "    # Use list() constructor to convert the string to a list of characters\n",
    "    char_list = list(input_string)\n",
    "    return char_list\n",
    "\n",
    "# Example string\n",
    "input_str = \"Hello, world!\"\n",
    "\n",
    "# Convert the string to a list of characters\n",
    "char_list = string_to_list(input_str)\n",
    "\n",
    "# Print the list of characters\n",
    "print(\"Original string:\", input_str)\n",
    "print(\"List of characters:\", char_list)"
   ]
  },
  {
   "cell_type": "code",
   "execution_count": null,
   "id": "685f6f49-fe04-46d9-8254-aecb74e323f7",
   "metadata": {},
   "outputs": [],
   "source": []
  },
  {
   "cell_type": "code",
   "execution_count": null,
   "id": "60abb2f2-1aff-4230-a8ed-247ac4a566f8",
   "metadata": {},
   "outputs": [],
   "source": [
    "### 41. Check if two strings are anagrams."
   ]
  },
  {
   "cell_type": "code",
   "execution_count": 65,
   "id": "9c464fb0-b30f-46b9-bf30-72955c327460",
   "metadata": {},
   "outputs": [
    {
     "name": "stdout",
     "output_type": "stream",
     "text": [
      "'listen' and 'silent' are anagrams: True\n",
      "'hello' and 'world' are anagrams: False\n"
     ]
    }
   ],
   "source": [
    "def are_anagrams(str1, str2):\n",
    "    # Remove spaces and convert strings to lowercase for accurate comparison\n",
    "    str1 = str1.replace(\" \", \"\").lower()\n",
    "    str2 = str2.replace(\" \", \"\").lower()\n",
    "\n",
    "    # Sort the characters in both strings and compare\n",
    "    return sorted(str1) == sorted(str2)\n",
    "\n",
    "# Example strings\n",
    "string1 = \"listen\"\n",
    "string2 = \"silent\"\n",
    "string3 = \"hello\"\n",
    "string4 = \"world\"\n",
    "\n",
    "# Check if strings are anagrams\n",
    "result1 = are_anagrams(string1, string2)\n",
    "result2 = are_anagrams(string3, string4)\n",
    "\n",
    "# Print the results\n",
    "print(f\"'{string1}' and '{string2}' are anagrams:\", result1)\n",
    "print(f\"'{string3}' and '{string4}' are anagrams:\", result2)"
   ]
  },
  {
   "cell_type": "code",
   "execution_count": null,
   "id": "fd1b737a-17bb-403a-8135-ea1a08301c5e",
   "metadata": {},
   "outputs": [],
   "source": []
  },
  {
   "cell_type": "code",
   "execution_count": null,
   "id": "985cb576-d974-4821-bd62-802152270ae3",
   "metadata": {},
   "outputs": [],
   "source": [
    "### 42. Encode a string using a Caesar cipher."
   ]
  },
  {
   "cell_type": "code",
   "execution_count": 94,
   "id": "b59da66c-1e76-4080-9556-4ac348a30176",
   "metadata": {},
   "outputs": [
    {
     "name": "stdout",
     "output_type": "stream",
     "text": [
      "Encoded text: ehoor, zruog!\n"
     ]
    }
   ],
   "source": [
    "def caesar_cipher(text, shift):\n",
    "  \"\"\"\n",
    "  Encodes a string using a Caesar cipher.\n",
    "\n",
    "  Args:\n",
    "    text: The string to encode.\n",
    "    shift: The number of positions to shift each letter.\n",
    "\n",
    "  Returns:\n",
    "    The encoded string.\n",
    "  \"\"\"\n",
    "\n",
    "  # Initialize an empty string to store the encoded text.\n",
    "  encoded_text = \"\"\n",
    "\n",
    "  # Iterate through each character in the input text.\n",
    "  for char in text:\n",
    "    # Check if the character is alphabetic.\n",
    "    if char.isalpha():\n",
    "      # Calculate the encoded character's Unicode code point value by shifting it by the specified amount.\n",
    "      # Ensure the value wraps around within the lowercase alphabet range (a-z).\n",
    "      encoded_char = chr((ord(char) + shift - ord('a')) % 26 + ord('a'))\n",
    "    else:\n",
    "      # Keep non-alphabetic characters unchanged.\n",
    "      encoded_char = char\n",
    "\n",
    "    # Add the encoded character to the encoded text.\n",
    "    encoded_text += encoded_char\n",
    "\n",
    "  # Return the resulting encoded text.\n",
    "  return encoded_text\n",
    "\n",
    "# Define the input text and the shift value for encoding.\n",
    "text = \"Hello, world!\"\n",
    "shift = 3\n",
    "\n",
    "# Call the caesar_cipher function to encode the text using the specified shift.\n",
    "encoded_text = caesar_cipher(text, shift)\n",
    "\n",
    "# Print the encoded text.\n",
    "print(\"Encoded text:\", encoded_text)"
   ]
  },
  {
   "cell_type": "code",
   "execution_count": null,
   "id": "07cc6605-2f3a-442c-89ea-14f3dc56d78f",
   "metadata": {},
   "outputs": [],
   "source": []
  },
  {
   "cell_type": "code",
   "execution_count": null,
   "id": "20f26417-82d5-4306-b3db-2af18c46870a",
   "metadata": {},
   "outputs": [],
   "source": [
    "### 43. Decode a Caesar cipher encoded string."
   ]
  },
  {
   "cell_type": "code",
   "execution_count": 95,
   "id": "f828907c-edef-47c0-82f1-86081af28f32",
   "metadata": {},
   "outputs": [
    {
     "name": "stdout",
     "output_type": "stream",
     "text": [
      "Decoded text: ilmm, world!\n"
     ]
    }
   ],
   "source": [
    "# Define a function to decode a string using a Caesar cipher\n",
    "def caesar_cipher_decoder(text, shift):\n",
    "    \"\"\"\n",
    "    Decodes a string using a Caesar cipher.\n",
    "\n",
    "    Args:\n",
    "        text: The string to decode.\n",
    "        shift: The number of positions to shift each letter.\n",
    "\n",
    "    Returns:\n",
    "        The decoded string.\n",
    "    \"\"\"\n",
    "\n",
    "    # Initialize an empty string to store the decoded text\n",
    "    decoded_text = \"\"\n",
    "\n",
    "    # Loop through each character in the input text\n",
    "    for char in text:\n",
    "        # Check if the character is an alphabetic character\n",
    "        if char.isalpha():\n",
    "            # Calculate the decoded character using the shift value\n",
    "            decoded_char = chr((ord(char) - shift - ord('a')) % 26 + ord('a'))\n",
    "        else:\n",
    "            # If the character is not alphabetic, keep it unchanged\n",
    "            decoded_char = char\n",
    "\n",
    "        # Add the decoded character to the decoded text\n",
    "        decoded_text += decoded_char\n",
    "\n",
    "    # Return the fully decoded text\n",
    "    return decoded_text\n",
    "\n",
    "# Example input\n",
    "text = \"lopp, zruog!\"\n",
    "shift = 3\n",
    "\n",
    "# Call the caesar_cipher_decoder function to decode the input text\n",
    "decoded_text = caesar_cipher_decoder(text, shift)\n",
    "\n",
    "# Print the decoded text\n",
    "print(\"Decoded text:\", decoded_text)"
   ]
  },
  {
   "cell_type": "code",
   "execution_count": null,
   "id": "7187ca72-7540-4896-a428-24bc92dae590",
   "metadata": {},
   "outputs": [],
   "source": []
  },
  {
   "cell_type": "code",
   "execution_count": null,
   "id": "55506ab3-e377-47ba-abf0-10e89ec7f0db",
   "metadata": {},
   "outputs": [],
   "source": [
    "### 44. Find the most frequent word in a string."
   ]
  },
  {
   "cell_type": "code",
   "execution_count": 103,
   "id": "29148391-1d46-4fe0-aac6-d047bbc005e5",
   "metadata": {},
   "outputs": [
    {
     "name": "stdout",
     "output_type": "stream",
     "text": [
      "Most frequent word: hello\n"
     ]
    }
   ],
   "source": [
    "import re\n",
    "from collections import Counter\n",
    "\n",
    "def most_frequent_word(input_string):\n",
    "    # Remove punctuation and convert to lowercase\n",
    "    clean_string = re.sub(r'[^\\w\\s]', '', input_string).lower()\n",
    "\n",
    "    # Split the string into words\n",
    "    words = clean_string.split()\n",
    "\n",
    "    # Use Counter to count word frequencies\n",
    "    word_counter = Counter(words)\n",
    "\n",
    "    # Find the most common word\n",
    "    most_common_word = word_counter.most_common(1)[0][0] \n",
    "    return most_common_word\n",
    "\n",
    "# Example string\n",
    "input_str = \"Hello world, hello there! How's the world?\"\n",
    "\n",
    "# Find the most frequent word\n",
    "most_common = most_frequent_word(input_str)\n",
    "\n",
    "# Print the result\n",
    "print(\"Most frequent word:\", most_common)"
   ]
  },
  {
   "cell_type": "code",
   "execution_count": null,
   "id": "6266065b-e33d-4dea-803a-1be382a0abc7",
   "metadata": {},
   "outputs": [],
   "source": []
  },
  {
   "cell_type": "code",
   "execution_count": null,
   "id": "c10aadb1-fa17-4622-96cc-e523d0619398",
   "metadata": {},
   "outputs": [],
   "source": [
    "### 45. Find all unique words in a string."
   ]
  },
  {
   "cell_type": "code",
   "execution_count": 104,
   "id": "70e89d3b-1a23-4254-ad5c-1f8e1eea8157",
   "metadata": {},
   "outputs": [
    {
     "name": "stdout",
     "output_type": "stream",
     "text": [
      "Unique words: {'the', 'world', 'there', 'hows', 'hello'}\n"
     ]
    }
   ],
   "source": [
    "import re\n",
    "\n",
    "def unique_words(input_string):\n",
    "    # Remove punctuation and convert to lowercase\n",
    "    clean_string = re.sub(r'[^\\w\\s]', '', input_string).lower()\n",
    "\n",
    "    # Split the string into words and convert to a set for uniqueness\n",
    "    words = set(clean_string.split())\n",
    "\n",
    "    return words\n",
    "\n",
    "# Example string\n",
    "input_str = \"Hello world, hello there! How's the world?\"\n",
    "\n",
    "# Find unique words\n",
    "unique_word_set = unique_words(input_str)\n",
    "\n",
    "# Print the result\n",
    "print(\"Unique words:\", unique_word_set)"
   ]
  },
  {
   "cell_type": "code",
   "execution_count": null,
   "id": "bc4cbbc7-912c-4684-8ddb-7c2d3ffed7c3",
   "metadata": {},
   "outputs": [],
   "source": []
  },
  {
   "cell_type": "code",
   "execution_count": null,
   "id": "326b6291-a83b-461e-9fc6-e9a5a1531d63",
   "metadata": {},
   "outputs": [],
   "source": [
    "### 46. Count the number of syllables in a string."
   ]
  },
  {
   "cell_type": "code",
   "execution_count": 105,
   "id": "15cb8165-7fc7-4108-95e2-baa6c601953c",
   "metadata": {},
   "outputs": [
    {
     "name": "stdout",
     "output_type": "stream",
     "text": [
      "'hello' has 2 syllables.\n",
      "'banana' has 3 syllables.\n",
      "'syllable' has 3 syllables.\n"
     ]
    }
   ],
   "source": [
    "import re\n",
    "\n",
    "def count_syllables(word):\n",
    "    # Count vowel groups using regular expression\n",
    "    vowel_groups = re.findall(r'[aeiouy]+', word, re.IGNORECASE)\n",
    "\n",
    "    return len(vowel_groups)\n",
    "\n",
    "# Example words\n",
    "word1 = \"hello\"\n",
    "word2 = \"banana\"\n",
    "word3 = \"syllable\"\n",
    "\n",
    "# Count syllables\n",
    "syllables1 = count_syllables(word1)\n",
    "syllables2 = count_syllables(word2)\n",
    "syllables3 = count_syllables(word3)\n",
    "\n",
    "# Print the results\n",
    "print(f\"'{word1}' has {syllables1} syllables.\")\n",
    "print(f\"'{word2}' has {syllables2} syllables.\")\n",
    "print(f\"'{word3}' has {syllables3} syllables.\")"
   ]
  },
  {
   "cell_type": "code",
   "execution_count": null,
   "id": "b8fa77b1-63f2-448f-af08-8c3e0f97b4d1",
   "metadata": {},
   "outputs": [],
   "source": []
  },
  {
   "cell_type": "code",
   "execution_count": null,
   "id": "a7105bc6-5b66-46d0-b8f4-6dc96f4c347e",
   "metadata": {},
   "outputs": [],
   "source": [
    "### 47. Check if a string contains any special characters."
   ]
  },
  {
   "cell_type": "code",
   "execution_count": 106,
   "id": "2377023b-9121-49a2-ab85-1d8801f098c0",
   "metadata": {},
   "outputs": [
    {
     "name": "stdout",
     "output_type": "stream",
     "text": [
      "'Hello, world!' contains special characters: True\n",
      "'This is a test.' contains special characters: True\n",
      "'Special@Characters' contains special characters: True\n"
     ]
    }
   ],
   "source": [
    "import re\n",
    "\n",
    "def contains_special_characters(input_string):\n",
    "    # Define a regular expression pattern to match special characters\n",
    "    pattern = re.compile(r'[!@#$%^&*()_+{}\\[\\]:;<>,.?~\\\\/]')\n",
    "\n",
    "    # Use the search() method to find a match\n",
    "    match = pattern.search(input_string)\n",
    "\n",
    "    # Return True if a match is found, False otherwise\n",
    "    return bool(match)\n",
    "\n",
    "# Example strings\n",
    "string1 = \"Hello, world!\"\n",
    "string2 = \"This is a test.\"\n",
    "string3 = \"Special@Characters\"\n",
    "\n",
    "# Check if strings contain special characters\n",
    "result1 = contains_special_characters(string1)\n",
    "result2 = contains_special_characters(string2)\n",
    "result3 = contains_special_characters(string3)\n",
    "\n",
    "# Print the results\n",
    "print(f\"'{string1}' contains special characters:\", result1)\n",
    "print(f\"'{string2}' contains special characters:\", result2)\n",
    "print(f\"'{string3}' contains special characters:\", result3)"
   ]
  },
  {
   "cell_type": "code",
   "execution_count": null,
   "id": "3486b514-f5cf-45ef-8de5-8de0f3f66a9c",
   "metadata": {},
   "outputs": [],
   "source": []
  },
  {
   "cell_type": "code",
   "execution_count": null,
   "id": "df8bcac2-5cb3-4163-94a2-7e4314ba7b18",
   "metadata": {},
   "outputs": [],
   "source": [
    "### 48. Remove the nth word from a string."
   ]
  },
  {
   "cell_type": "code",
   "execution_count": 107,
   "id": "64b66dc0-c87e-4b7d-8e20-061e7cc85e6e",
   "metadata": {},
   "outputs": [
    {
     "name": "stdout",
     "output_type": "stream",
     "text": [
      "Original string: This is an example sentence to test the function.\n",
      "Modified string: This is an sentence to test the function.\n",
      "Removed word: example\n"
     ]
    }
   ],
   "source": [
    "def remove_nth_word(input_string, n):\n",
    "    # Split the input string into words\n",
    "    words = input_string.split()\n",
    "\n",
    "    # Check if n is within a valid range\n",
    "    if n >= 1 and n <= len(words):\n",
    "        # Remove the nth word by excluding it from the words list\n",
    "        removed_word = words.pop(n - 1)\n",
    "\n",
    "        # Join the remaining words to form the modified string\n",
    "        modified_string = ' '.join(words)\n",
    "\n",
    "        return modified_string, removed_word\n",
    "    else:\n",
    "        return None, None\n",
    "\n",
    "# Example string and n value\n",
    "input_str = \"This is an example sentence to test the function.\"\n",
    "n_value = 4\n",
    "\n",
    "# Remove the nth word\n",
    "modified_str, removed_word = remove_nth_word(input_str, n_value)\n",
    "\n",
    "# Print the results\n",
    "print(\"Original string:\", input_str)\n",
    "if modified_str is not None:\n",
    "    print(\"Modified string:\", modified_str)\n",
    "    print(\"Removed word:\", removed_word)\n",
    "else:\n",
    "    print(\"Invalid n value.\")"
   ]
  },
  {
   "cell_type": "code",
   "execution_count": null,
   "id": "86ad4ac7-7dee-406a-98bb-fff4114219df",
   "metadata": {},
   "outputs": [],
   "source": []
  },
  {
   "cell_type": "code",
   "execution_count": null,
   "id": "c2362f95-6cbe-4c12-8ed6-a6e775dcaee8",
   "metadata": {},
   "outputs": [],
   "source": [
    "### 49. Insert a word at the nth position in a string."
   ]
  },
  {
   "cell_type": "code",
   "execution_count": null,
   "id": "4c3e5a1f-8465-4818-b7b0-d439e6ec1ef1",
   "metadata": {},
   "outputs": [],
   "source": []
  },
  {
   "cell_type": "code",
   "execution_count": 11,
   "id": "08780b29-65e9-49db-aed7-bb4b5a75780e",
   "metadata": {},
   "outputs": [
    {
     "name": "stdout",
     "output_type": "stream",
     "text": [
      "Thou-art-thee\n"
     ]
    }
   ],
   "source": [
    "string=\"Thou-art-\"\n",
    "a=string.split()\n",
    "n=len(a)\n",
    "a.insert(n,\"thee\")\n",
    "inserted_string=\"\".join(a)\n",
    "print(inserted_string)"
   ]
  },
  {
   "cell_type": "code",
   "execution_count": null,
   "id": "754d928d-3117-4bd8-aa8e-6be06f4d1576",
   "metadata": {},
   "outputs": [],
   "source": []
  },
  {
   "cell_type": "code",
   "execution_count": null,
   "id": "ad0204d3-6210-4be3-af6b-9c09bfe5fbff",
   "metadata": {},
   "outputs": [],
   "source": []
  },
  {
   "cell_type": "code",
   "execution_count": 10,
   "id": "e50768c3-08a2-4d9a-8024-18ee1b404df5",
   "metadata": {},
   "outputs": [
    {
     "data": {
      "text/plain": [
       "'Thou-art-'"
      ]
     },
     "execution_count": 10,
     "metadata": {},
     "output_type": "execute_result"
    }
   ],
   "source": []
  },
  {
   "cell_type": "code",
   "execution_count": 5,
   "id": "2d2d2679-13e2-4a2b-97a6-34f70cccc348",
   "metadata": {},
   "outputs": [],
   "source": [
    "### 50. Convert a CSV string to a list of lists."
   ]
  },
  {
   "cell_type": "code",
   "execution_count": 108,
   "id": "91ed49c4-7201-4b11-825b-11b78c47972c",
   "metadata": {},
   "outputs": [
    {
     "name": "stdout",
     "output_type": "stream",
     "text": [
      "['Name', ' Age', ' Country']\n",
      "['John', ' 25', ' USA']\n",
      "['Alice', ' 30', ' Canada']\n",
      "['Bob', ' 22', ' UK']\n"
     ]
    }
   ],
   "source": [
    "def csv_string_to_list(csv_string):\n",
    "    # Split the CSV string into lines\n",
    "    lines = csv_string.split('\\n')\n",
    "\n",
    "    # Initialize an empty list to store the result\n",
    "    result = []\n",
    "\n",
    "    for line in lines:\n",
    "        # Split each line into fields using comma as the delimiter\n",
    "        fields = line.split(',')\n",
    "\n",
    "        # Append the fields to the result list as a row\n",
    "        result.append(fields)\n",
    "\n",
    "    return result\n",
    "\n",
    "# Example CSV string\n",
    "csv_data = \"Name, Age, Country\\nJohn, 25, USA\\nAlice, 30, Canada\\nBob, 22, UK\"\n",
    "\n",
    "# Convert CSV string to a list of lists\n",
    "list_of_lists = csv_string_to_list(csv_data)\n",
    "\n",
    "# Print the result\n",
    "for row in list_of_lists:\n",
    "    print(row)"
   ]
  },
  {
   "cell_type": "code",
   "execution_count": null,
   "id": "60b55997-4093-4a93-bb66-eb2ca0539638",
   "metadata": {},
   "outputs": [],
   "source": []
  },
  {
   "cell_type": "code",
   "execution_count": null,
   "id": "25bfe5b1-278a-453b-ac28-79671063ba60",
   "metadata": {},
   "outputs": [],
   "source": [
    "# List Based Practice Problem :"
   ]
  },
  {
   "cell_type": "code",
   "execution_count": null,
   "id": "59c87ab1-9f8e-467b-987a-1501b99769ee",
   "metadata": {},
   "outputs": [],
   "source": [
    "# 1. Create a list with integers from 1 to 10."
   ]
  },
  {
   "cell_type": "code",
   "execution_count": 161,
   "id": "bf17e8cb-08f9-487f-b539-91489142370e",
   "metadata": {},
   "outputs": [],
   "source": [
    "l=[]\n",
    "for i in range(1,11):\n",
    "    l.append(i)"
   ]
  },
  {
   "cell_type": "code",
   "execution_count": 162,
   "id": "63aff7c2-0bb1-47fc-abd6-38bf0f1d2ac9",
   "metadata": {},
   "outputs": [
    {
     "name": "stdout",
     "output_type": "stream",
     "text": [
      "[1, 2, 3, 4, 5, 6, 7, 8, 9, 10]\n"
     ]
    }
   ],
   "source": [
    "print(l)"
   ]
  },
  {
   "cell_type": "code",
   "execution_count": null,
   "id": "d212a642-9d88-4c8c-ab0e-20f4076060fb",
   "metadata": {},
   "outputs": [],
   "source": []
  },
  {
   "cell_type": "code",
   "execution_count": null,
   "id": "c224522f-578c-403f-bcb2-914b76c8256f",
   "metadata": {},
   "outputs": [],
   "source": [
    "# 2. Find the length of a list without using the `len()` function."
   ]
  },
  {
   "cell_type": "code",
   "execution_count": 12,
   "id": "869ac2fe-5d16-4268-8fc9-1dc87efd5ab0",
   "metadata": {},
   "outputs": [
    {
     "name": "stdout",
     "output_type": "stream",
     "text": [
      "Length of the list: 5\n"
     ]
    }
   ],
   "source": [
    "def custom_len(input_list):\n",
    "    count = 0\n",
    "    for _ in input_list:\n",
    "        count += 1\n",
    "    return count\n",
    "\n",
    "# Example list\n",
    "my_list = [10, 20, 30, 40, 50]\n",
    "\n",
    "# Find the length of the list using the custom_len function\n",
    "length = custom_len(my_list)\n",
    "\n",
    "# Print the length of the list\n",
    "print(\"Length of the list:\", length)"
   ]
  },
  {
   "cell_type": "code",
   "execution_count": null,
   "id": "6d7cc840-3f0b-4eb5-af60-cfa7be3226fb",
   "metadata": {},
   "outputs": [],
   "source": []
  },
  {
   "cell_type": "code",
   "execution_count": null,
   "id": "7f2eb56f-21ed-42f8-a8b3-d087f94da288",
   "metadata": {},
   "outputs": [],
   "source": []
  },
  {
   "cell_type": "code",
   "execution_count": null,
   "id": "1bbdade8-5f2c-4ed7-b8e0-3843238b8ede",
   "metadata": {},
   "outputs": [],
   "source": [
    "# 3. Append an element to the end of a list."
   ]
  },
  {
   "cell_type": "code",
   "execution_count": 173,
   "id": "2a5589f4-0714-49bf-af1c-d2b61a2f773f",
   "metadata": {},
   "outputs": [],
   "source": [
    "simple_list=[1,2,34,45,5]"
   ]
  },
  {
   "cell_type": "code",
   "execution_count": 174,
   "id": "a63e324f-f7f9-48b8-95bb-2b898b797583",
   "metadata": {},
   "outputs": [],
   "source": [
    "simple_list.append(\"element\")"
   ]
  },
  {
   "cell_type": "code",
   "execution_count": 175,
   "id": "94225928-a8db-42e5-ba24-f1d72aaf66db",
   "metadata": {},
   "outputs": [
    {
     "data": {
      "text/plain": [
       "[1, 2, 34, 45, 5, 'element']"
      ]
     },
     "execution_count": 175,
     "metadata": {},
     "output_type": "execute_result"
    }
   ],
   "source": [
    "simple_list"
   ]
  },
  {
   "cell_type": "code",
   "execution_count": null,
   "id": "ba2001ff-e5ce-4e24-bac5-d046d50b1137",
   "metadata": {},
   "outputs": [],
   "source": [
    "# 4. Insert an element at a specific index in a list."
   ]
  },
  {
   "cell_type": "code",
   "execution_count": 176,
   "id": "41907349-1f42-4efd-8342-0aeb40b614fd",
   "metadata": {},
   "outputs": [],
   "source": [
    "spiritual=[\"Saint\",\"Devotion\",\"Meditation\"]"
   ]
  },
  {
   "cell_type": "code",
   "execution_count": 177,
   "id": "785d976f-3d26-4941-91af-830e7bccb604",
   "metadata": {},
   "outputs": [],
   "source": [
    "spiritual.insert(1,\"enlightened\")"
   ]
  },
  {
   "cell_type": "code",
   "execution_count": 178,
   "id": "8512e948-7c06-4a69-acd5-3a8a02e8ee00",
   "metadata": {},
   "outputs": [
    {
     "data": {
      "text/plain": [
       "['Saint', 'enlightened', 'Devotion', 'Meditation']"
      ]
     },
     "execution_count": 178,
     "metadata": {},
     "output_type": "execute_result"
    }
   ],
   "source": [
    "spiritual"
   ]
  },
  {
   "cell_type": "code",
   "execution_count": null,
   "id": "81da3f46-7147-4ce4-a24b-19eb5f78c208",
   "metadata": {},
   "outputs": [],
   "source": []
  },
  {
   "cell_type": "code",
   "execution_count": null,
   "id": "3b2a5c88-7116-47de-8766-ea519a1fa116",
   "metadata": {},
   "outputs": [],
   "source": [
    "# 5. Remove an element from a list by its value."
   ]
  },
  {
   "cell_type": "code",
   "execution_count": 182,
   "id": "2e15faa5-ba9f-4250-b40e-97fbac7a6a8e",
   "metadata": {},
   "outputs": [],
   "source": [
    "material=[\"senses\",\"pleasures\",\"sin\"]"
   ]
  },
  {
   "cell_type": "code",
   "execution_count": 183,
   "id": "e708c147-ab29-4829-8698-442bcbddb649",
   "metadata": {},
   "outputs": [],
   "source": [
    "material.remove(\"sin\")"
   ]
  },
  {
   "cell_type": "code",
   "execution_count": 184,
   "id": "b2266ebd-9360-40d5-b3c3-e794202cf5aa",
   "metadata": {},
   "outputs": [
    {
     "data": {
      "text/plain": [
       "['senses', 'pleasures']"
      ]
     },
     "execution_count": 184,
     "metadata": {},
     "output_type": "execute_result"
    }
   ],
   "source": [
    "material"
   ]
  },
  {
   "cell_type": "code",
   "execution_count": null,
   "id": "91cd77ef-2ec4-4e8d-ae15-68a2adf8b5c6",
   "metadata": {},
   "outputs": [],
   "source": []
  },
  {
   "cell_type": "code",
   "execution_count": null,
   "id": "797773d2-a989-498c-a4fb-a361639cb8aa",
   "metadata": {},
   "outputs": [],
   "source": [
    "# 6. Remove an element from a list by its index."
   ]
  },
  {
   "cell_type": "code",
   "execution_count": 8,
   "id": "f3b80292-66c3-4ba8-98d4-1b7d9d2fd40e",
   "metadata": {},
   "outputs": [],
   "source": [
    "material=[\"senses\",\"pleasures\",\"sin\"]"
   ]
  },
  {
   "cell_type": "code",
   "execution_count": 9,
   "id": "6ba749d1-29dd-4ef5-901c-fc454b521f79",
   "metadata": {},
   "outputs": [],
   "source": [
    "material.remove(material[0])"
   ]
  },
  {
   "cell_type": "code",
   "execution_count": 10,
   "id": "3802d3a6-fb7c-4285-a218-02cf5675ef69",
   "metadata": {},
   "outputs": [
    {
     "data": {
      "text/plain": [
       "['pleasures', 'sin']"
      ]
     },
     "execution_count": 10,
     "metadata": {},
     "output_type": "execute_result"
    }
   ],
   "source": [
    "material"
   ]
  },
  {
   "cell_type": "code",
   "execution_count": null,
   "id": "601fb61f-373c-47d8-ab44-f59cabff7c5c",
   "metadata": {},
   "outputs": [],
   "source": []
  },
  {
   "cell_type": "code",
   "execution_count": null,
   "id": "c0c4df38-d268-47e6-94fb-3a1985e25eec",
   "metadata": {},
   "outputs": [],
   "source": [
    "# 7. Check if an element exists in a list."
   ]
  },
  {
   "cell_type": "code",
   "execution_count": 13,
   "id": "27012161-61eb-4fe3-adb1-fd838617e300",
   "metadata": {},
   "outputs": [
    {
     "name": "stdin",
     "output_type": "stream",
     "text": [
      "Enter the word: go\n"
     ]
    },
    {
     "name": "stdout",
     "output_type": "stream",
     "text": [
      "element doesn't exists in a list.\n"
     ]
    }
   ],
   "source": [
    "material=[\"senses\",\"pleasures\",\"sin\"]\n",
    "word=input(\"Enter the word:\")\n",
    "if word in material:\n",
    "    print(\"element exists in a list.\")\n",
    "else:\n",
    "    print(\"element doesn't exists in a list.\")"
   ]
  },
  {
   "cell_type": "code",
   "execution_count": null,
   "id": "7e0d0723-4934-44c1-9d1e-09349326ec67",
   "metadata": {},
   "outputs": [],
   "source": []
  },
  {
   "cell_type": "code",
   "execution_count": null,
   "id": "bf0b446b-d3a3-4f75-936a-1708c3b97bfa",
   "metadata": {},
   "outputs": [],
   "source": [
    "# 8. Find the index of the first occurrence of an element in a list."
   ]
  },
  {
   "cell_type": "code",
   "execution_count": 16,
   "id": "40fde14e-b43b-49ac-af75-932251b698b6",
   "metadata": {},
   "outputs": [
    {
     "data": {
      "text/plain": [
       "0"
      ]
     },
     "execution_count": 16,
     "metadata": {},
     "output_type": "execute_result"
    }
   ],
   "source": [
    "material=[\"senses\",\"pleasures\",\"sin\",\"senses\"]\n",
    "material.index(\"senses\")"
   ]
  },
  {
   "cell_type": "code",
   "execution_count": null,
   "id": "0e27eb3c-e661-42bc-acc0-4c863ba7eba4",
   "metadata": {},
   "outputs": [],
   "source": []
  },
  {
   "cell_type": "code",
   "execution_count": null,
   "id": "5019332d-4e8b-40d6-a52c-33ecf40493d2",
   "metadata": {},
   "outputs": [],
   "source": [
    "# 9. Count the occurrences of an element in a list."
   ]
  },
  {
   "cell_type": "code",
   "execution_count": 17,
   "id": "63539984-7d1e-482c-9b65-551e176b623e",
   "metadata": {},
   "outputs": [
    {
     "data": {
      "text/plain": [
       "2"
      ]
     },
     "execution_count": 17,
     "metadata": {},
     "output_type": "execute_result"
    }
   ],
   "source": [
    "material=[\"senses\",\"pleasures\",\"sin\",\"senses\"]\n",
    "material.count(\"senses\")"
   ]
  },
  {
   "cell_type": "code",
   "execution_count": null,
   "id": "401a80e9-9a66-4859-858a-11284f7ffa1c",
   "metadata": {},
   "outputs": [],
   "source": []
  },
  {
   "cell_type": "code",
   "execution_count": null,
   "id": "1ed88a4a-e252-4cbd-95aa-a7f313aa5f60",
   "metadata": {},
   "outputs": [],
   "source": [
    "# 10. Reverse the order of elements in a list."
   ]
  },
  {
   "cell_type": "code",
   "execution_count": 30,
   "id": "c7bd57e5-3312-40d3-b3e8-461965eab1fb",
   "metadata": {},
   "outputs": [],
   "source": [
    "material=[\"senses\",\"pleasures\",\"sin\",\"grief\"]"
   ]
  },
  {
   "cell_type": "code",
   "execution_count": 31,
   "id": "e5f55044-63cc-4a2c-9821-f41173ca2ef6",
   "metadata": {},
   "outputs": [],
   "source": [
    "material=material[::-1]"
   ]
  },
  {
   "cell_type": "code",
   "execution_count": 32,
   "id": "405e37d3-15a3-48d1-9da6-760c6d7cca81",
   "metadata": {},
   "outputs": [
    {
     "data": {
      "text/plain": [
       "['grief', 'sin', 'pleasures', 'senses']"
      ]
     },
     "execution_count": 32,
     "metadata": {},
     "output_type": "execute_result"
    }
   ],
   "source": [
    "material"
   ]
  },
  {
   "cell_type": "code",
   "execution_count": null,
   "id": "a1f3ac2c-0f16-4b22-abd1-c6c043c75950",
   "metadata": {},
   "outputs": [],
   "source": [
    "# 11. Sort a list in ascending order."
   ]
  },
  {
   "cell_type": "code",
   "execution_count": 36,
   "id": "e9bd2d1a-cb5c-477c-9ab2-9ed7d8df3a44",
   "metadata": {},
   "outputs": [],
   "source": [
    "material=[\"senses\",\"pleasures\",\"sin\",\"grief\"]"
   ]
  },
  {
   "cell_type": "code",
   "execution_count": 37,
   "id": "3a8789e7-dc7e-41c8-ba58-03cb8e05ef37",
   "metadata": {},
   "outputs": [],
   "source": [
    "material.sort()"
   ]
  },
  {
   "cell_type": "code",
   "execution_count": 38,
   "id": "8a21fd7e-0d88-4c9e-b7e4-6b7721740823",
   "metadata": {},
   "outputs": [
    {
     "data": {
      "text/plain": [
       "['grief', 'pleasures', 'senses', 'sin']"
      ]
     },
     "execution_count": 38,
     "metadata": {},
     "output_type": "execute_result"
    }
   ],
   "source": [
    "material"
   ]
  },
  {
   "cell_type": "code",
   "execution_count": null,
   "id": "fbf37677-1588-4003-837c-807ae3477b20",
   "metadata": {},
   "outputs": [],
   "source": []
  },
  {
   "cell_type": "code",
   "execution_count": null,
   "id": "c860ac82-31b4-4cd4-9baa-4d8a53fa054d",
   "metadata": {},
   "outputs": [],
   "source": [
    "# 12. Sort a list in descending order."
   ]
  },
  {
   "cell_type": "code",
   "execution_count": 39,
   "id": "7eeb6039-6bca-47ff-983f-348e3e5ab4ea",
   "metadata": {},
   "outputs": [],
   "source": [
    "material=[\"senses\",\"pleasures\",\"sin\",\"grief\"]"
   ]
  },
  {
   "cell_type": "code",
   "execution_count": 40,
   "id": "7846ea24-59b7-492e-a384-d3adb76457e6",
   "metadata": {},
   "outputs": [],
   "source": [
    "material.sort(reverse=True)"
   ]
  },
  {
   "cell_type": "code",
   "execution_count": 41,
   "id": "1ffd44c8-5faa-43e9-876d-90f1c04f4eb6",
   "metadata": {},
   "outputs": [
    {
     "data": {
      "text/plain": [
       "['sin', 'senses', 'pleasures', 'grief']"
      ]
     },
     "execution_count": 41,
     "metadata": {},
     "output_type": "execute_result"
    }
   ],
   "source": [
    "material"
   ]
  },
  {
   "cell_type": "code",
   "execution_count": null,
   "id": "e0cc2817-d303-434d-8294-2e7f0b7d19a3",
   "metadata": {},
   "outputs": [],
   "source": []
  },
  {
   "cell_type": "code",
   "execution_count": null,
   "id": "1cee8f1c-bae9-4aed-bede-01e83dd7615d",
   "metadata": {},
   "outputs": [],
   "source": [
    "# 13. Create a list of even numbers from 1 to 20."
   ]
  },
  {
   "cell_type": "code",
   "execution_count": 60,
   "id": "f757d3c5-659f-48f0-837d-7599c9a70e2f",
   "metadata": {},
   "outputs": [
    {
     "name": "stdout",
     "output_type": "stream",
     "text": [
      "[2, 4, 6, 8, 10, 12, 14, 16, 18, 20]\n"
     ]
    }
   ],
   "source": [
    "# for(num1=1;num=2*(num1);num+=1):\n",
    "    \n",
    "numbers=[] \n",
    "for i in range(1,11):\n",
    "      \n",
    "    num=2*i\n",
    "    numbers.append(num)\n",
    "print(numbers)"
   ]
  },
  {
   "cell_type": "code",
   "execution_count": null,
   "id": "7e16b081-026e-4291-a66d-de88a4739fe2",
   "metadata": {},
   "outputs": [],
   "source": []
  },
  {
   "cell_type": "code",
   "execution_count": null,
   "id": "abb12588-1ebd-4712-916d-cfc3517c32aa",
   "metadata": {},
   "outputs": [],
   "source": []
  },
  {
   "cell_type": "code",
   "execution_count": null,
   "id": "abe9a7fa-2259-4545-80ae-de73dad02c97",
   "metadata": {},
   "outputs": [],
   "source": []
  },
  {
   "cell_type": "code",
   "execution_count": null,
   "id": "ef53dd0d-7eed-4a1c-9c9d-ab8da14a15f1",
   "metadata": {},
   "outputs": [],
   "source": [
    "# 14. Create a list of odd numbers from 1 to 20."
   ]
  },
  {
   "cell_type": "code",
   "execution_count": 62,
   "id": "a5478ded-dda2-45be-a7d7-2a83cc933f8c",
   "metadata": {},
   "outputs": [
    {
     "name": "stdout",
     "output_type": "stream",
     "text": [
      "[1, 3, 5, 7, 9, 11, 13, 15, 17, 19]\n"
     ]
    }
   ],
   "source": [
    "numbers=[] \n",
    "for i in range(1,11):\n",
    "      \n",
    "    num=(2*i)-1\n",
    "    numbers.append(num)\n",
    "print(numbers)"
   ]
  },
  {
   "cell_type": "code",
   "execution_count": null,
   "id": "2e16ab6b-49f0-473b-81cd-41a2a37987f9",
   "metadata": {},
   "outputs": [],
   "source": []
  },
  {
   "cell_type": "code",
   "execution_count": null,
   "id": "de7ff754-aed0-4289-887a-c0ddcd324ade",
   "metadata": {},
   "outputs": [],
   "source": [
    "# 15. Find the sum of all elements in a list."
   ]
  },
  {
   "cell_type": "code",
   "execution_count": 74,
   "id": "4063c777-93c0-4fe4-ae45-452a90f0d1dc",
   "metadata": {},
   "outputs": [],
   "source": [
    "numbers=[1,2,3,4]"
   ]
  },
  {
   "cell_type": "code",
   "execution_count": 79,
   "id": "d32f236a-6326-4b32-801e-2d127ca5c135",
   "metadata": {},
   "outputs": [
    {
     "name": "stdout",
     "output_type": "stream",
     "text": [
      "1\n",
      "2\n",
      "3\n",
      "4\n"
     ]
    }
   ],
   "source": [
    "l=len(numbers)\n",
    "for i in range(0,l):\n",
    "     \n",
    "        print(numbers[i])"
   ]
  },
  {
   "cell_type": "code",
   "execution_count": null,
   "id": "ba743803-2df3-499f-a7e5-01f600db822f",
   "metadata": {},
   "outputs": [],
   "source": []
  },
  {
   "cell_type": "code",
   "execution_count": null,
   "id": "8e4e1a6e-ce33-487f-9c16-61bc4ba8232d",
   "metadata": {},
   "outputs": [],
   "source": []
  },
  {
   "cell_type": "code",
   "execution_count": null,
   "id": "58a88415-dae8-45ae-bb21-8ed94d4ec78e",
   "metadata": {},
   "outputs": [],
   "source": [
    "# 16. Find the maximum value in a list."
   ]
  },
  {
   "cell_type": "code",
   "execution_count": 83,
   "id": "45a1fd65-5496-4d97-9db9-b4cb6d28abed",
   "metadata": {},
   "outputs": [
    {
     "name": "stdout",
     "output_type": "stream",
     "text": [
      "The numbers with maximum value is 67\n"
     ]
    }
   ],
   "source": [
    "numbers=[1,2,3,4,67,2,34,4] \n",
    "numbers.sort(reverse=True)\n",
    "maxnum=numbers[0]\n",
    "\n",
    "\n",
    "print(\"The numbers with maximum value is\",maxnum)"
   ]
  },
  {
   "cell_type": "code",
   "execution_count": null,
   "id": "0fe96225-ad9a-4987-925c-da03ef20f0b2",
   "metadata": {},
   "outputs": [],
   "source": [
    "# 17. Find the minimum value in a list."
   ]
  },
  {
   "cell_type": "code",
   "execution_count": 100,
   "id": "9e491e51-c75c-4548-b573-440fd40947e1",
   "metadata": {},
   "outputs": [
    {
     "name": "stdout",
     "output_type": "stream",
     "text": [
      "The numbers with minimum value is -4\n"
     ]
    }
   ],
   "source": [
    "numbers=[1,2,3,4,67,2,34,-4] \n",
    "numbers.sort()\n",
    "minnum=numbers[0]\n",
    "\n",
    "\n",
    "print(\"The numbers with minimum value is\",minnum)"
   ]
  },
  {
   "cell_type": "code",
   "execution_count": null,
   "id": "1f678b32-f085-416c-82bb-44a26b268cf3",
   "metadata": {},
   "outputs": [],
   "source": []
  },
  {
   "cell_type": "code",
   "execution_count": null,
   "id": "1928a909-362d-44be-9894-f8c7ea6e75a7",
   "metadata": {},
   "outputs": [],
   "source": [
    "# 18. Create a list of squares of numbers from 1 to 10."
   ]
  },
  {
   "cell_type": "code",
   "execution_count": 87,
   "id": "8fc2ab1e-ee1b-466e-8ddb-7ab5ed7ebf9f",
   "metadata": {},
   "outputs": [],
   "source": [
    "squares_list=[]\n",
    "for i in range(1,11):\n",
    "    a=i**2\n",
    "    squares_list.append(a)"
   ]
  },
  {
   "cell_type": "code",
   "execution_count": 88,
   "id": "0d990fb6-1aec-40c7-9188-dfbb0c6c66a2",
   "metadata": {},
   "outputs": [
    {
     "data": {
      "text/plain": [
       "[1, 4, 9, 16, 25, 36, 49, 64, 81, 100]"
      ]
     },
     "execution_count": 88,
     "metadata": {},
     "output_type": "execute_result"
    }
   ],
   "source": [
    "squares_list"
   ]
  },
  {
   "cell_type": "code",
   "execution_count": null,
   "id": "198e1287-2035-4d33-9af8-d125f52c3c56",
   "metadata": {},
   "outputs": [],
   "source": []
  },
  {
   "cell_type": "code",
   "execution_count": null,
   "id": "83606bae-bb4a-468e-b6fc-85b4ca508491",
   "metadata": {},
   "outputs": [],
   "source": [
    "# 19. Create a list of random numbers."
   ]
  },
  {
   "cell_type": "code",
   "execution_count": 13,
   "id": "124ca4dc-d76e-43bf-b2df-eb2603cc0726",
   "metadata": {},
   "outputs": [],
   "source": [
    "import random\n",
    "random_list=[]\n",
    "def  appendRandno() :\n",
    "        num=random.randint(0,1000)\n",
    "        random_list.append(num)"
   ]
  },
  {
   "cell_type": "code",
   "execution_count": 14,
   "id": "3f26d93e-3e72-4657-99f1-89b0551cb667",
   "metadata": {},
   "outputs": [],
   "source": [
    "appendRandno()\n",
    "appendRandno()\n",
    "appendRandno()\n",
    "appendRandno()\n"
   ]
  },
  {
   "cell_type": "code",
   "execution_count": 15,
   "id": "18f0a6f4-a528-4e65-ad1a-ea5f349f330d",
   "metadata": {},
   "outputs": [
    {
     "name": "stdout",
     "output_type": "stream",
     "text": [
      "[508, 957, 400, 636]\n"
     ]
    }
   ],
   "source": [
    "print(random_list)"
   ]
  },
  {
   "cell_type": "code",
   "execution_count": null,
   "id": "83fbf5c6-2a22-40f5-866a-23e05e145e21",
   "metadata": {},
   "outputs": [],
   "source": [
    "# 20. Remove duplicates from a list."
   ]
  },
  {
   "cell_type": "code",
   "execution_count": 120,
   "id": "faea135c-01d1-4b74-b859-04b8b3c3f106",
   "metadata": {},
   "outputs": [],
   "source": [
    "normal_list=[\"go\",1,2,3,4,3,3,\"go\",\"this\",\"that\"]"
   ]
  },
  {
   "cell_type": "code",
   "execution_count": 121,
   "id": "1f3f1ed3-eb71-4f20-b110-76f7eedfcebb",
   "metadata": {},
   "outputs": [],
   "source": [
    "normal_list=set(normal_list)"
   ]
  },
  {
   "cell_type": "code",
   "execution_count": 125,
   "id": "e8cf163f-eeb9-4482-a1cb-9e6f95578655",
   "metadata": {},
   "outputs": [],
   "source": [
    "normal_list=list(normal_list)"
   ]
  },
  {
   "cell_type": "code",
   "execution_count": 126,
   "id": "c1a2a810-00a4-4019-b3cf-81f631fa8414",
   "metadata": {},
   "outputs": [
    {
     "data": {
      "text/plain": [
       "['go', 2, 3, 4, 1, 'that', 'this']"
      ]
     },
     "execution_count": 126,
     "metadata": {},
     "output_type": "execute_result"
    }
   ],
   "source": [
    "normal_list"
   ]
  },
  {
   "cell_type": "code",
   "execution_count": null,
   "id": "f90a3a14-0e98-42a8-8d0b-88291b17098a",
   "metadata": {},
   "outputs": [],
   "source": []
  },
  {
   "cell_type": "code",
   "execution_count": null,
   "id": "d3a56201-dafa-4eeb-b0f2-5a92e889551e",
   "metadata": {},
   "outputs": [],
   "source": [
    "# 21. Find the common elements between two lists."
   ]
  },
  {
   "cell_type": "code",
   "execution_count": 41,
   "id": "49511312-89f8-47df-9428-eba5bb81d52e",
   "metadata": {},
   "outputs": [
    {
     "name": "stdout",
     "output_type": "stream",
     "text": [
      " Common elements are :[1, 3, 5]\n"
     ]
    }
   ],
   "source": [
    "l1=[1,2,3,4,5]\n",
    "l2=[3,12,68,56,1,5]\n",
    "common_list=[]\n",
    "for i in l1:\n",
    "    if i in l2:\n",
    "        common_list.append(i)\n",
    "print(f\" Common elements are :{common_list}\")"
   ]
  },
  {
   "cell_type": "code",
   "execution_count": null,
   "id": "e89f72a6-208c-4182-b32c-8fbaf6191ad1",
   "metadata": {},
   "outputs": [],
   "source": []
  },
  {
   "cell_type": "code",
   "execution_count": null,
   "id": "20b73f6d-2dc4-4fd0-af42-80fa564c3381",
   "metadata": {},
   "outputs": [],
   "source": []
  },
  {
   "cell_type": "code",
   "execution_count": null,
   "id": "ba1c2aa5-34c4-48ea-9bc2-20bc0277e839",
   "metadata": {},
   "outputs": [],
   "source": [
    "# 22. Find the difference between two lists."
   ]
  },
  {
   "cell_type": "code",
   "execution_count": 109,
   "id": "555ccbb7-62a1-42ea-a338-03ebabef92ce",
   "metadata": {},
   "outputs": [
    {
     "name": "stdout",
     "output_type": "stream",
     "text": [
      "Difference between lists: [20, 10]\n"
     ]
    }
   ],
   "source": [
    "# Example lists\n",
    "list1 = [10, 20, 30, 40, 50]\n",
    "list2 = [30, 40, 50, 60, 70]\n",
    "\n",
    "# Find the difference between lists using the difference() method\n",
    "difference = list(set(list1).difference(list2))\n",
    "\n",
    "# Print the difference\n",
    "print(\"Difference between lists:\", difference)"
   ]
  },
  {
   "cell_type": "code",
   "execution_count": null,
   "id": "1cee36c5-4dc8-418c-8abd-b6ce7ce40dcf",
   "metadata": {},
   "outputs": [],
   "source": []
  },
  {
   "cell_type": "code",
   "execution_count": null,
   "id": "fc4c73c7-73b2-4733-9245-b57a7e380346",
   "metadata": {},
   "outputs": [],
   "source": []
  },
  {
   "cell_type": "code",
   "execution_count": null,
   "id": "133dcf01-a2de-45b0-88e3-92beaff5a824",
   "metadata": {},
   "outputs": [],
   "source": [
    "# 23. Merge two lists."
   ]
  },
  {
   "cell_type": "code",
   "execution_count": 171,
   "id": "903f833d-484b-4a9a-813f-86771fe4265d",
   "metadata": {},
   "outputs": [],
   "source": [
    "list1=[1,2,3,4,5,6]"
   ]
  },
  {
   "cell_type": "code",
   "execution_count": 172,
   "id": "deb87b64-b7b9-41f6-a7c3-f9b07eb8dcc0",
   "metadata": {},
   "outputs": [],
   "source": [
    "list2=[2,3,4,5,6,7]"
   ]
  },
  {
   "cell_type": "code",
   "execution_count": 173,
   "id": "79a5b6e3-d0ec-49a5-8f88-fb9166d60593",
   "metadata": {},
   "outputs": [],
   "source": [
    "merged_list=list1+list2"
   ]
  },
  {
   "cell_type": "code",
   "execution_count": 174,
   "id": "d9b3e3f4-ceba-4679-8c5c-ed845595910a",
   "metadata": {},
   "outputs": [
    {
     "data": {
      "text/plain": [
       "[1, 2, 3, 4, 5, 6, 2, 3, 4, 5, 6, 7]"
      ]
     },
     "execution_count": 174,
     "metadata": {},
     "output_type": "execute_result"
    }
   ],
   "source": [
    "merged_list"
   ]
  },
  {
   "cell_type": "code",
   "execution_count": null,
   "id": "990692ea-14ed-4256-b900-e6515ae458b6",
   "metadata": {},
   "outputs": [],
   "source": []
  },
  {
   "cell_type": "code",
   "execution_count": null,
   "id": "dca0f252-1a31-4b8c-9289-b0d65b34d0a7",
   "metadata": {},
   "outputs": [],
   "source": [
    "# 24. Multiply all elements in a list by 2."
   ]
  },
  {
   "cell_type": "code",
   "execution_count": 222,
   "id": "ddd9753d-0be2-41f6-8ac5-1048f031818a",
   "metadata": {},
   "outputs": [
    {
     "name": "stdout",
     "output_type": "stream",
     "text": [
      "[2, 4, 6, 8, 10, 12]\n"
     ]
    }
   ],
   "source": [
    "l=[1,2,3,4,5,6]\n",
    "length=len(l)\n",
    "l1=[]\n",
    "for i in range(0,length):\n",
    "    l[i]=l[i]*2\n",
    "    l1.append(l[i])\n",
    "\n",
    "print(l1)     "
   ]
  },
  {
   "cell_type": "code",
   "execution_count": null,
   "id": "08ba6fd1-f658-4cd0-aa87-b4332d7a604b",
   "metadata": {},
   "outputs": [],
   "source": []
  },
  {
   "cell_type": "code",
   "execution_count": null,
   "id": "786bf12a-672b-46e2-ba10-351700e4aef3",
   "metadata": {},
   "outputs": [],
   "source": [
    "# 25. Filter out all even numbers from a list."
   ]
  },
  {
   "cell_type": "code",
   "execution_count": 19,
   "id": "8c26d56d-61c4-4567-b2a8-678b715722a2",
   "metadata": {},
   "outputs": [],
   "source": [
    "lists=[12,3,4,5,6,7,8,9]"
   ]
  },
  {
   "cell_type": "code",
   "execution_count": 20,
   "id": "0d1d5ff6-983f-4967-83e4-2cee4b123c84",
   "metadata": {},
   "outputs": [],
   "source": [
    "for i in lists:\n",
    "    if i%2==0:\n",
    "        lists.remove(i)"
   ]
  },
  {
   "cell_type": "code",
   "execution_count": 21,
   "id": "ecccd4a5-451b-49f4-a00f-926d1c008acd",
   "metadata": {},
   "outputs": [
    {
     "name": "stdout",
     "output_type": "stream",
     "text": [
      "[3, 5, 7, 9]\n"
     ]
    }
   ],
   "source": [
    "print(lists)"
   ]
  },
  {
   "cell_type": "code",
   "execution_count": null,
   "id": "fb0bdbad-e28a-442e-98d2-cd1dccd8ee18",
   "metadata": {},
   "outputs": [],
   "source": [
    "# 26. Convert a list of strings to a list of integers."
   ]
  },
  {
   "cell_type": "code",
   "execution_count": 1,
   "id": "7ddc98bf-9b39-4161-af5a-e9ddf75cac5a",
   "metadata": {},
   "outputs": [
    {
     "name": "stdout",
     "output_type": "stream",
     "text": [
      "List of integers: [10, 20, 30, 40, 50]\n"
     ]
    }
   ],
   "source": [
    "# Example list of strings\n",
    "string_list = [\"10\", \"20\", \"30\", \"40\", \"50\"]\n",
    "\n",
    "# Convert list of strings to list of integers using a list comprehension\n",
    "integer_list = [int(x) for x in string_list]\n",
    "\n",
    "# Print the list of integers\n",
    "print(\"List of integers:\", integer_list)"
   ]
  },
  {
   "cell_type": "code",
   "execution_count": null,
   "id": "69d5c720-d3b9-49f9-b82d-4ae3f50f323e",
   "metadata": {},
   "outputs": [],
   "source": []
  },
  {
   "cell_type": "code",
   "execution_count": null,
   "id": "30afe8bb-a97d-43d2-8cf1-68ff91e30da8",
   "metadata": {},
   "outputs": [],
   "source": [
    "# 27. Convert a list of integers to a list of strings."
   ]
  },
  {
   "cell_type": "code",
   "execution_count": 2,
   "id": "cd7b3dbb-871b-4152-9bde-84f3671e6b3a",
   "metadata": {},
   "outputs": [
    {
     "name": "stdout",
     "output_type": "stream",
     "text": [
      "List of strings: ['10', '20', '30', '40', '50']\n"
     ]
    }
   ],
   "source": [
    "# Example list of integers\n",
    "integer_list = [10, 20, 30, 40, 50]\n",
    "\n",
    "# Convert list of integers to list of strings using a list comprehension\n",
    "string_list = [str(x) for x in integer_list]\n",
    "\n",
    "# Print the list of strings\n",
    "print(\"List of strings:\", string_list)"
   ]
  },
  {
   "cell_type": "code",
   "execution_count": null,
   "id": "8e271347-8218-4439-bca5-51d898876e96",
   "metadata": {},
   "outputs": [],
   "source": []
  },
  {
   "cell_type": "code",
   "execution_count": null,
   "id": "9371e041-be38-4165-a959-5ec4fca9ffd1",
   "metadata": {},
   "outputs": [],
   "source": [
    "### 28. Flatten a nested list."
   ]
  },
  {
   "cell_type": "code",
   "execution_count": 3,
   "id": "8c1623a7-057f-4768-b3df-05539841fd7d",
   "metadata": {},
   "outputs": [
    {
     "name": "stdout",
     "output_type": "stream",
     "text": [
      "Flattened list: [1, 2, 3, 4, 5, 6, 7, 8, 9]\n"
     ]
    }
   ],
   "source": [
    "# Example nested list\n",
    "nested_list = [[1, 2, 3], [4, 5], [6, 7, 8, 9]]\n",
    "\n",
    "# Function to flatten a nested list\n",
    "def flatten_list(nested):\n",
    "    flattened = []\n",
    "    for sublist in nested:\n",
    "        if isinstance(sublist, list):\n",
    "            flattened.extend(flatten_list(sublist))\n",
    "        else:\n",
    "            flattened.append(sublist)\n",
    "    return flattened\n",
    "\n",
    "# Flatten the nested list\n",
    "flattened_list = flatten_list(nested_list)\n",
    "\n",
    "# Print the flattened list\n",
    "print(\"Flattened list:\", flattened_list)"
   ]
  },
  {
   "cell_type": "code",
   "execution_count": null,
   "id": "8c1e6f4c-5429-4ab8-a896-8ff575c656e2",
   "metadata": {},
   "outputs": [],
   "source": []
  },
  {
   "cell_type": "code",
   "execution_count": null,
   "id": "bb76e883-dd2e-43e1-b53c-087c9423181c",
   "metadata": {},
   "outputs": [],
   "source": [
    "### 29. Create a list of the first 10 Fibonacci numbers."
   ]
  },
  {
   "cell_type": "code",
   "execution_count": 4,
   "id": "a4e19cbc-e2ac-4b25-8d2d-c741058359bf",
   "metadata": {},
   "outputs": [
    {
     "name": "stdout",
     "output_type": "stream",
     "text": [
      "First 10 Fibonacci numbers: [0, 1]\n"
     ]
    }
   ],
   "source": [
    "# Function to generate the first n Fibonacci numbers\n",
    "def generate_fibonacci(n):\n",
    "    fibonacci_list = [0, 1]  # Initialize the list with the first two Fibonacci numbers\n",
    "\n",
    "    for i in range(2, n):\n",
    "        next_fibonacci = fibonacci_list[i - 1] + fibonacci_list[i - 2]\n",
    "        fibonacci_list.append(next_fibonacci)\n",
    "\n",
    "    return fibonacci_list\n",
    "\n",
    "# Generate the first 10 Fibonacci numbers\n",
    "fibonacci_numbers = generate_fibonacci(2)\n",
    "\n",
    "# Print the list of Fibonacci numbers\n",
    "print(\"First 10 Fibonacci numbers:\", fibonacci_numbers)"
   ]
  },
  {
   "cell_type": "code",
   "execution_count": null,
   "id": "31a871c0-b662-410a-b1b6-0cb6e25dad1f",
   "metadata": {},
   "outputs": [],
   "source": []
  },
  {
   "cell_type": "code",
   "execution_count": null,
   "id": "4da0e5a6-1085-466b-91cd-04f461c17e67",
   "metadata": {},
   "outputs": [],
   "source": [
    "### 30. Check if a list is sorted.\n",
    "  \n"
   ]
  },
  {
   "cell_type": "code",
   "execution_count": 5,
   "id": "cef5ecf1-4b09-43ea-91d1-608b62cf7f31",
   "metadata": {},
   "outputs": [
    {
     "name": "stdout",
     "output_type": "stream",
     "text": [
      "The list is sorted in ascending order.\n"
     ]
    }
   ],
   "source": [
    "# Function to check if a list is sorted in ascending order\n",
    "def is_sorted_ascending(lst):\n",
    "    for i in range(1, len(lst)):\n",
    "        if lst[i] < lst[i - 1]:\n",
    "            return False\n",
    "    return True\n",
    "\n",
    "# Example list\n",
    "ascending_list = [10, 20, 30, 40, 50]\n",
    "\n",
    "# Check if the list is sorted in ascending order\n",
    "if is_sorted_ascending(ascending_list):\n",
    "    print(\"The list is sorted in ascending order.\")\n",
    "else:\n",
    "    print(\"The list is not sorted in ascending order.\")"
   ]
  },
  {
   "cell_type": "code",
   "execution_count": null,
   "id": "e14911c9-bb93-46c3-9848-15618a482c82",
   "metadata": {},
   "outputs": [],
   "source": []
  },
  {
   "cell_type": "code",
   "execution_count": null,
   "id": "f3922834-6fd1-42a4-8e95-2c41e99c644b",
   "metadata": {},
   "outputs": [],
   "source": [
    "### 31. Rotate a list to the left by `n` positions."
   ]
  },
  {
   "cell_type": "code",
   "execution_count": 6,
   "id": "dd77b558-c99c-4382-bb74-488b31fa77a8",
   "metadata": {},
   "outputs": [
    {
     "name": "stdout",
     "output_type": "stream",
     "text": [
      "Rotated list: [3, 4, 5, 6, 1, 2]\n"
     ]
    }
   ],
   "source": [
    "# Function to rotate a list to the left by n positions\n",
    "def rotate_left(lst, n):\n",
    "    n = n % len(lst)  # Normalize n to handle cases where n is larger than the list length\n",
    "    # print(n)\n",
    "    rotated = lst[n:] + lst[:n]\n",
    "    return rotated\n",
    "\n",
    "# Example list\n",
    "my_list = [1, 2, 3, 4, 5, 6]\n",
    "\n",
    "# Number of positions to rotate by\n",
    "n = 2\n",
    "\n",
    "# Rotate the list to the left by n positions\n",
    "rotated_list = rotate_left(my_list, n)\n",
    "\n",
    "# Print the rotated list\n",
    "print(\"Rotated list:\", rotated_list)"
   ]
  },
  {
   "cell_type": "code",
   "execution_count": null,
   "id": "d4fde9b6-3b02-42d3-968f-a12b0a43e6ec",
   "metadata": {},
   "outputs": [],
   "source": []
  },
  {
   "cell_type": "code",
   "execution_count": null,
   "id": "3af4e1f8-6e46-4127-a6f0-1c2f6f49a622",
   "metadata": {},
   "outputs": [],
   "source": [
    "### 32. Rotate a list to the right by `n` positions."
   ]
  },
  {
   "cell_type": "code",
   "execution_count": 7,
   "id": "a99700ae-54ee-40fd-9643-6c06495fd6bc",
   "metadata": {},
   "outputs": [
    {
     "name": "stdout",
     "output_type": "stream",
     "text": [
      "Rotated list: [5, 6, 1, 2, 3, 4]\n"
     ]
    }
   ],
   "source": [
    "# Function to rotate a list to the right by n positions\n",
    "def rotate_right(lst, n):\n",
    "    n = n % len(lst)  # Normalize n to handle cases where n is larger than the list length\n",
    "    # print(n)\n",
    "    rotated = lst[-n:] + lst[:-n]\n",
    "    return rotated\n",
    "\n",
    "# Example list\n",
    "my_list = [1, 2, 3, 4, 5, 6]\n",
    "\n",
    "# Number of positions to rotate by\n",
    "n = 2\n",
    "\n",
    "# Rotate the list to the right by n positions\n",
    "rotated_list = rotate_right(my_list, n)\n",
    "\n",
    "# Print the rotated list\n",
    "print(\"Rotated list:\", rotated_list)"
   ]
  },
  {
   "cell_type": "code",
   "execution_count": null,
   "id": "b2bcf87f-da2a-4573-b764-b03bb910a0e5",
   "metadata": {},
   "outputs": [],
   "source": []
  },
  {
   "cell_type": "code",
   "execution_count": null,
   "id": "0401b4e3-eefa-4779-aaf6-d9ed96e06016",
   "metadata": {},
   "outputs": [],
   "source": [
    "### 33. Create a list of prime numbers up to 50."
   ]
  },
  {
   "cell_type": "code",
   "execution_count": 8,
   "id": "a81bd85e-12c8-4643-8943-433c436cf683",
   "metadata": {},
   "outputs": [
    {
     "name": "stdout",
     "output_type": "stream",
     "text": [
      "5 25\n",
      "5 29\n",
      "List of prime numbers up to 50: [2, 3, 5, 7, 11, 13, 17, 19, 23, 29]\n"
     ]
    }
   ],
   "source": [
    "# Function to check if a number is prime\n",
    "def is_prime(num):\n",
    "    if num <= 1:\n",
    "        return False\n",
    "    if num <= 3:\n",
    "        return True\n",
    "    if num % 2 == 0 or num % 3 == 0:\n",
    "        return False\n",
    "    i = 5\n",
    "    while i * i <= num:\n",
    "      print(i,num)\n",
    "      if num % i == 0 or num % (i + 2) == 0:\n",
    "          return False\n",
    "      i += 6\n",
    "    return True\n",
    "\n",
    "# Create a list of prime numbers up to 50\n",
    "prime_numbers = [num for num in range(2,30) if is_prime(num)]\n",
    "\n",
    "# Print the list of prime numbers\n",
    "print(\"List of prime numbers up to 50:\", prime_numbers)"
   ]
  },
  {
   "cell_type": "code",
   "execution_count": null,
   "id": "3db47012-ec4d-4fa8-9013-ea5b4beb631f",
   "metadata": {},
   "outputs": [],
   "source": []
  },
  {
   "cell_type": "code",
   "execution_count": null,
   "id": "5a0e29e6-1f08-4fdc-946b-990fac027b6d",
   "metadata": {},
   "outputs": [],
   "source": [
    "### 34. Split a list into chunks of size `n`."
   ]
  },
  {
   "cell_type": "code",
   "execution_count": 9,
   "id": "5f43a7e5-db51-4040-9f7f-0afd897d96fa",
   "metadata": {},
   "outputs": [
    {
     "name": "stdout",
     "output_type": "stream",
     "text": [
      "List of prime numbers up to 50: [2, 3, 5, 7, 11, 13, 17, 19, 23, 29, 31, 37, 41, 43, 47]\n"
     ]
    }
   ],
   "source": [
    "# Create a list of prime numbers up to 50 using Sieve of Eratosthenes algorithm\n",
    "def sieve_of_eratosthenes(limit):\n",
    "    primes = []\n",
    "    is_prime = [True] * (limit + 1)\n",
    "    is_prime[0] = is_prime[1] = False\n",
    "\n",
    "    for num in range(2, int(limit ** 0.5) + 1):\n",
    "        if is_prime[num]:\n",
    "            primes.append(num)\n",
    "            for multiple in range(num * num, limit + 1, num):\n",
    "                is_prime[multiple] = False\n",
    "\n",
    "    for num in range(int(limit ** 0.5) + 1, limit + 1):\n",
    "        if is_prime[num]:\n",
    "            primes.append(num)\n",
    "\n",
    "    return primes\n",
    "\n",
    "# Create a list of prime numbers up to 50\n",
    "prime_numbers = sieve_of_eratosthenes(50)\n",
    "\n",
    "# Print the list of prime numbers\n",
    "print(\"List of prime numbers up to 50:\", prime_numbers)"
   ]
  },
  {
   "cell_type": "code",
   "execution_count": null,
   "id": "9a2eb469-89de-4535-9d18-b642d1458dc7",
   "metadata": {},
   "outputs": [],
   "source": []
  },
  {
   "cell_type": "code",
   "execution_count": null,
   "id": "647ac2d2-723d-42f9-89f8-30e6f00c2319",
   "metadata": {},
   "outputs": [],
   "source": [
    "### 35. Find the second largest number in a list."
   ]
  },
  {
   "cell_type": "code",
   "execution_count": 10,
   "id": "49894de0-c0b9-46e7-801d-51276c69a9d1",
   "metadata": {},
   "outputs": [
    {
     "name": "stdout",
     "output_type": "stream",
     "text": [
      "Second largest number: 25\n"
     ]
    }
   ],
   "source": [
    "# Example list\n",
    "my_list = [10, 5, 20, 15, 30, 25]\n",
    "\n",
    "# Remove duplicates and sort the list in ascending order\n",
    "sorted_list = sorted(set(my_list))\n",
    "\n",
    "# Find the second largest number\n",
    "if len(sorted_list) >= 2:\n",
    "    second_largest = sorted_list[-2]\n",
    "    print(\"Second largest number:\", second_largest)\n",
    "else:\n",
    "    print(\"The list does not contain enough elements.\")"
   ]
  },
  {
   "cell_type": "code",
   "execution_count": null,
   "id": "3efcceca-835d-45fd-944b-64ea5a2ec831",
   "metadata": {},
   "outputs": [],
   "source": []
  },
  {
   "cell_type": "code",
   "execution_count": null,
   "id": "313ab9e0-42d8-40d1-8c0a-b3bf28691f21",
   "metadata": {},
   "outputs": [],
   "source": [
    "### 36. Replace every element in a list with its square."
   ]
  },
  {
   "cell_type": "code",
   "execution_count": 11,
   "id": "638c7e82-e3e3-4fa4-80c1-01632505fb95",
   "metadata": {},
   "outputs": [
    {
     "name": "stdout",
     "output_type": "stream",
     "text": [
      "Squared list: [4, 16, 36, 64, 100]\n"
     ]
    }
   ],
   "source": [
    "# Example list\n",
    "my_list = [2, 4, 6, 8, 10]\n",
    "\n",
    "# Replace every element with its square using a list comprehension\n",
    "squared_list = [x ** 2 for x in my_list]\n",
    "\n",
    "# Print the squared list\n",
    "print(\"Squared list:\", squared_list)"
   ]
  },
  {
   "cell_type": "code",
   "execution_count": null,
   "id": "7528cac3-9659-4d32-a0e8-39fe20b42593",
   "metadata": {},
   "outputs": [],
   "source": []
  },
  {
   "cell_type": "code",
   "execution_count": null,
   "id": "e5aa3b0a-1796-4435-aa1b-15ba321c0741",
   "metadata": {},
   "outputs": [],
   "source": [
    "### 37. Convert a list to a dictionary where list elements become keys and their indices become values."
   ]
  },
  {
   "cell_type": "code",
   "execution_count": 12,
   "id": "710f8a95-0b48-4185-aef1-deb2417b0d1a",
   "metadata": {},
   "outputs": [
    {
     "name": "stdout",
     "output_type": "stream",
     "text": [
      "Converted dictionary: {'apple': 0, 'banana': 1, 'cherry': 2, 'date': 3, 'elderberry': 4}\n"
     ]
    }
   ],
   "source": [
    "# Example list\n",
    "my_list = ['apple', 'banana', 'cherry', 'date', 'elderberry']\n",
    "\n",
    "# Convert list to dictionary using dictionary comprehension\n",
    "my_dict = {element: index for index, element in enumerate(my_list)}\n",
    "\n",
    "# Print the resulting dictionary\n",
    "print(\"Converted dictionary:\", my_dict)"
   ]
  },
  {
   "cell_type": "code",
   "execution_count": null,
   "id": "f8f3bc8d-ea48-4d9d-a6a1-93ee8225c673",
   "metadata": {},
   "outputs": [],
   "source": []
  },
  {
   "cell_type": "code",
   "execution_count": null,
   "id": "ec923e75-c571-4086-a60f-6fb6debf7457",
   "metadata": {},
   "outputs": [],
   "source": [
    "### 38. Shuffle the elements of a list randomly."
   ]
  },
  {
   "cell_type": "code",
   "execution_count": 13,
   "id": "ab103575-0e1a-4b97-92cd-345ebdc4a3f7",
   "metadata": {},
   "outputs": [
    {
     "name": "stdout",
     "output_type": "stream",
     "text": [
      "Shuffled list: [10, 1, 8, 6, 4, 3, 2, 7, 5, 9]\n"
     ]
    }
   ],
   "source": [
    "import random\n",
    "\n",
    "# Example list\n",
    "my_list = [1, 2, 3, 4, 5, 6, 7, 8, 9, 10]\n",
    "\n",
    "# Shuffle the list randomly\n",
    "random.shuffle(my_list)\n",
    "\n",
    "# Print the shuffled list\n",
    "print(\"Shuffled list:\", my_list)"
   ]
  },
  {
   "cell_type": "code",
   "execution_count": null,
   "id": "ef6d55eb-2f2b-4877-8000-800a523e6b6e",
   "metadata": {},
   "outputs": [],
   "source": []
  },
  {
   "cell_type": "code",
   "execution_count": null,
   "id": "f9f813a0-f52f-4155-8844-24d7f03bb8a1",
   "metadata": {},
   "outputs": [],
   "source": [
    "### 39. Create a list of the first 10 factorial numbers."
   ]
  },
  {
   "cell_type": "code",
   "execution_count": 14,
   "id": "46904d2f-5cc6-4a77-81a3-1bdecd45ebca",
   "metadata": {},
   "outputs": [
    {
     "name": "stdout",
     "output_type": "stream",
     "text": [
      "List of the first 10 factorial numbers: [1, 1, 2, 6, 24, 120, 720, 5040, 40320, 362880]\n"
     ]
    }
   ],
   "source": [
    "# Function to calculate factorial\n",
    "def factorial(n):\n",
    "    if n == 0 or n == 1:\n",
    "        return 1\n",
    "    else:\n",
    "        return n * factorial(n - 1)\n",
    "\n",
    "# Create a list of the first 10 factorial numbers\n",
    "factorial_numbers = [factorial(i) for i in range(10)]\n",
    "\n",
    "# Print the list of factorial numbers\n",
    "print(\"List of the first 10 factorial numbers:\", factorial_numbers)"
   ]
  },
  {
   "cell_type": "code",
   "execution_count": null,
   "id": "0763169a-b9e0-435e-bce9-5707b0620b82",
   "metadata": {},
   "outputs": [],
   "source": []
  },
  {
   "cell_type": "code",
   "execution_count": null,
   "id": "933c9678-f44f-4aeb-8993-a777e7245732",
   "metadata": {},
   "outputs": [],
   "source": [
    "### 40. Check if two lists have at least one element in common."
   ]
  },
  {
   "cell_type": "code",
   "execution_count": 15,
   "id": "f760157c-8341-445e-8b2a-54f3318a0dd8",
   "metadata": {},
   "outputs": [
    {
     "name": "stdout",
     "output_type": "stream",
     "text": [
      "The lists have at least one common element.\n"
     ]
    }
   ],
   "source": [
    "# Function to check if two lists have at least one element in common\n",
    "def has_common_element(list1, list2):\n",
    "    for item in list1:\n",
    "        if item in list2:\n",
    "            return True\n",
    "    return False\n",
    "\n",
    "# Example lists\n",
    "list1 = [1, 2, 3, 4, 5]\n",
    "list2 = [4, 5, 6, 7, 8]\n",
    "\n",
    "# Check if the two lists have at least one element in common\n",
    "if has_common_element(list1, list2):\n",
    "    print(\"The lists have at least one common element.\")\n",
    "else:\n",
    "    print(\"The lists do not have any common elements.\")"
   ]
  },
  {
   "cell_type": "code",
   "execution_count": null,
   "id": "dd87b042-2fb7-4a88-8a30-ac773ad026d3",
   "metadata": {},
   "outputs": [],
   "source": []
  },
  {
   "cell_type": "code",
   "execution_count": null,
   "id": "dfc6d009-9992-4388-9e34-cd2284232a98",
   "metadata": {},
   "outputs": [],
   "source": [
    "### 41. Remove all elements from a list."
   ]
  },
  {
   "cell_type": "code",
   "execution_count": 16,
   "id": "5bb5b467-3fa9-4c43-b4fc-f097c5865ce6",
   "metadata": {},
   "outputs": [
    {
     "name": "stdout",
     "output_type": "stream",
     "text": [
      "Empty list: []\n"
     ]
    }
   ],
   "source": [
    "# Example list\n",
    "my_list = [1, 2, 3, 4, 5]\n",
    "\n",
    "# Clear all elements from the list\n",
    "my_list.clear()\n",
    "\n",
    "# Print the empty list\n",
    "print(\"Empty list:\", my_list)"
   ]
  },
  {
   "cell_type": "code",
   "execution_count": null,
   "id": "5e81fdfb-538d-49a8-b5f2-85ae43b2b16b",
   "metadata": {},
   "outputs": [],
   "source": []
  },
  {
   "cell_type": "code",
   "execution_count": null,
   "id": "c07d19ce-4eab-4996-bf1e-22bbf6fdb998",
   "metadata": {},
   "outputs": [],
   "source": [
    "### 42. Replace negative numbers in a list with 0."
   ]
  },
  {
   "cell_type": "code",
   "execution_count": 17,
   "id": "51ebd092-269d-40e2-95f5-6cd043f41614",
   "metadata": {},
   "outputs": [
    {
     "name": "stdout",
     "output_type": "stream",
     "text": [
      "List after replacing negative numbers with 0: [10, 0, 20, 0, 30, 0]\n"
     ]
    }
   ],
   "source": [
    "# Example list\n",
    "my_list = [10, -5, 20, -15, 30, -25]\n",
    "\n",
    "# Step 1: Iterate through the list and replace negative numbers with 0\n",
    "for i in range(len(my_list)):\n",
    "    if my_list[i] < 0:\n",
    "        my_list[i] = 0\n",
    "\n",
    "# Print the list after replacing negative numbers with 0\n",
    "print(\"List after replacing negative numbers with 0:\", my_list)"
   ]
  },
  {
   "cell_type": "code",
   "execution_count": null,
   "id": "146c9a6f-9c1e-48b0-99c8-c0742b40415d",
   "metadata": {},
   "outputs": [],
   "source": []
  },
  {
   "cell_type": "code",
   "execution_count": null,
   "id": "f99dba14-e47c-4d49-b315-8be3d7353bf7",
   "metadata": {},
   "outputs": [],
   "source": [
    "### 43. Convert a string into a list of words."
   ]
  },
  {
   "cell_type": "code",
   "execution_count": 18,
   "id": "fa83a308-8384-4725-bb5a-a507a0eb13bc",
   "metadata": {},
   "outputs": [
    {
     "name": "stdout",
     "output_type": "stream",
     "text": [
      "List of words: ['Hello,', 'this', 'is', 'a', 'sample', 'sentence.']\n"
     ]
    }
   ],
   "source": [
    "# Example string\n",
    "my_string = \"Hello, this is a sample sentence.\"\n",
    "\n",
    "# Convert the string into a list of words\n",
    "word_list = my_string.split()\n",
    "\n",
    "# Print the list of words\n",
    "print(\"List of words:\", word_list)"
   ]
  },
  {
   "cell_type": "code",
   "execution_count": null,
   "id": "1d3c9dac-cca8-4125-a46d-e48b90aa0b72",
   "metadata": {},
   "outputs": [],
   "source": []
  },
  {
   "cell_type": "code",
   "execution_count": null,
   "id": "f6f4f137-c00e-4f84-bf81-a258c9e6c80c",
   "metadata": {},
   "outputs": [],
   "source": [
    "### 44. Convert a list of words into a string."
   ]
  },
  {
   "cell_type": "code",
   "execution_count": 19,
   "id": "5587fdf0-4f60-490c-bd66-185d74a28235",
   "metadata": {},
   "outputs": [
    {
     "name": "stdout",
     "output_type": "stream",
     "text": [
      "Converted string: Hello, this is a sample sentence.\n"
     ]
    }
   ],
   "source": [
    "# Example list of words\n",
    "word_list = [\"Hello,\", \"this\", \"is\", \"a\", \"sample\", \"sentence.\"]\n",
    "\n",
    "# Convert the list of words into a string\n",
    "my_string = \" \".join(word_list)\n",
    "\n",
    "# Print the resulting string\n",
    "print(\"Converted string:\", my_string)"
   ]
  },
  {
   "cell_type": "code",
   "execution_count": null,
   "id": "08d42a6e-d84e-49a5-a571-d210827f466e",
   "metadata": {},
   "outputs": [],
   "source": []
  },
  {
   "cell_type": "code",
   "execution_count": null,
   "id": "8fac6deb-9fbf-4af3-8a03-fafb3d060479",
   "metadata": {},
   "outputs": [],
   "source": [
    "### 45. Create a list of the first `n` powers of 2."
   ]
  },
  {
   "cell_type": "code",
   "execution_count": 20,
   "id": "6990eaa1-0d48-4af6-8c62-4005c7ef946f",
   "metadata": {},
   "outputs": [
    {
     "name": "stdout",
     "output_type": "stream",
     "text": [
      "List of the first 5 powers of 2: [1, 2, 4, 8, 16]\n"
     ]
    }
   ],
   "source": [
    "# Specify the value of n\n",
    "n = 5\n",
    "\n",
    "# Create a list of the first n powers of 2 using a loop\n",
    "power_list = [2 ** i for i in range(n)]\n",
    "\n",
    "# Print the list of powers of 2\n",
    "print(\"List of the first\", n, \"powers of 2:\", power_list)"
   ]
  },
  {
   "cell_type": "code",
   "execution_count": null,
   "id": "1344eb0f-9052-447f-8b9d-46409e44d433",
   "metadata": {},
   "outputs": [],
   "source": []
  },
  {
   "cell_type": "code",
   "execution_count": null,
   "id": "2a5122e9-5785-4457-a0c0-67f1ba704a6c",
   "metadata": {},
   "outputs": [],
   "source": [
    "### 46. Find the longest string in a list of strings."
   ]
  },
  {
   "cell_type": "code",
   "execution_count": 21,
   "id": "65b58091-29ca-4c06-9819-74168d4bd923",
   "metadata": {},
   "outputs": [
    {
     "name": "stdout",
     "output_type": "stream",
     "text": [
      "Longest string: elderberry\n"
     ]
    }
   ],
   "source": [
    "# Example list of strings\n",
    "string_list = [\"apple\", \"banana\", \"cherry\", \"date\", \"elderberry\"]\n",
    "\n",
    "# Find the longest string in the list\n",
    "longest_string = \"\"\n",
    "for s in string_list:\n",
    "    if len(s) > len(longest_string):\n",
    "        longest_string = s\n",
    "\n",
    "# Print the longest string\n",
    "print(\"Longest string:\", longest_string)"
   ]
  },
  {
   "cell_type": "code",
   "execution_count": null,
   "id": "df6db0f1-625b-409a-a9e0-50c86201498a",
   "metadata": {},
   "outputs": [],
   "source": []
  },
  {
   "cell_type": "code",
   "execution_count": null,
   "id": "ef68457f-cb0b-4eb6-a6c9-04c9d9a5fe2c",
   "metadata": {},
   "outputs": [],
   "source": [
    "### 47. Find the shortest string in a list of strings."
   ]
  },
  {
   "cell_type": "code",
   "execution_count": 22,
   "id": "20bb1b88-6adb-4ef4-9e9e-5e5f4a8e4cb1",
   "metadata": {},
   "outputs": [
    {
     "name": "stdout",
     "output_type": "stream",
     "text": [
      "Shortest string: date\n"
     ]
    }
   ],
   "source": [
    "# Example list of strings\n",
    "string_list = [\"apple\", \"banana\", \"cherry\", \"date\", \"elderberry\"]\n",
    "\n",
    "# Find the shortest string in the list\n",
    "shortest_string = string_list[0]  # Initialize with the first string\n",
    "for s in string_list:\n",
    "    if len(s) < len(shortest_string):\n",
    "        shortest_string = s\n",
    "\n",
    "# Print the shortest string\n",
    "print(\"Shortest string:\", shortest_string)"
   ]
  },
  {
   "cell_type": "code",
   "execution_count": null,
   "id": "b0e25dfd-8e06-4cdf-bf94-96107bc707f2",
   "metadata": {},
   "outputs": [],
   "source": []
  },
  {
   "cell_type": "code",
   "execution_count": null,
   "id": "2ab80641-f6b4-4449-b4fe-a77501fca364",
   "metadata": {},
   "outputs": [],
   "source": [
    "### 48. Create a list of the first `n` triangular numbers."
   ]
  },
  {
   "cell_type": "code",
   "execution_count": 23,
   "id": "de0b7b2f-5c58-4a9a-9243-ea70d085468b",
   "metadata": {},
   "outputs": [
    {
     "name": "stdout",
     "output_type": "stream",
     "text": [
      "List of the first 5 triangular numbers: [1, 3, 6, 10, 15]\n"
     ]
    }
   ],
   "source": [
    "# Function to calculate triangular numbers\n",
    "def triangular_numbers(n):\n",
    "    return [i * (i + 1) // 2 for i in range(1, n + 1)]\n",
    "\n",
    "# Specify the value of n\n",
    "n = 5\n",
    "\n",
    "# Create a list of the first n triangular numbers\n",
    "triangular_list = triangular_numbers(n)\n",
    "\n",
    "# Print the list of triangular numbers\n",
    "print(\"List of the first\", n, \"triangular numbers:\", triangular_list)"
   ]
  },
  {
   "cell_type": "code",
   "execution_count": null,
   "id": "9944de4d-8d29-456e-b45b-4cb36d4992a0",
   "metadata": {},
   "outputs": [],
   "source": []
  },
  {
   "cell_type": "code",
   "execution_count": null,
   "id": "a5ef3c6a-20bf-4b09-be8f-c87eb80f0981",
   "metadata": {},
   "outputs": [],
   "source": [
    "### 49. Check if a list contains another list as a subsequence."
   ]
  },
  {
   "cell_type": "code",
   "execution_count": 24,
   "id": "930abc3d-7eec-4803-b619-b41dc57e9c70",
   "metadata": {},
   "outputs": [
    {
     "name": "stdout",
     "output_type": "stream",
     "text": [
      "Main list contains the subsequence.\n"
     ]
    }
   ],
   "source": [
    "# Function to check if a list contains another list as a subsequence\n",
    "def is_subsequence(subsequence, main_list):\n",
    "    subseq_index = 0  # Index for the subsequence elements\n",
    "    for element in main_list:\n",
    "        if element == subsequence[subseq_index]:\n",
    "            subseq_index += 1\n",
    "            if subseq_index == len(subsequence):\n",
    "                return True\n",
    "    return False\n",
    "\n",
    "# Example main list and subsequence\n",
    "main_list = [1, 2, 3, 4, 5, 6, 7, 8, 9, 10]\n",
    "subsequence = [3, 5, 8]\n",
    "\n",
    "# Check if the main list contains the subsequence\n",
    "if is_subsequence(subsequence, main_list):\n",
    "    print(\"Main list contains the subsequence.\")\n",
    "else:\n",
    "    print(\"Main list does not contain the subsequence.\")"
   ]
  },
  {
   "cell_type": "code",
   "execution_count": null,
   "id": "4235bb1f-dcc4-462e-b62a-9933b5b52ff8",
   "metadata": {},
   "outputs": [],
   "source": [
    "### 50. Swap two elements in a list by their indices."
   ]
  },
  {
   "cell_type": "code",
   "execution_count": 25,
   "id": "16afb1a0-1aa7-4eb6-b011-611cc82abe22",
   "metadata": {},
   "outputs": [
    {
     "name": "stdout",
     "output_type": "stream",
     "text": [
      "List after swapping elements: [1, 4, 3, 2, 5]\n"
     ]
    }
   ],
   "source": [
    "# Example list\n",
    "my_list = [1, 2, 3, 4, 5]\n",
    "\n",
    "# Indices of elements to swap\n",
    "index1 = 1\n",
    "index2 = 3\n",
    "\n",
    "# Swap the elements at the specified indices\n",
    "temp = my_list[index1]\n",
    "my_list[index1] = my_list[index2]\n",
    "my_list[index2] = temp\n",
    "\n",
    "# Print the list after swapping\n",
    "print(\"List after swapping elements:\", my_list)"
   ]
  },
  {
   "cell_type": "code",
   "execution_count": null,
   "id": "c59a5723-6b82-44c7-9e59-c8611efc72ae",
   "metadata": {},
   "outputs": [],
   "source": []
  },
  {
   "cell_type": "code",
   "execution_count": null,
   "id": "777d9f31-2b4a-4f42-bf8b-0d9845342151",
   "metadata": {},
   "outputs": [],
   "source": [
    "### 1. Create a tuple with integers from 1 to 5."
   ]
  },
  {
   "cell_type": "code",
   "execution_count": 26,
   "id": "ff096d87-a766-420c-97d5-4a40598518a5",
   "metadata": {},
   "outputs": [
    {
     "name": "stdout",
     "output_type": "stream",
     "text": [
      "The third element of the tuple is: 30\n"
     ]
    }
   ],
   "source": [
    "# Step 1: Create a tuple\n",
    "my_tuple = (10, 20, 30, 40, 50)\n",
    "\n",
    "# Step 2: Access the third element of the tuple\n",
    "third_element = my_tuple[2]\n",
    "\n",
    "# Explanation: In this line, we use indexing to access the third element of the tuple.\n",
    "# Since indexing is 0-based, the third element is at index 2.\n",
    "\n",
    "# Step 3: Print the third element\n",
    "print(\"The third element of the tuple is:\", third_element)"
   ]
  },
  {
   "cell_type": "code",
   "execution_count": null,
   "id": "9d957515-a6c2-4ac2-83cd-d5f20571ca23",
   "metadata": {},
   "outputs": [],
   "source": []
  },
  {
   "cell_type": "code",
   "execution_count": null,
   "id": "dd2719d9-997b-47fa-ac31-946946567a7a",
   "metadata": {},
   "outputs": [],
   "source": [
    "### 2. Access the third element of a tuple."
   ]
  },
  {
   "cell_type": "code",
   "execution_count": 27,
   "id": "139db645-d240-4e42-9037-dbe32c4e1898",
   "metadata": {},
   "outputs": [
    {
     "name": "stdout",
     "output_type": "stream",
     "text": [
      "The third element of the tuple is: 30\n"
     ]
    }
   ],
   "source": [
    "# Step 1: Create a tuple with some elements\n",
    "my_tuple = (10, 20, 30, 40, 50)\n",
    "\n",
    "# Step 2: Access the third element (index 2) of the tuple\n",
    "third_element = my_tuple[2]\n",
    "\n",
    "# Step 3: Print the third element\n",
    "print(\"The third element of the tuple is:\", third_element)"
   ]
  },
  {
   "cell_type": "code",
   "execution_count": null,
   "id": "380e1ea1-ab46-41c3-acdc-f00b6e7b698b",
   "metadata": {},
   "outputs": [],
   "source": []
  },
  {
   "cell_type": "code",
   "execution_count": null,
   "id": "024ca551-c430-45ae-b868-840a5dc97634",
   "metadata": {},
   "outputs": [],
   "source": [
    "### 3. Find the length of a tuple without using the `len()` function."
   ]
  },
  {
   "cell_type": "code",
   "execution_count": 28,
   "id": "0f139686-bc79-415d-b50b-4f6efef1264f",
   "metadata": {},
   "outputs": [
    {
     "name": "stdout",
     "output_type": "stream",
     "text": [
      "The length of the tuple is: 5\n"
     ]
    }
   ],
   "source": [
    "# Step 1: Create a tuple\n",
    "my_tuple = (10, 20, 30, 40, 50)\n",
    "\n",
    "# Step 2: Initialize a variable to count the elements\n",
    "count = 0\n",
    "\n",
    "# Step 3: Iterate through the tuple and increment the count for each element\n",
    "for _ in my_tuple:\n",
    "    count += 1\n",
    "\n",
    "# Step 4: Print the length of the tuple\n",
    "print(\"The length of the tuple is:\", count)"
   ]
  },
  {
   "cell_type": "code",
   "execution_count": null,
   "id": "3d217556-c78c-4969-ab1e-7bfc40f9feac",
   "metadata": {},
   "outputs": [],
   "source": []
  },
  {
   "cell_type": "code",
   "execution_count": null,
   "id": "02156fdc-d81f-4463-9929-ea56794b0a36",
   "metadata": {},
   "outputs": [],
   "source": [
    "### 4. Count the occurrences of an element in a tuple."
   ]
  },
  {
   "cell_type": "code",
   "execution_count": 29,
   "id": "8ee77fd8-045b-4eab-8d07-b9f26d68aaa8",
   "metadata": {},
   "outputs": [
    {
     "name": "stdout",
     "output_type": "stream",
     "text": [
      "The element 20 appears 3 times in the tuple.\n"
     ]
    }
   ],
   "source": [
    "# Step 1: Create a tuple\n",
    "my_tuple = (10, 20, 30, 20, 40, 50, 20)\n",
    "\n",
    "# Step 2: Choose the element to count occurrences of\n",
    "element_to_count = 20\n",
    "\n",
    "# Step 3: Initialize a variable to keep track of the count\n",
    "count = 0\n",
    "\n",
    "# Step 4: Iterate through the tuple and count occurrences of the chosen element\n",
    "for item in my_tuple:\n",
    "    if item == element_to_count:\n",
    "        count += 1\n",
    "\n",
    "# Step 5: Print the count of occurrences\n",
    "print(f\"The element {element_to_count} appears {count} times in the tuple.\")"
   ]
  },
  {
   "cell_type": "code",
   "execution_count": null,
   "id": "34d88f20-321a-42c4-b74a-2e0a3408538b",
   "metadata": {},
   "outputs": [],
   "source": []
  },
  {
   "cell_type": "code",
   "execution_count": null,
   "id": "c22ccbdc-9d8d-4e7c-85b4-32aeee9aaf99",
   "metadata": {},
   "outputs": [],
   "source": [
    "### 5. Find the index of the first occurrence of an element in a tuple."
   ]
  },
  {
   "cell_type": "code",
   "execution_count": 30,
   "id": "a0fbf3eb-9073-449c-9cfa-6cc42033d743",
   "metadata": {},
   "outputs": [
    {
     "name": "stdout",
     "output_type": "stream",
     "text": [
      "The first occurrence of 20 is at index 1.\n"
     ]
    }
   ],
   "source": [
    "# Step 1: Create a tuple\n",
    "my_tuple = (10, 20, 30, 20, 40, 50)\n",
    "\n",
    "# Step 2: Choose the element to find the index of\n",
    "element_to_find = 20\n",
    "\n",
    "# Step 3: Initialize a variable to keep track of the index\n",
    "index = -1  # Initialize with -1 to indicate that the element was not found\n",
    "\n",
    "# Step 4: Iterate through the tuple and find the index of the chosen element\n",
    "for i, item in enumerate(my_tuple):\n",
    "    if item == element_to_find:\n",
    "        index = i\n",
    "        break  # Exit the loop once the first occurrence is found\n",
    "\n",
    "# Step 5: Print the index of the first occurrence\n",
    "if index != -1:\n",
    "    print(f\"The first occurrence of {element_to_find} is at index {index}.\")\n",
    "else:\n",
    "    print(f\"{element_to_find} is not found in the tuple.\")"
   ]
  },
  {
   "cell_type": "code",
   "execution_count": null,
   "id": "b24b8b1a-a6b2-449f-94d6-5ed60d48e544",
   "metadata": {},
   "outputs": [],
   "source": []
  },
  {
   "cell_type": "code",
   "execution_count": null,
   "id": "2b173f9f-edec-43c6-95d1-ada85afadd23",
   "metadata": {},
   "outputs": [],
   "source": [
    "### 6. Check if an element exists in a tuple."
   ]
  },
  {
   "cell_type": "code",
   "execution_count": 31,
   "id": "dd3251b0-269c-4cfe-9e3c-a874fbd6de07",
   "metadata": {},
   "outputs": [
    {
     "name": "stdout",
     "output_type": "stream",
     "text": [
      "30 exists in the tuple.\n"
     ]
    }
   ],
   "source": [
    "# Step 1: Create a tuple\n",
    "my_tuple = (10, 20, 30, 40, 50)\n",
    "\n",
    "# Step 2: Choose the element to check for existence\n",
    "element_to_check = 30\n",
    "\n",
    "# Step 3: Check if the element exists in the tuple using the 'in' operator\n",
    "if element_to_check in my_tuple:\n",
    "    print(f\"{element_to_check} exists in the tuple.\")\n",
    "else:\n",
    "    print(f\"{element_to_check} does not exist in the tuple.\")"
   ]
  },
  {
   "cell_type": "code",
   "execution_count": null,
   "id": "b51674a9-98f9-45ae-9aef-56bb592b1980",
   "metadata": {},
   "outputs": [],
   "source": []
  },
  {
   "cell_type": "code",
   "execution_count": null,
   "id": "7e3bd33d-9440-4286-818b-f936136a6816",
   "metadata": {},
   "outputs": [],
   "source": [
    "### 7. Convert a tuple to a list."
   ]
  },
  {
   "cell_type": "code",
   "execution_count": 32,
   "id": "50b2e51d-f70d-4734-8e9d-a71e7affecb6",
   "metadata": {},
   "outputs": [
    {
     "name": "stdout",
     "output_type": "stream",
     "text": [
      "Tuple: (10, 20, 30, 40, 50)\n",
      "List: [10, 20, 30, 40, 50]\n"
     ]
    }
   ],
   "source": [
    "# Step 1: Create a tuple\n",
    "my_tuple = (10, 20, 30, 40, 50)\n",
    "\n",
    "# Step 2: Convert the tuple to a list\n",
    "my_list = list(my_tuple)\n",
    "\n",
    "# Step 3: Print the resulting list\n",
    "print(\"Tuple:\", my_tuple)\n",
    "print(\"List:\", my_list)"
   ]
  },
  {
   "cell_type": "code",
   "execution_count": null,
   "id": "6018eadb-fbba-4fe0-9169-5d75f9121c1c",
   "metadata": {},
   "outputs": [],
   "source": []
  },
  {
   "cell_type": "code",
   "execution_count": null,
   "id": "e63b2708-f368-461b-82e0-721760647c41",
   "metadata": {},
   "outputs": [],
   "source": [
    "### 8. Convert a list to a tuple."
   ]
  },
  {
   "cell_type": "code",
   "execution_count": 33,
   "id": "c481f680-0445-4ee0-8990-2d4a894af623",
   "metadata": {},
   "outputs": [
    {
     "name": "stdout",
     "output_type": "stream",
     "text": [
      "List: [10, 20, 30, 40, 50]\n",
      "Tuple: (10, 20, 30, 40, 50)\n"
     ]
    }
   ],
   "source": [
    "# Step 1: Create a list\n",
    "my_list = [10, 20, 30, 40, 50]\n",
    "\n",
    "# Step 2: Convert the list to a tuple\n",
    "my_tuple = tuple(my_list)\n",
    "\n",
    "# Step 3: Print the resulting tuple\n",
    "print(\"List:\", my_list)\n",
    "print(\"Tuple:\", my_tuple)"
   ]
  },
  {
   "cell_type": "code",
   "execution_count": null,
   "id": "876ba535-524f-49f9-9b47-3397bb80d174",
   "metadata": {},
   "outputs": [],
   "source": []
  },
  {
   "cell_type": "code",
   "execution_count": null,
   "id": "bc108a88-488e-41ce-a677-1f06f40551e3",
   "metadata": {},
   "outputs": [],
   "source": [
    "### 9. Unpack the elements of a tuple into variables."
   ]
  },
  {
   "cell_type": "code",
   "execution_count": 34,
   "id": "c9e94cde-e825-4daf-9cd2-d4a154be8c4e",
   "metadata": {},
   "outputs": [
    {
     "name": "stdout",
     "output_type": "stream",
     "text": [
      "var1: 10\n",
      "var2: 20\n",
      "var3: 30\n"
     ]
    }
   ],
   "source": [
    "# Step 1: Create a tuple\n",
    "my_tuple = (10, 20, 30)\n",
    "\n",
    "# Step 2: Unpack the elements of the tuple into variables\n",
    "var1, var2, var3 = my_tuple\n",
    "\n",
    "# Step 3: Print the variables\n",
    "print(\"var1:\", var1)\n",
    "print(\"var2:\", var2)\n",
    "print(\"var3:\", var3)"
   ]
  },
  {
   "cell_type": "code",
   "execution_count": null,
   "id": "6c69dfcd-2d70-488d-b186-f8b35e40ebc5",
   "metadata": {},
   "outputs": [],
   "source": []
  },
  {
   "cell_type": "code",
   "execution_count": null,
   "id": "67b85996-b1e7-4b34-8207-2a33dc3d28bd",
   "metadata": {},
   "outputs": [],
   "source": [
    "### 10. Create a tuple of even numbers from 1 to 10."
   ]
  },
  {
   "cell_type": "code",
   "execution_count": 35,
   "id": "2e0e218c-e068-47ee-8104-e05b353cc6b9",
   "metadata": {},
   "outputs": [
    {
     "name": "stdout",
     "output_type": "stream",
     "text": [
      "Tuple of even numbers: (2, 4, 6, 8, 10)\n"
     ]
    }
   ],
   "source": [
    "# Step 1: Create a list of even numbers using a list comprehension\n",
    "even_numbers_list = [num for num in range(2, 11, 2)]  # Start from 2, step by 2, end at 10\n",
    "\n",
    "# Step 2: Convert the list to a tuple\n",
    "even_numbers_tuple = tuple(even_numbers_list)\n",
    "\n",
    "# Step 3: Print the resulting tuple\n",
    "print(\"Tuple of even numbers:\", even_numbers_tuple)"
   ]
  },
  {
   "cell_type": "code",
   "execution_count": null,
   "id": "f96c4fa3-b1f2-4b87-b4c8-ac69e41ff115",
   "metadata": {},
   "outputs": [],
   "source": []
  },
  {
   "cell_type": "code",
   "execution_count": null,
   "id": "ff4771e5-820b-4f52-9c0f-a76bce930d68",
   "metadata": {},
   "outputs": [],
   "source": [
    "### 11. Create a tuple of odd numbers from 1 to 10."
   ]
  },
  {
   "cell_type": "code",
   "execution_count": 36,
   "id": "60bfe8cb-6aee-4e51-a33e-ccde2193ef74",
   "metadata": {},
   "outputs": [
    {
     "name": "stdout",
     "output_type": "stream",
     "text": [
      "Tuple of even numbers: (2, 4, 6, 8, 10)\n"
     ]
    }
   ],
   "source": [
    "# Step 1: Create a list of even numbers using a list comprehension\n",
    "even_numbers_list = [num for num in range(2, 11, 2)]  # Start from 2, step by 2, end at 10\n",
    "\n",
    "# Step 2: Convert the list to a tuple\n",
    "even_numbers_tuple = tuple(even_numbers_list)\n",
    "\n",
    "# Step 3: Print the resulting tuple\n",
    "print(\"Tuple of even numbers:\", even_numbers_tuple)"
   ]
  },
  {
   "cell_type": "code",
   "execution_count": null,
   "id": "8ada3ca5-7422-4b70-8235-2c6b75c059a3",
   "metadata": {},
   "outputs": [],
   "source": []
  },
  {
   "cell_type": "code",
   "execution_count": null,
   "id": "5951a111-9f66-45bb-a88f-8439e5925865",
   "metadata": {},
   "outputs": [],
   "source": [
    "### 12. Concatenate two tuples."
   ]
  },
  {
   "cell_type": "code",
   "execution_count": 37,
   "id": "e60d57ee-4b70-4da1-a576-340e18ba15cd",
   "metadata": {},
   "outputs": [
    {
     "name": "stdout",
     "output_type": "stream",
     "text": [
      "Concatenated tuple: (1, 2, 3, 4, 5, 6)\n"
     ]
    }
   ],
   "source": [
    "# Step 1: Create two tuples\n",
    "tuple1 = (1, 2, 3)\n",
    "tuple2 = (4, 5, 6)\n",
    "\n",
    "# Step 2: Concatenate the two tuples\n",
    "concatenated_tuple = tuple1 + tuple2\n",
    "\n",
    "# Step 3: Print the concatenated tuple\n",
    "print(\"Concatenated tuple:\", concatenated_tuple)"
   ]
  },
  {
   "cell_type": "code",
   "execution_count": null,
   "id": "aa57814c-ddbf-4549-b8de-22994808f2dd",
   "metadata": {},
   "outputs": [],
   "source": []
  },
  {
   "cell_type": "code",
   "execution_count": null,
   "id": "3bd1073e-f86e-4a37-ad30-b4e6ad216761",
   "metadata": {},
   "outputs": [],
   "source": [
    "### 13. Repeat a tuple three times."
   ]
  },
  {
   "cell_type": "code",
   "execution_count": 38,
   "id": "a82d1222-0f66-4fcf-8487-0d3e96f52e45",
   "metadata": {},
   "outputs": [
    {
     "name": "stdout",
     "output_type": "stream",
     "text": [
      "Repeated tuple: (1, 2, 3, 1, 2, 3, 1, 2, 3)\n"
     ]
    }
   ],
   "source": [
    "# Step 1: Create a tuple\n",
    "original_tuple = (1, 2, 3)\n",
    "\n",
    "# Step 2: Repeat the tuple three times\n",
    "repeated_tuple = original_tuple * 3\n",
    "\n",
    "# Step 3: Print the repeated tuple\n",
    "print(\"Repeated tuple:\", repeated_tuple)"
   ]
  },
  {
   "cell_type": "code",
   "execution_count": null,
   "id": "6910224e-c4ff-4236-b11b-9bb58ac9301d",
   "metadata": {},
   "outputs": [],
   "source": []
  },
  {
   "cell_type": "code",
   "execution_count": null,
   "id": "15506079-9506-4548-b727-77a16ecb8316",
   "metadata": {},
   "outputs": [],
   "source": [
    "### 14. Check if a tuple is empty."
   ]
  },
  {
   "cell_type": "code",
   "execution_count": 39,
   "id": "6f2b9af0-7870-4c61-9c5e-5235ff7e644d",
   "metadata": {},
   "outputs": [
    {
     "name": "stdout",
     "output_type": "stream",
     "text": [
      "The empty_tuple is empty.\n",
      "The non_empty_tuple is not empty.\n"
     ]
    }
   ],
   "source": [
    "# Step 1: Create an empty tuple and a non-empty tuple\n",
    "empty_tuple = ()\n",
    "non_empty_tuple = (1, 2, 3)\n",
    "\n",
    "# Step 2: Check if the tuples are empty\n",
    "if not empty_tuple:\n",
    "    print(\"The empty_tuple is empty.\")\n",
    "else:\n",
    "    print(\"The empty_tuple is not empty.\")\n",
    "\n",
    "if not non_empty_tuple:\n",
    "    print(\"The non_empty_tuple is empty.\")\n",
    "else:\n",
    "    print(\"The non_empty_tuple is not empty.\")"
   ]
  },
  {
   "cell_type": "code",
   "execution_count": null,
   "id": "74350af3-97a6-403a-a509-c4f3a75f39af",
   "metadata": {},
   "outputs": [],
   "source": []
  },
  {
   "cell_type": "code",
   "execution_count": null,
   "id": "2bda35f0-03bb-4396-b38b-04ecc56c6b09",
   "metadata": {},
   "outputs": [],
   "source": [
    "### 15. Create a nested tuple."
   ]
  },
  {
   "cell_type": "code",
   "execution_count": 40,
   "id": "15af9cae-03bd-49a9-b858-f3f8246b6f23",
   "metadata": {},
   "outputs": [
    {
     "name": "stdout",
     "output_type": "stream",
     "text": [
      "Nested tuple: ((1, 2, 3), ('a', 'b', 'c'), (True, False))\n"
     ]
    }
   ],
   "source": [
    "# Step 1: Create a nested tuple\n",
    "nested_tuple = ((1, 2, 3), ('a', 'b', 'c'), (True, False))\n",
    "\n",
    "# Step 2: Print the nested tuple\n",
    "print(\"Nested tuple:\", nested_tuple)"
   ]
  },
  {
   "cell_type": "code",
   "execution_count": null,
   "id": "952938df-0f5e-4001-a27f-6b1e873afa8f",
   "metadata": {},
   "outputs": [],
   "source": []
  },
  {
   "cell_type": "code",
   "execution_count": null,
   "id": "8975f4f2-6204-4dfe-9f62-31de13634846",
   "metadata": {},
   "outputs": [],
   "source": [
    "### 16. Access the first element of a nested tuple."
   ]
  },
  {
   "cell_type": "code",
   "execution_count": 41,
   "id": "4cebcb8e-5cb0-4953-9665-be89aebfc4f4",
   "metadata": {},
   "outputs": [
    {
     "name": "stdout",
     "output_type": "stream",
     "text": [
      "First element of the nested tuple: (1, 2, 3)\n"
     ]
    }
   ],
   "source": [
    "# Step 1: Create a nested tuple\n",
    "nested_tuple = ((1, 2, 3), ('a', 'b', 'c'), (True, False))\n",
    "\n",
    "# Step 2: Access the first element of the nested tuple\n",
    "first_element = nested_tuple[0]\n",
    "\n",
    "# Step 3: Print the first element\n",
    "print(\"First element of the nested tuple:\", first_element)"
   ]
  },
  {
   "cell_type": "code",
   "execution_count": null,
   "id": "a2a492f2-4e32-4f57-8ab3-a88315832632",
   "metadata": {},
   "outputs": [],
   "source": []
  },
  {
   "cell_type": "code",
   "execution_count": null,
   "id": "e29fd3fe-a4c8-416a-8c4f-d3c0a8d14aed",
   "metadata": {},
   "outputs": [],
   "source": [
    "### 17. Create a tuple with a single element."
   ]
  },
  {
   "cell_type": "code",
   "execution_count": 42,
   "id": "1ad1b621-671b-40e1-8fe4-28ba2627f571",
   "metadata": {},
   "outputs": [
    {
     "name": "stdout",
     "output_type": "stream",
     "text": [
      "Single element tuple: (42,)\n"
     ]
    }
   ],
   "source": [
    "# Step 1: Create a tuple with a single element\n",
    "single_element_tuple = (42,)  # Note the trailing comma\n",
    "\n",
    "# Step 2: Print the single element tuple\n",
    "print(\"Single element tuple:\", single_element_tuple)"
   ]
  },
  {
   "cell_type": "code",
   "execution_count": null,
   "id": "212f223e-12a5-4679-8ec7-72ddcfe0bef1",
   "metadata": {},
   "outputs": [],
   "source": []
  },
  {
   "cell_type": "code",
   "execution_count": null,
   "id": "602dbc7a-de9f-49f1-915d-90b43987589c",
   "metadata": {},
   "outputs": [],
   "source": [
    "### 18. Compare two tuples."
   ]
  },
  {
   "cell_type": "code",
   "execution_count": 43,
   "id": "2e4de2bf-614f-4588-80e9-8c2d5c1e5e99",
   "metadata": {},
   "outputs": [
    {
     "name": "stdout",
     "output_type": "stream",
     "text": [
      "tuple1 == tuple2: False\n",
      "tuple1 != tuple2: True\n",
      "tuple1 < tuple2: True\n",
      "tuple1 <= tuple2: True\n",
      "tuple1 > tuple2: False\n",
      "tuple1 >= tuple2: False\n"
     ]
    }
   ],
   "source": [
    "# Step 1: Create two tuples\n",
    "tuple1 = (1, 2, 3)\n",
    "tuple2 = (1, 2, 4)\n",
    "\n",
    "# Step 2: Compare the two tuples using comparison operators\n",
    "print(\"tuple1 == tuple2:\", tuple1 == tuple2)  # Equality check\n",
    "print(\"tuple1 != tuple2:\", tuple1 != tuple2)  # Inequality check\n",
    "print(\"tuple1 < tuple2:\", tuple1 < tuple2)    # Less than check\n",
    "print(\"tuple1 <= tuple2:\", tuple1 <= tuple2)  # Less than or equal to check\n",
    "print(\"tuple1 > tuple2:\", tuple1 > tuple2)    # Greater than check\n",
    "print(\"tuple1 >= tuple2:\", tuple1 >= tuple2)  # Greater than or equal to check"
   ]
  },
  {
   "cell_type": "code",
   "execution_count": null,
   "id": "f1c3d7b1-a56e-465b-8e42-5e3d5e44676b",
   "metadata": {},
   "outputs": [],
   "source": []
  },
  {
   "cell_type": "code",
   "execution_count": null,
   "id": "18287e01-9dd6-4506-b1a0-836b5b158d42",
   "metadata": {},
   "outputs": [],
   "source": [
    "### 19. Delete a tuple."
   ]
  },
  {
   "cell_type": "code",
   "execution_count": 45,
   "id": "085a7a02-a2c8-4c7b-a019-8a446c9befec",
   "metadata": {},
   "outputs": [
    {
     "ename": "NameError",
     "evalue": "name 'my_tuple' is not defined",
     "output_type": "error",
     "traceback": [
      "\u001b[0;31m---------------------------------------------------------------------------\u001b[0m",
      "\u001b[0;31mNameError\u001b[0m                                 Traceback (most recent call last)",
      "Cell \u001b[0;32mIn[45], line 8\u001b[0m\n\u001b[1;32m      5\u001b[0m \u001b[38;5;28;01mdel\u001b[39;00m my_tuple\n\u001b[1;32m      7\u001b[0m \u001b[38;5;66;03m# Step 3: Try to access the tuple (will raise a NameError)\u001b[39;00m\n\u001b[0;32m----> 8\u001b[0m \u001b[38;5;28mprint\u001b[39m(\u001b[43mmy_tuple\u001b[49m)\n",
      "\u001b[0;31mNameError\u001b[0m: name 'my_tuple' is not defined"
     ]
    }
   ],
   "source": [
    "# Step 1: Create a tuple\n",
    "my_tuple = (1, 2, 3, 4, 5)\n",
    "\n",
    "# Step 2: Delete the tuple using the 'del' statement\n",
    "del my_tuple\n",
    "\n",
    "# Step 3: Try to access the tuple (will raise a NameError)\n",
    "print(my_tuple)"
   ]
  },
  {
   "cell_type": "code",
   "execution_count": null,
   "id": "76ed5d09-506a-45e7-bce9-5c9f9f3164a2",
   "metadata": {},
   "outputs": [],
   "source": []
  },
  {
   "cell_type": "code",
   "execution_count": null,
   "id": "abfe71b0-8e11-4761-8c10-77f9cdf5a505",
   "metadata": {},
   "outputs": [],
   "source": [
    "### 20. Slice a tuple."
   ]
  },
  {
   "cell_type": "code",
   "execution_count": 46,
   "id": "dd6a8fa2-02dc-4ac2-90d4-81b1c6b95c38",
   "metadata": {},
   "outputs": [
    {
     "name": "stdout",
     "output_type": "stream",
     "text": [
      "Sliced tuple: (3, 4, 5, 6)\n"
     ]
    }
   ],
   "source": [
    "# Step 1: Create a tuple\n",
    "my_tuple = (1, 2, 3, 4, 5, 6, 7, 8, 9, 10)\n",
    "\n",
    "# Step 2: Slice the tuple to get a portion of it\n",
    "sliced_tuple = my_tuple[2:6]  # Elements from index 2 to 5 (end index is exclusive)\n",
    "\n",
    "# Step 3: Print the sliced tuple\n",
    "print(\"Sliced tuple:\", sliced_tuple)"
   ]
  },
  {
   "cell_type": "code",
   "execution_count": null,
   "id": "0eefb958-50d0-4d8f-8044-49b3a828454f",
   "metadata": {},
   "outputs": [],
   "source": []
  },
  {
   "cell_type": "code",
   "execution_count": null,
   "id": "240a3cda-8d8d-4927-9dc8-0e1505916ba3",
   "metadata": {},
   "outputs": [],
   "source": [
    "### 21. Find the maximum value in a tuple."
   ]
  },
  {
   "cell_type": "code",
   "execution_count": 47,
   "id": "d84fce72-7496-4e45-84c8-14c34c524065",
   "metadata": {},
   "outputs": [
    {
     "name": "stdout",
     "output_type": "stream",
     "text": [
      "Maximum value: 45\n"
     ]
    }
   ],
   "source": [
    "# Step 1: Create a tuple\n",
    "my_tuple = (10, 20, 5, 45, 30)\n",
    "\n",
    "# Step 2: Find the maximum value in the tuple using the 'max()' function\n",
    "max_value = max(my_tuple)\n",
    "\n",
    "# Step 3: Print the maximum value\n",
    "print(\"Maximum value:\", max_value)"
   ]
  },
  {
   "cell_type": "code",
   "execution_count": null,
   "id": "5817469f-5292-4a6e-8284-4050063787b1",
   "metadata": {},
   "outputs": [],
   "source": []
  },
  {
   "cell_type": "code",
   "execution_count": null,
   "id": "d52450f1-81f6-4f23-b423-b6f2052a423d",
   "metadata": {},
   "outputs": [],
   "source": [
    "### 22. Find the minimum value in a tuple."
   ]
  },
  {
   "cell_type": "code",
   "execution_count": 48,
   "id": "998974c1-5f3f-445d-89dc-34c2649d3d37",
   "metadata": {},
   "outputs": [
    {
     "name": "stdout",
     "output_type": "stream",
     "text": [
      "Minimum value: 5\n"
     ]
    }
   ],
   "source": [
    "# Step 1: Create a tuple\n",
    "my_tuple = (10, 20, 5, 45, 30)\n",
    "\n",
    "# Step 2: Find the minimum value in the tuple using the 'min()' function\n",
    "min_value = min(my_tuple)\n",
    "\n",
    "# Step 3: Print the minimum value\n",
    "print(\"Minimum value:\", min_value)"
   ]
  },
  {
   "cell_type": "code",
   "execution_count": null,
   "id": "5fe6b909-9113-4758-a1f7-ee77a4218e26",
   "metadata": {},
   "outputs": [],
   "source": []
  },
  {
   "cell_type": "code",
   "execution_count": null,
   "id": "9c67189d-0255-4d98-b06a-0e919f5e554c",
   "metadata": {},
   "outputs": [],
   "source": [
    "### 23. Convert a string to a tuple of characters."
   ]
  },
  {
   "cell_type": "code",
   "execution_count": 49,
   "id": "5a272f0a-8d9b-44f9-8f6c-fac662532d41",
   "metadata": {},
   "outputs": [
    {
     "name": "stdout",
     "output_type": "stream",
     "text": [
      "Tuple of characters: ('H', 'e', 'l', 'l', 'o', ',', ' ', 'W', 'o', 'r', 'l', 'd', '!')\n"
     ]
    }
   ],
   "source": [
    "# Step 1: Create a string\n",
    "my_string = \"Hello, World!\"\n",
    "\n",
    "# Step 2: Convert the string to a tuple of characters\n",
    "tuple_of_characters = tuple(my_string)\n",
    "\n",
    "# Step 3: Print the tuple of characters\n",
    "print(\"Tuple of characters:\", tuple_of_characters)"
   ]
  },
  {
   "cell_type": "code",
   "execution_count": null,
   "id": "0504f56a-3b66-4f10-ae68-3a06fd7faf6d",
   "metadata": {},
   "outputs": [],
   "source": []
  },
  {
   "cell_type": "code",
   "execution_count": null,
   "id": "27f69272-5066-493c-9d37-75cd77f9cdd3",
   "metadata": {},
   "outputs": [],
   "source": [
    "### 24. Convert a tuple of characters to a string."
   ]
  },
  {
   "cell_type": "code",
   "execution_count": 50,
   "id": "e0b1a9b7-2248-49f4-a646-86277d4de681",
   "metadata": {},
   "outputs": [
    {
     "name": "stdout",
     "output_type": "stream",
     "text": [
      "String from tuple: Hello World!\n"
     ]
    }
   ],
   "source": [
    "# Step 1: Create a tuple of characters\n",
    "tuple_of_characters = ('H', 'e', 'l', 'l', 'o', ' ', 'W', 'o', 'r', 'l', 'd', '!')\n",
    "\n",
    "# Step 2: Convert the tuple of characters to a string using the 'join()' method\n",
    "string_from_tuple = ''.join(tuple_of_characters)\n",
    "\n",
    "# Step 3: Print the resulting string\n",
    "print(\"String from tuple:\", string_from_tuple)"
   ]
  },
  {
   "cell_type": "code",
   "execution_count": null,
   "id": "102ab745-cfea-4e5d-a832-d5f808051ec7",
   "metadata": {},
   "outputs": [],
   "source": []
  },
  {
   "cell_type": "code",
   "execution_count": null,
   "id": "117f0ce7-7f67-4896-9439-494664a7bac5",
   "metadata": {},
   "outputs": [],
   "source": [
    "### 25. Create a tuple from multiple data types."
   ]
  },
  {
   "cell_type": "code",
   "execution_count": 51,
   "id": "f7e20b83-0e90-42eb-8a89-6b44d332c4d2",
   "metadata": {},
   "outputs": [
    {
     "name": "stdout",
     "output_type": "stream",
     "text": [
      "(1, 'hello', 3.14, True)\n"
     ]
    }
   ],
   "source": [
    "# Creating a tuple with elements of different data types\n",
    "mixed_tuple = (1, \"hello\", 3.14, True)\n",
    "\n",
    "# Printing the tuple\n",
    "print(mixed_tuple)"
   ]
  },
  {
   "cell_type": "code",
   "execution_count": null,
   "id": "31cf332a-4fe5-4d04-830b-4d833a38ffa9",
   "metadata": {},
   "outputs": [],
   "source": []
  },
  {
   "cell_type": "code",
   "execution_count": null,
   "id": "af5c6e99-ad0c-4448-9dcb-2ba799dd7a38",
   "metadata": {},
   "outputs": [],
   "source": [
    "### 26. Check if two tuples are identical."
   ]
  },
  {
   "cell_type": "code",
   "execution_count": 52,
   "id": "329af6e9-d21f-4e0f-a45a-c3a8eec9db47",
   "metadata": {},
   "outputs": [
    {
     "name": "stdout",
     "output_type": "stream",
     "text": [
      "tuple1 and tuple2 are identical: True\n",
      "tuple1 and tuple3 are identical: False\n"
     ]
    }
   ],
   "source": [
    "# Step 1: Create two tuples\n",
    "tuple1 = (1, 2, 3)\n",
    "tuple2 = (1, 2, 3)\n",
    "tuple3 = (4, 5, 6)\n",
    "\n",
    "# Step 2: Compare the tuples for identity using the equality operator\n",
    "are_identical1 = tuple1 == tuple2\n",
    "are_identical2 = tuple1 == tuple3\n",
    "\n",
    "# Step 3: Print the results\n",
    "print(\"tuple1 and tuple2 are identical:\", are_identical1)\n",
    "print(\"tuple1 and tuple3 are identical:\", are_identical2)"
   ]
  },
  {
   "cell_type": "code",
   "execution_count": null,
   "id": "ccd470d5-4c96-416b-a9ba-b7b8d3a33d72",
   "metadata": {},
   "outputs": [],
   "source": []
  },
  {
   "cell_type": "code",
   "execution_count": null,
   "id": "ca8ee5c8-271f-4bec-b7ec-3b87a07325bd",
   "metadata": {},
   "outputs": [],
   "source": [
    "### 27. Sort the elements of a tuple."
   ]
  },
  {
   "cell_type": "code",
   "execution_count": 53,
   "id": "28fa5cf1-2282-47ef-a9d2-86dda31ed248",
   "metadata": {},
   "outputs": [
    {
     "name": "stdout",
     "output_type": "stream",
     "text": [
      "Sorted tuple: (1, 2, 3, 5, 8)\n"
     ]
    }
   ],
   "source": [
    "# Step 1: Create a tuple\n",
    "my_tuple = (5, 2, 8, 1, 3)\n",
    "\n",
    "# Step 2: Convert the tuple to a list, sort the list, and convert it back to a tuple\n",
    "sorted_tuple = tuple(sorted(my_tuple))\n",
    "\n",
    "# Step 3: Print the sorted tuple\n",
    "print(\"Sorted tuple:\", sorted_tuple)"
   ]
  },
  {
   "cell_type": "code",
   "execution_count": null,
   "id": "3d7203ca-ca2f-48c8-b5ba-0de5bf25e5d6",
   "metadata": {},
   "outputs": [],
   "source": []
  },
  {
   "cell_type": "code",
   "execution_count": null,
   "id": "80a032c0-5579-4bbc-8e1b-2670dc7b8d5e",
   "metadata": {},
   "outputs": [],
   "source": [
    "### 28. Convert a tuple of integers to a tuple of strings."
   ]
  },
  {
   "cell_type": "code",
   "execution_count": 54,
   "id": "73c79366-2d34-478b-a489-61ed4c97d39a",
   "metadata": {},
   "outputs": [
    {
     "name": "stdout",
     "output_type": "stream",
     "text": [
      "Tuple of strings: ('1', '2', '3', '4', '5')\n"
     ]
    }
   ],
   "source": [
    "# Step 1: Create a tuple of integers\n",
    "tuple_of_integers = (1, 2, 3, 4, 5)\n",
    "\n",
    "# Step 2: Convert the tuple of integers to a tuple of strings using a list comprehension\n",
    "tuple_of_strings = tuple(str(item) for item in tuple_of_integers)\n",
    "\n",
    "# Step 3: Print the tuple of strings\n",
    "print(\"Tuple of strings:\", tuple_of_strings)"
   ]
  },
  {
   "cell_type": "code",
   "execution_count": null,
   "id": "98ff8f37-2ecb-4963-85ef-752b0153da02",
   "metadata": {},
   "outputs": [],
   "source": []
  },
  {
   "cell_type": "code",
   "execution_count": null,
   "id": "c1ccd49f-2a69-4aa5-a23b-4519ba2d9b03",
   "metadata": {},
   "outputs": [],
   "source": [
    "# 29. Convert a tuple of strings to a tuple of integers.\n",
    "\n"
   ]
  },
  {
   "cell_type": "code",
   "execution_count": 55,
   "id": "88734728-ae63-4674-80af-1341129eeaa1",
   "metadata": {},
   "outputs": [
    {
     "name": "stdout",
     "output_type": "stream",
     "text": [
      "Tuple of integers: (10, 20, 30, 40, 50)\n"
     ]
    }
   ],
   "source": [
    "# Step 1: Create a tuple of strings\n",
    "tuple_of_strings = ('10', '20', '30', '40', '50')\n",
    "\n",
    "# Step 2: Convert the tuple of strings to a tuple of integers using a list comprehension\n",
    "tuple_of_integers = tuple(int(item) for item in tuple_of_strings)\n",
    "\n",
    "# Step 3: Print the tuple of integers\n",
    "print(\"Tuple of integers:\", tuple_of_integers)"
   ]
  },
  {
   "cell_type": "code",
   "execution_count": null,
   "id": "d9ab4f44-c127-44c4-8631-b49ee7f2062b",
   "metadata": {},
   "outputs": [],
   "source": []
  },
  {
   "cell_type": "code",
   "execution_count": null,
   "id": "90b39b1e-d667-4bca-b7fc-68c910c0809b",
   "metadata": {},
   "outputs": [],
   "source": [
    "# 30. Merge two tuples.\n"
   ]
  },
  {
   "cell_type": "code",
   "execution_count": 56,
   "id": "ee9b37df-4049-4b93-9d3d-b465cd7dd27c",
   "metadata": {},
   "outputs": [
    {
     "name": "stdout",
     "output_type": "stream",
     "text": [
      "Merged tuple: (1, 2, 3, 4, 5, 6)\n"
     ]
    }
   ],
   "source": [
    "# Step 1: Create two tuples\n",
    "tuple1 = (1, 2, 3)\n",
    "tuple2 = (4, 5, 6)\n",
    "\n",
    "# Step 2: Merge the two tuples using the '+' operator\n",
    "merged_tuple = tuple1 + tuple2\n",
    "\n",
    "# Step 3: Print the merged tuple\n",
    "print(\"Merged tuple:\", merged_tuple)"
   ]
  },
  {
   "cell_type": "code",
   "execution_count": null,
   "id": "a0c7a20b-6ba8-4cdc-b660-58cda776d700",
   "metadata": {},
   "outputs": [],
   "source": []
  },
  {
   "cell_type": "code",
   "execution_count": null,
   "id": "5eef91b4-a36b-47e1-9954-1da82740baf2",
   "metadata": {},
   "outputs": [],
   "source": [
    "# 31. Flatten a nested tuple.\n"
   ]
  },
  {
   "cell_type": "code",
   "execution_count": 57,
   "id": "95bcf842-46b3-44db-9571-a11d1e9d778c",
   "metadata": {},
   "outputs": [
    {
     "name": "stdout",
     "output_type": "stream",
     "text": [
      "Flattened tuple: (1, 2, 3, 4, 5, 6, 7, 8)\n"
     ]
    }
   ],
   "source": [
    "# Recursive function to flatten a nested tuple\n",
    "def flatten_tuple(nested_tuple):\n",
    "    flattened = []\n",
    "    for item in nested_tuple:\n",
    "        if isinstance(item, tuple):\n",
    "            flattened.extend(flatten_tuple(item))\n",
    "        else:\n",
    "            flattened.append(item)\n",
    "    return flattened\n",
    "\n",
    "# Step 1: Create a nested tuple\n",
    "nested_tuple = ((1, 2), (3, 4, 5), (6, (7, 8)))\n",
    "\n",
    "# Step 2: Flatten the nested tuple\n",
    "flattened_tuple = tuple(flatten_tuple(nested_tuple))\n",
    "\n",
    "# Step 3: Print the flattened tuple\n",
    "print(\"Flattened tuple:\", flattened_tuple)"
   ]
  },
  {
   "cell_type": "code",
   "execution_count": null,
   "id": "7d9c227f-d253-4da2-b88a-358a86f7c400",
   "metadata": {},
   "outputs": [],
   "source": [
    "# 32. Create a tuple of the first 5 prime numbers.\n"
   ]
  },
  {
   "cell_type": "code",
   "execution_count": 85,
   "id": "f9a3dc38-7372-45c4-b45f-d8e0f67acdf6",
   "metadata": {},
   "outputs": [
    {
     "name": "stdout",
     "output_type": "stream",
     "text": [
      "Tuple of the first 5 prime numbers: (2, 3, 5, 7, 11)\n"
     ]
    }
   ],
   "source": [
    "# Function to check if a number is prime\n",
    "def is_prime(num):\n",
    "    if num <= 1:\n",
    "        return False\n",
    "    for i in range(2, int(num ** 0.5) + 1):\n",
    "        if num % i == 0:\n",
    "            return False\n",
    "    return True\n",
    "\n",
    "# Generate the first 5 prime numbers\n",
    "prime_numbers_list = [num for num in range(2, 100) if is_prime(num)][:5]\n",
    "\n",
    "# Convert the list to a tuple\n",
    "prime_numbers_tuple = tuple(prime_numbers_list)\n",
    "\n",
    "# Print the tuple of prime numbers\n",
    "print(\"Tuple of the first 5 prime numbers:\", prime_numbers_tuple)"
   ]
  },
  {
   "cell_type": "code",
   "execution_count": null,
   "id": "169686bb-b796-4be7-9dc5-22eb0fb891b8",
   "metadata": {},
   "outputs": [],
   "source": []
  },
  {
   "cell_type": "code",
   "execution_count": null,
   "id": "07720261-e356-4c8f-b3c4-49f41e3d6d3e",
   "metadata": {},
   "outputs": [],
   "source": [
    "# 33. Check if a tuple is a palindrome.\n"
   ]
  },
  {
   "cell_type": "code",
   "execution_count": 60,
   "id": "b65feeed-abfb-495e-9e4b-529b8edb025c",
   "metadata": {},
   "outputs": [
    {
     "name": "stdout",
     "output_type": "stream",
     "text": [
      "palindrome_tuple is a palindrome: True\n",
      "non_palindrome_tuple is a palindrome: False\n"
     ]
    }
   ],
   "source": [
    "def is_palindrome(tup):\n",
    "    return tup == tup[::-1]\n",
    "\n",
    "# Create tuples for testing\n",
    "palindrome_tuple = (1, 2, 3, 2, 1)\n",
    "non_palindrome_tuple = (1, 2, 3, 4, 5)\n",
    "\n",
    "# Check if the tuples are palindromes\n",
    "is_palindrome1 = is_palindrome(palindrome_tuple)\n",
    "is_palindrome2 = is_palindrome(non_palindrome_tuple)\n",
    "\n",
    "# Print the results\n",
    "print(\"palindrome_tuple is a palindrome:\", is_palindrome1)\n",
    "print(\"non_palindrome_tuple is a palindrome:\", is_palindrome2)"
   ]
  },
  {
   "cell_type": "code",
   "execution_count": null,
   "id": "c4b03a69-75bd-4cdd-9f28-5e4720590c22",
   "metadata": {},
   "outputs": [],
   "source": []
  },
  {
   "cell_type": "code",
   "execution_count": null,
   "id": "fa354841-318d-4e10-9719-4f613165e398",
   "metadata": {},
   "outputs": [],
   "source": [
    "# 34. Create a tuple of squares of numbers from 1 to 5.\n"
   ]
  },
  {
   "cell_type": "code",
   "execution_count": 61,
   "id": "3ae06c26-998f-4a30-9e79-f26fcbcd74e4",
   "metadata": {},
   "outputs": [
    {
     "name": "stdout",
     "output_type": "stream",
     "text": [
      "Tuple of squares: (1, 4, 9, 16, 25)\n"
     ]
    }
   ],
   "source": [
    "# Create a tuple of squares using a list comprehension\n",
    "squares_tuple = tuple(x ** 2 for x in range(1, 6))\n",
    "\n",
    "# Print the tuple of squares\n",
    "print(\"Tuple of squares:\", squares_tuple)"
   ]
  },
  {
   "cell_type": "code",
   "execution_count": null,
   "id": "3d25a9fb-e9ea-4ca2-87a5-09984adde84e",
   "metadata": {},
   "outputs": [],
   "source": []
  },
  {
   "cell_type": "code",
   "execution_count": null,
   "id": "eb529218-b77a-49db-b717-a57797bfcc6e",
   "metadata": {},
   "outputs": [],
   "source": [
    "# 35. Filter out all even numbers from a tuple.\n"
   ]
  },
  {
   "cell_type": "code",
   "execution_count": 62,
   "id": "5c1bfe9b-976b-4303-8e0d-c5a918d2766b",
   "metadata": {},
   "outputs": [
    {
     "name": "stdout",
     "output_type": "stream",
     "text": [
      "Filtered tuple: (1, 3, 5, 7, 9)\n"
     ]
    }
   ],
   "source": [
    "# Create a tuple\n",
    "original_tuple = (1, 2, 3, 4, 5, 6, 7, 8, 9, 10)\n",
    "\n",
    "# Filter out even numbers using a list comprehension\n",
    "filtered_tuple = tuple(num for num in original_tuple if num % 2 != 0)\n",
    "\n",
    "# Print the filtered tuple\n",
    "print(\"Filtered tuple:\", filtered_tuple)"
   ]
  },
  {
   "cell_type": "code",
   "execution_count": null,
   "id": "d9524fef-40ee-4df1-a8a1-cd5ca9fa36bc",
   "metadata": {},
   "outputs": [],
   "source": []
  },
  {
   "cell_type": "code",
   "execution_count": null,
   "id": "8a740272-7e1b-42fb-a21f-6e8182eb8089",
   "metadata": {},
   "outputs": [],
   "source": [
    "# 36. Multiply all elements in a tuple by 2.\n"
   ]
  },
  {
   "cell_type": "code",
   "execution_count": 63,
   "id": "df12d918-4886-4f82-9de3-b0cb9f8284ba",
   "metadata": {},
   "outputs": [
    {
     "name": "stdout",
     "output_type": "stream",
     "text": [
      "Doubled tuple: (2, 4, 6, 8, 10)\n"
     ]
    }
   ],
   "source": [
    "# Create a tuple\n",
    "original_tuple = (1, 2, 3, 4, 5)\n",
    "\n",
    "# Multiply all elements by 2 using a list comprehension and convert to a tuple\n",
    "doubled_tuple = tuple(num * 2 for num in original_tuple)\n",
    "\n",
    "# Print the doubled tuple\n",
    "print(\"Doubled tuple:\", doubled_tuple)"
   ]
  },
  {
   "cell_type": "code",
   "execution_count": null,
   "id": "86a78192-a5d9-41f8-b2c7-063e6451b92f",
   "metadata": {},
   "outputs": [],
   "source": []
  },
  {
   "cell_type": "code",
   "execution_count": null,
   "id": "4e678245-491e-41dd-98f5-139b64df6356",
   "metadata": {},
   "outputs": [],
   "source": [
    "# 37. Create a tuple of random numbers.\n"
   ]
  },
  {
   "cell_type": "code",
   "execution_count": 64,
   "id": "db60291c-1ad7-4090-a34f-0589bf89c654",
   "metadata": {},
   "outputs": [
    {
     "name": "stdout",
     "output_type": "stream",
     "text": [
      "Random tuple: (48, 24, 96, 73, 14, 94, 49, 96, 100, 49)\n"
     ]
    }
   ],
   "source": [
    "import random\n",
    "\n",
    "# Create a tuple of random numbers using a list comprehension\n",
    "random_tuple = tuple(random.randint(1, 100) for _ in range(10))  # Generating 10 random numbers between 1 and 100\n",
    "\n",
    "# Print the tuple of random numbers\n",
    "print(\"Random tuple:\", random_tuple)"
   ]
  },
  {
   "cell_type": "code",
   "execution_count": null,
   "id": "d0ee5200-7b87-4c3b-a2fc-03d215415cb0",
   "metadata": {},
   "outputs": [],
   "source": []
  },
  {
   "cell_type": "code",
   "execution_count": null,
   "id": "4a2fdb13-9dc0-4184-8cf9-37548c23a083",
   "metadata": {},
   "outputs": [],
   "source": [
    "# 38. Check if a tuple is sorted.\n"
   ]
  },
  {
   "cell_type": "code",
   "execution_count": 65,
   "id": "af2679f3-724e-4707-a162-eb5391888765",
   "metadata": {},
   "outputs": [
    {
     "name": "stdout",
     "output_type": "stream",
     "text": [
      "sorted_tuple is sorted: True\n",
      "unsorted_tuple is sorted: False\n"
     ]
    }
   ],
   "source": [
    "# Function to check if a tuple is sorted\n",
    "def is_sorted(tup):\n",
    "    for i in range(len(tup) - 1):\n",
    "        if tup[i] > tup[i + 1]:\n",
    "            return False\n",
    "    return True\n",
    "\n",
    "# Create tuples for testing\n",
    "sorted_tuple = (1, 2, 3, 4, 5)\n",
    "unsorted_tuple = (5, 3, 1, 4, 2)\n",
    "\n",
    "# Check if the tuples are sorted\n",
    "is_sorted1 = is_sorted(sorted_tuple)\n",
    "is_sorted2 = is_sorted(unsorted_tuple)\n",
    "\n",
    "# Print the results\n",
    "print(\"sorted_tuple is sorted:\", is_sorted1)\n",
    "print(\"unsorted_tuple is sorted:\", is_sorted2)"
   ]
  },
  {
   "cell_type": "code",
   "execution_count": null,
   "id": "52faeaa4-c14a-4c86-b4ff-b34983fc176d",
   "metadata": {},
   "outputs": [],
   "source": []
  },
  {
   "cell_type": "code",
   "execution_count": null,
   "id": "7057c6eb-1a53-4ed7-b4cf-0f59a275f91a",
   "metadata": {},
   "outputs": [],
   "source": [
    "# 39. Rotate a tuple to the left by `n` positions.\n"
   ]
  },
  {
   "cell_type": "code",
   "execution_count": 66,
   "id": "e74d9bfe-9321-4894-b891-d3cbe12c22ac",
   "metadata": {},
   "outputs": [
    {
     "name": "stdout",
     "output_type": "stream",
     "text": [
      "(3, 4, 5, 1, 2)\n"
     ]
    }
   ],
   "source": [
    "def rotate_tuple_left(tup, n):\n",
    "    n = n % len(tup)  # Ensure n is within the range of tuple length\n",
    "    rotated_tuple = tup[n:] + tup[:n]  # Rotate the tuple\n",
    "    return rotated_tuple\n",
    "\n",
    "# Example tuple\n",
    "my_tuple = (1, 2, 3, 4, 5)\n",
    "n_positions = 2\n",
    "result = rotate_tuple_left(my_tuple, n_positions)\n",
    "print(result)"
   ]
  },
  {
   "cell_type": "code",
   "execution_count": null,
   "id": "56aa63e5-8656-4bf4-8238-3f1babb75027",
   "metadata": {},
   "outputs": [],
   "source": []
  },
  {
   "cell_type": "code",
   "execution_count": null,
   "id": "c1adda83-8484-45c1-a093-abb7fd230982",
   "metadata": {},
   "outputs": [],
   "source": [
    "# 40. Rotate a tuple to the right by `n` positions.\n"
   ]
  },
  {
   "cell_type": "code",
   "execution_count": 67,
   "id": "8c12a968-c6b6-455d-8d92-5676bc6c5697",
   "metadata": {},
   "outputs": [
    {
     "name": "stdout",
     "output_type": "stream",
     "text": [
      "(4, 5, 1, 2, 3)\n"
     ]
    }
   ],
   "source": [
    "def rotate_tuple_right(tup, n):\n",
    "    n = n % len(tup)  # Ensure n is within the range of tuple length\n",
    "    rotated_tuple = tup[-n:] + tup[:-n]  # Rotate the tuple\n",
    "    return rotated_tuple\n",
    "\n",
    "# Example tuple\n",
    "my_tuple = (1, 2, 3, 4, 5)\n",
    "n_positions = 2\n",
    "result = rotate_tuple_right(my_tuple, n_positions)\n",
    "print(result)"
   ]
  },
  {
   "cell_type": "code",
   "execution_count": null,
   "id": "c7b32597-f0e6-4665-b9ce-8dad866982ea",
   "metadata": {},
   "outputs": [],
   "source": []
  },
  {
   "cell_type": "code",
   "execution_count": null,
   "id": "1e818b3a-1c9c-4603-a1cb-6bdd22769829",
   "metadata": {},
   "outputs": [],
   "source": [
    "# 41. Create a tuple of the first 5 Fibonacci numbers.\n"
   ]
  },
  {
   "cell_type": "code",
   "execution_count": 68,
   "id": "6d46652d-a52f-474a-b4da-9bdfa9190ed5",
   "metadata": {},
   "outputs": [
    {
     "name": "stdout",
     "output_type": "stream",
     "text": [
      "(0, 1, 1, 2, 3)\n"
     ]
    }
   ],
   "source": [
    "# Define a function to generate the first n Fibonacci numbers\n",
    "def generate_fibonacci(n):\n",
    "    fibonacci = [0, 1]  # Initialize the list with the first two Fibonacci numbers\n",
    "    while len(fibonacci) < n:  # Continue generating Fibonacci numbers until the list has n elements\n",
    "        next_number = fibonacci[-1] + fibonacci[-2]  # Calculate the next Fibonacci number\n",
    "        fibonacci.append(next_number)  # Add the next Fibonacci number to the list\n",
    "    return tuple(fibonacci)  # Convert the list to a tuple and return it\n",
    "\n",
    "# Call the generate_fibonacci function to create a tuple of the first 5 Fibonacci numbers\n",
    "fibonacci_tuple = generate_fibonacci(5)\n",
    "\n",
    "# Print the resulting tuple\n",
    "print(fibonacci_tuple)"
   ]
  },
  {
   "cell_type": "code",
   "execution_count": null,
   "id": "69ac9a5b-970f-4858-8755-23cdc231cd93",
   "metadata": {},
   "outputs": [],
   "source": []
  },
  {
   "cell_type": "code",
   "execution_count": null,
   "id": "bff3a5d5-5c88-4c77-ac9a-46025ce21661",
   "metadata": {},
   "outputs": [],
   "source": [
    "# 42. Create a tuple from user input.\n"
   ]
  },
  {
   "cell_type": "code",
   "execution_count": 69,
   "id": "467a52e9-0df0-4b36-b192-f09395491818",
   "metadata": {},
   "outputs": [
    {
     "name": "stdin",
     "output_type": "stream",
     "text": [
      "Enter elements separated by commas:  1,2,3,4,5\n"
     ]
    },
    {
     "name": "stdout",
     "output_type": "stream",
     "text": [
      "User input tuple: ('1', '2', '3', '4', '5')\n"
     ]
    }
   ],
   "source": [
    "# Taking user input for creating a tuple\n",
    "input_str = input(\"Enter elements separated by commas: \")\n",
    "\n",
    "# Splitting the input string into a list of strings\n",
    "input_list = input_str.split(',')\n",
    "\n",
    "# Converting the list of strings to a tuple\n",
    "user_tuple = tuple(input_list)\n",
    "\n",
    "# Printing the created tuple\n",
    "print(\"User input tuple:\", user_tuple)"
   ]
  },
  {
   "cell_type": "code",
   "execution_count": null,
   "id": "c1cc4438-61ce-444b-a4b8-bc9050f97e54",
   "metadata": {},
   "outputs": [],
   "source": []
  },
  {
   "cell_type": "code",
   "execution_count": null,
   "id": "3f442d00-d13c-48cf-9855-ee5cadf59519",
   "metadata": {},
   "outputs": [],
   "source": [
    "# 43. Swap two elements in a tuple.\n"
   ]
  },
  {
   "cell_type": "code",
   "execution_count": 70,
   "id": "7c4b9d3d-b8fc-4aec-936c-1ceee30d09c6",
   "metadata": {},
   "outputs": [
    {
     "name": "stdout",
     "output_type": "stream",
     "text": [
      "Swapped tuple: (1, 4, 3, 2, 5)\n"
     ]
    }
   ],
   "source": [
    "# Create a tuple\n",
    "my_tuple = (1, 2, 3, 4, 5)\n",
    "\n",
    "# Swap elements at indices 1 and 3\n",
    "index1 = 1\n",
    "index2 = 3\n",
    "swapped_tuple = tuple(\n",
    "    my_tuple[i] if i not in (index1, index2) else\n",
    "    my_tuple[index2] if i == index1 else\n",
    "    my_tuple[index1]\n",
    "    for i in range(len(my_tuple))\n",
    ")\n",
    "\n",
    "# Print the swapped tuple\n",
    "print(\"Swapped tuple:\", swapped_tuple)"
   ]
  },
  {
   "cell_type": "code",
   "execution_count": null,
   "id": "90502dbf-c969-4cd8-91f6-1a00b38e4b90",
   "metadata": {},
   "outputs": [],
   "source": []
  },
  {
   "cell_type": "code",
   "execution_count": 71,
   "id": "58103045-57a2-4b5d-a3ea-dff74d2db387",
   "metadata": {},
   "outputs": [],
   "source": [
    "# 44. Reverse the elements of a tuple.\n"
   ]
  },
  {
   "cell_type": "code",
   "execution_count": 72,
   "id": "8280a511-d5ff-448a-9423-ef9e763e9178",
   "metadata": {},
   "outputs": [
    {
     "name": "stdout",
     "output_type": "stream",
     "text": [
      "Reversed tuple: (5, 4, 3, 2, 1)\n"
     ]
    }
   ],
   "source": [
    "# Create a tuple\n",
    "my_tuple = (1, 2, 3, 4, 5)\n",
    "\n",
    "# Reverse the elements using slicing\n",
    "reversed_tuple = my_tuple[::-1]\n",
    "\n",
    "# Print the reversed tuple\n",
    "print(\"Reversed tuple:\", reversed_tuple)"
   ]
  },
  {
   "cell_type": "code",
   "execution_count": null,
   "id": "588415b5-c9a1-463f-a929-124fffdfa903",
   "metadata": {},
   "outputs": [],
   "source": []
  },
  {
   "cell_type": "code",
   "execution_count": null,
   "id": "8dabc35d-c81e-4853-96e9-09a3ed5f5881",
   "metadata": {},
   "outputs": [],
   "source": []
  },
  {
   "cell_type": "code",
   "execution_count": 73,
   "id": "cfbade99-8aa8-4ee5-9063-2fc34a0ed6d8",
   "metadata": {},
   "outputs": [],
   "source": [
    "# 45. Create a tuple of the first `n` powers of 2.\n"
   ]
  },
  {
   "cell_type": "code",
   "execution_count": 74,
   "id": "f9849337-8530-4d79-8c3d-ca50e513dd92",
   "metadata": {},
   "outputs": [
    {
     "name": "stdout",
     "output_type": "stream",
     "text": [
      "Tuple of the first 5 powers of 2: (1, 2, 4, 8, 16)\n"
     ]
    }
   ],
   "source": [
    "# Define the value of n\n",
    "n = 5\n",
    "\n",
    "# Create a tuple of the first n powers of 2 using a list comprehension\n",
    "powers_of_2_tuple = tuple(2 ** i for i in range(n))\n",
    "\n",
    "# Print the tuple of powers of 2\n",
    "print(\"Tuple of the first\", n, \"powers of 2:\", powers_of_2_tuple)"
   ]
  },
  {
   "cell_type": "code",
   "execution_count": null,
   "id": "08c0a3e1-1c40-4cef-8a44-b826dd38daf8",
   "metadata": {},
   "outputs": [],
   "source": []
  },
  {
   "cell_type": "code",
   "execution_count": 75,
   "id": "9980eb69-fea1-4e55-af8d-131d76e60ed4",
   "metadata": {},
   "outputs": [],
   "source": [
    "# 46. Find the longest string in a tuple of strings.\n"
   ]
  },
  {
   "cell_type": "code",
   "execution_count": 76,
   "id": "273da354-d354-43e3-af0d-6e4d202452a0",
   "metadata": {},
   "outputs": [
    {
     "name": "stdout",
     "output_type": "stream",
     "text": [
      "Longest string: watermelon\n"
     ]
    }
   ],
   "source": [
    "# Create a tuple of strings\n",
    "string_tuple = (\"apple\", \"banana\", \"grape\", \"kiwi\", \"watermelon\")\n",
    "\n",
    "# Find the longest string in the tuple\n",
    "longest_string = max(string_tuple, key=len)\n",
    "\n",
    "# Print the longest string\n",
    "print(\"Longest string:\", longest_string)"
   ]
  },
  {
   "cell_type": "code",
   "execution_count": null,
   "id": "cec648de-652b-43a6-a002-8f841effc946",
   "metadata": {},
   "outputs": [],
   "source": []
  },
  {
   "cell_type": "code",
   "execution_count": 77,
   "id": "be2d6868-7b4a-4e8a-9910-d3e98700f7b6",
   "metadata": {},
   "outputs": [],
   "source": [
    "# 47. Find the shortest string in a tuple of strings.\n"
   ]
  },
  {
   "cell_type": "code",
   "execution_count": 78,
   "id": "4f1e5dd7-6c0e-45b9-a1ea-0917db507486",
   "metadata": {},
   "outputs": [
    {
     "name": "stdout",
     "output_type": "stream",
     "text": [
      "Shortest string: kiwi\n"
     ]
    }
   ],
   "source": [
    "# Create a tuple of strings\n",
    "string_tuple = (\"apple\", \"banana\", \"grape\", \"kiwi\", \"watermelon\")\n",
    "\n",
    "# Find the shortest string in the tuple\n",
    "shortest_string = min(string_tuple, key=len)\n",
    "\n",
    "# Print the shortest string\n",
    "print(\"Shortest string:\", shortest_string)"
   ]
  },
  {
   "cell_type": "code",
   "execution_count": 79,
   "id": "87f4bb33-b7fe-44fd-8a5f-44f42b4d6f85",
   "metadata": {},
   "outputs": [],
   "source": [
    "# 48. Create a tuple of the first `n` triangular numbers.\n",
    "\n"
   ]
  },
  {
   "cell_type": "code",
   "execution_count": 80,
   "id": "de16ae77-a201-4d2d-bece-9d3dc26394e4",
   "metadata": {},
   "outputs": [
    {
     "name": "stdout",
     "output_type": "stream",
     "text": [
      "Tuple of the first 5 triangular numbers: (1, 3, 6, 10, 15)\n"
     ]
    }
   ],
   "source": [
    "# Define the value of n\n",
    "n = 5\n",
    "\n",
    "# Create a tuple of the first n triangular numbers using a list comprehension\n",
    "triangular_numbers_tuple = tuple((i * (i + 1)) // 2 for i in range(1, n + 1))\n",
    "\n",
    "# Print the tuple of triangular numbers\n",
    "print(\"Tuple of the first\", n, \"triangular numbers:\", triangular_numbers_tuple)"
   ]
  },
  {
   "cell_type": "code",
   "execution_count": 81,
   "id": "1fc32bd2-7189-4d0d-b89e-4bd770b08c54",
   "metadata": {},
   "outputs": [],
   "source": [
    "# 49. Check if a tuple contains another tuple as a subsequence."
   ]
  },
  {
   "cell_type": "code",
   "execution_count": 82,
   "id": "e98d4175-b721-4dcf-87d8-aed3c2c917ed",
   "metadata": {},
   "outputs": [
    {
     "name": "stdout",
     "output_type": "stream",
     "text": [
      "Main tuple contains subsequence tuple: True\n"
     ]
    }
   ],
   "source": [
    "# Function to check if a tuple contains another tuple as a subsequence\n",
    "def contains_subsequence(main_tuple, sub_tuple):\n",
    "    sub_length = len(sub_tuple)\n",
    "    for i in range(len(main_tuple) - sub_length + 1):\n",
    "        if main_tuple[i:i+sub_length] == sub_tuple:\n",
    "            return True\n",
    "    return False\n",
    "\n",
    "# Main tuple\n",
    "main_tuple = (1, 2, 3, 4, 5, 6, 7, 8, 9)\n",
    "\n",
    "# Subsequence tuple\n",
    "sub_tuple = (3, 4, 5)\n",
    "\n",
    "# Check if the main tuple contains the subsequence tuple\n",
    "contains_subseq = contains_subsequence(main_tuple, sub_tuple)\n",
    "\n",
    "# Print the result\n",
    "print(\"Main tuple contains subsequence tuple:\", contains_subseq)"
   ]
  },
  {
   "cell_type": "code",
   "execution_count": null,
   "id": "a4ae3fbf-1d85-4602-a5df-41caa722193d",
   "metadata": {},
   "outputs": [],
   "source": []
  },
  {
   "cell_type": "code",
   "execution_count": 83,
   "id": "85f07c88-e21a-447a-b610-a8deca90e8c1",
   "metadata": {},
   "outputs": [],
   "source": [
    "# 50. Create a tuple of alternating 1s and 0s of length `n`"
   ]
  },
  {
   "cell_type": "code",
   "execution_count": 84,
   "id": "4c925039-9cd0-4bc1-b6ad-1fabbdc59519",
   "metadata": {},
   "outputs": [
    {
     "name": "stdout",
     "output_type": "stream",
     "text": [
      "Tuple of alternating 1s and 0s: (0, 1, 0, 1, 0, 1, 0, 1, 0, 1)\n"
     ]
    }
   ],
   "source": [
    "# Define the value of n\n",
    "n = 10\n",
    "\n",
    "# Create a tuple of alternating 1s and 0s using a list comprehension\n",
    "alternating_tuple = tuple(i % 2 for i in range(n))\n",
    "\n",
    "# Print the tuple of alternating 1s and 0s\n",
    "print(\"Tuple of alternating 1s and 0s:\", alternating_tuple)"
   ]
  },
  {
   "cell_type": "code",
   "execution_count": null,
   "id": "2936361d-5deb-4ef4-bba8-07df8e6ec57a",
   "metadata": {},
   "outputs": [],
   "source": [
    "# Set Based Questions"
   ]
  },
  {
   "cell_type": "code",
   "execution_count": null,
   "id": "9ebac628-2471-4c5b-9418-0cccb2fd2736",
   "metadata": {},
   "outputs": [],
   "source": [
    "# 1. Create a set with integers from 1 to 5"
   ]
  },
  {
   "cell_type": "code",
   "execution_count": 1,
   "id": "ca7adbea-439d-4cb4-8811-cc139436a513",
   "metadata": {},
   "outputs": [
    {
     "name": "stdout",
     "output_type": "stream",
     "text": [
      "{1, 2, 3, 4, 5}\n"
     ]
    }
   ],
   "source": [
    "# Step 1: Create an empty set\n",
    "my_set = set()\n",
    "\n",
    "# Step 2: Add integers from 1 to 5 to the set\n",
    "my_set.add(1)\n",
    "my_set.add(2)\n",
    "my_set.add(3)\n",
    "my_set.add(4)\n",
    "my_set.add(5)\n",
    "\n",
    "# Step 3: Print the final set\n",
    "print(my_set)## Set based problems:"
   ]
  },
  {
   "cell_type": "code",
   "execution_count": null,
   "id": "1b484587-b952-4b34-a415-ca83b12d5dcc",
   "metadata": {},
   "outputs": [],
   "source": []
  },
  {
   "cell_type": "code",
   "execution_count": null,
   "id": "5d538fa9-38ee-4403-835c-2a8e1e702055",
   "metadata": {},
   "outputs": [],
   "source": [
    "# 2. Add an element to a set"
   ]
  },
  {
   "cell_type": "code",
   "execution_count": 2,
   "id": "97447808-161c-47ba-97df-9e32d7f80716",
   "metadata": {},
   "outputs": [
    {
     "name": "stdout",
     "output_type": "stream",
     "text": [
      "Original set: {1, 2, 3, 4, 5}\n",
      "Set after adding element: {1, 2, 3, 4, 5, 6}\n"
     ]
    }
   ],
   "source": [
    "# Step 1: Create a set\n",
    "my_set = {1, 2, 3, 4, 5}\n",
    "\n",
    "# Step 2: Display the original set\n",
    "print(\"Original set:\", my_set)\n",
    "\n",
    "# Step 3: Add an element to the set\n",
    "element_to_add = 6\n",
    "my_set.add(element_to_add)\n",
    "\n",
    "# Step 4: Display the modified set\n",
    "print(\"Set after adding element:\", my_set)"
   ]
  },
  {
   "cell_type": "code",
   "execution_count": null,
   "id": "241b4dd6-098a-4da9-8660-c9b475910264",
   "metadata": {},
   "outputs": [],
   "source": []
  },
  {
   "cell_type": "code",
   "execution_count": null,
   "id": "0df5c8bb-df57-4a6a-82f3-5266309af5ef",
   "metadata": {},
   "outputs": [],
   "source": [
    "# 3. Remove an element from a set.\n"
   ]
  },
  {
   "cell_type": "code",
   "execution_count": 3,
   "id": "430565a0-6434-417f-aaa1-685fe13033ba",
   "metadata": {},
   "outputs": [
    {
     "name": "stdout",
     "output_type": "stream",
     "text": [
      "Original Set: {1, 2, 3, 4, 5}\n",
      "Set after removing 3 : {1, 2, 4, 5}\n"
     ]
    }
   ],
   "source": [
    "# Step 1: Create a set with some elements\n",
    "my_set = {1, 2, 3, 4, 5}\n",
    "\n",
    "# Step 2: Print the original set\n",
    "print(\"Original Set:\", my_set)\n",
    "\n",
    "# Step 3: Choose an element to remove\n",
    "element_to_remove = 3\n",
    "\n",
    "# Step 4: Use the remove() method to remove the chosen element\n",
    "# Note: If the element is not present in the set, remove() raises a KeyError.\n",
    "my_set.remove(element_to_remove)\n",
    "\n",
    "# Step 5: Print the modified set after removal\n",
    "print(\"Set after removing\", element_to_remove, \":\", my_set)"
   ]
  },
  {
   "cell_type": "code",
   "execution_count": null,
   "id": "5383e9c4-c035-40a2-ad3c-1c5afc66ce1b",
   "metadata": {},
   "outputs": [],
   "source": []
  },
  {
   "cell_type": "code",
   "execution_count": null,
   "id": "3290cadb-ef2f-43df-bf9c-2a3b3bbbdfde",
   "metadata": {},
   "outputs": [],
   "source": [
    "# 4. Check if an element exists in a set."
   ]
  },
  {
   "cell_type": "code",
   "execution_count": 4,
   "id": "c8fd41d4-0cda-4f1a-b091-df6bf019e19c",
   "metadata": {},
   "outputs": [
    {
     "name": "stdin",
     "output_type": "stream",
     "text": [
      "Enter the element to check:  34\n"
     ]
    },
    {
     "name": "stdout",
     "output_type": "stream",
     "text": [
      "34 does not exist in the set.\n"
     ]
    }
   ],
   "source": [
    "# Step 1: Create a set with some elements\n",
    "my_set = {1, 3, 5, 7, 9}\n",
    "\n",
    "# Step 2: Ask the user for the element they want to check\n",
    "element_to_check = int(input(\"Enter the element to check: \"))\n",
    "\n",
    "# Step 3: Use the \"in\" keyword to check if the element exists in the set\n",
    "if element_to_check in my_set:\n",
    "    # Step 4: If the element exists in the set, print a message\n",
    "    print(f\"{element_to_check} exists in the set.\")\n",
    "else:\n",
    "    # Step 5: If the element does not exist in the set, print a message\n",
    "    print(f\"{element_to_check} does not exist in the set.\")"
   ]
  },
  {
   "cell_type": "code",
   "execution_count": null,
   "id": "2887f053-94c3-45d6-8531-fcd9f38cf599",
   "metadata": {},
   "outputs": [],
   "source": []
  },
  {
   "cell_type": "code",
   "execution_count": null,
   "id": "dd676bb7-220c-4cf6-8482-e193671e2fdf",
   "metadata": {},
   "outputs": [],
   "source": [
    "#5. Find the length of a set without using the `len()` function"
   ]
  },
  {
   "cell_type": "code",
   "execution_count": 5,
   "id": "647f777c-6d73-4ffb-85cb-50b06a587300",
   "metadata": {},
   "outputs": [
    {
     "name": "stdout",
     "output_type": "stream",
     "text": [
      "Length of the set: 5\n"
     ]
    }
   ],
   "source": [
    "# Create a set with some elements\n",
    "my_set = {1, 2, 3, 4, 5}\n",
    "\n",
    "# Initialize a variable to count the elements in the set\n",
    "count = 0\n",
    "\n",
    "# Iterate through each element in the set\n",
    "for _ in my_set:\n",
    "    # Increase the count by 1 for each element\n",
    "    count += 1\n",
    "\n",
    "# Print the count, which is the length of the set\n",
    "print(\"Length of the set:\", count)"
   ]
  },
  {
   "cell_type": "code",
   "execution_count": null,
   "id": "45090220-51e2-4277-b61a-fdd03a95cd42",
   "metadata": {},
   "outputs": [],
   "source": []
  },
  {
   "cell_type": "code",
   "execution_count": null,
   "id": "1aca7c41-c7da-44f2-8fb2-091b051921e6",
   "metadata": {},
   "outputs": [],
   "source": [
    "# 6. Clear all elements from a set."
   ]
  },
  {
   "cell_type": "code",
   "execution_count": 6,
   "id": "979114c5-b9b4-40fd-9f1d-e6a64034c1dc",
   "metadata": {},
   "outputs": [
    {
     "name": "stdout",
     "output_type": "stream",
     "text": [
      "Original set: {1, 2, 3, 4, 5}\n",
      "Set after clearing: set()\n"
     ]
    }
   ],
   "source": [
    "# Step 1: Create a set with some elements\n",
    "my_set = {1, 2, 3, 4, 5}\n",
    "\n",
    "# Step 2: Display the original set\n",
    "print(\"Original set:\", my_set)\n",
    "\n",
    "# Step 3: Clear all elements from the set using the clear() method\n",
    "my_set.clear()\n",
    "\n",
    "# Step 4: Display the set after clearing\n",
    "print(\"Set after clearing:\", my_set)"
   ]
  },
  {
   "cell_type": "code",
   "execution_count": null,
   "id": "91d32e7e-5eeb-46ae-b854-ab2451bb0b62",
   "metadata": {},
   "outputs": [],
   "source": []
  },
  {
   "cell_type": "code",
   "execution_count": null,
   "id": "183a9b57-df36-4bb0-bb0e-343fdeaa7f09",
   "metadata": {},
   "outputs": [],
   "source": [
    "# 7. Create a set of even numbers from 1 to 10"
   ]
  },
  {
   "cell_type": "code",
   "execution_count": 7,
   "id": "5df487fe-2d9e-4cac-b013-cb4b5832b7f9",
   "metadata": {},
   "outputs": [
    {
     "name": "stdout",
     "output_type": "stream",
     "text": [
      "{2, 4, 6, 8, 10}\n"
     ]
    }
   ],
   "source": [
    "# Step 1: Initialize an empty set\n",
    "even_numbers_set = set()\n",
    "\n",
    "# Step 2: Iterate through numbers from 1 to 10\n",
    "for num in range(1, 11):\n",
    "    # Step 3: Check if the number is even\n",
    "    if num % 2 == 0:\n",
    "        # Step 4: Add the even number to the set\n",
    "        even_numbers_set.add(num)\n",
    "\n",
    "# Step 5: Print the set of even numbers\n",
    "print(even_numbers_set)"
   ]
  },
  {
   "cell_type": "code",
   "execution_count": null,
   "id": "5e6b88de-0c83-4a92-8569-22019d68c941",
   "metadata": {},
   "outputs": [],
   "source": []
  },
  {
   "cell_type": "code",
   "execution_count": null,
   "id": "7287b337-3e5c-4a68-854a-f7ba0f7c65f2",
   "metadata": {},
   "outputs": [],
   "source": [
    "# 8. Create a set of odd numbers from 1 to 10"
   ]
  },
  {
   "cell_type": "code",
   "execution_count": 8,
   "id": "9e88e107-1a8c-4701-ab75-1e835cd7a394",
   "metadata": {},
   "outputs": [
    {
     "name": "stdout",
     "output_type": "stream",
     "text": [
      "{1, 3, 5, 7, 9}\n"
     ]
    }
   ],
   "source": [
    "# Step 1: Initialize an empty set to store odd numbers.\n",
    "odd_numbers_set = set()\n",
    "\n",
    "# Step 2: Iterate through numbers from 1 to 10.\n",
    "for num in range(1, 11):\n",
    "    # Step 3: Check if the current number is odd.\n",
    "    if num % 2 != 0:\n",
    "        # Step 4: If the number is odd, add it to the set.\n",
    "        odd_numbers_set.add(num)\n",
    "\n",
    "# Step 5: Print the final set of odd numbers.\n",
    "print(odd_numbers_set)"
   ]
  },
  {
   "cell_type": "code",
   "execution_count": null,
   "id": "89eb9840-10ea-46af-adb9-ea44b34af319",
   "metadata": {},
   "outputs": [],
   "source": []
  },
  {
   "cell_type": "code",
   "execution_count": null,
   "id": "28cdb744-d6a3-4741-af13-d7acdfc53f6a",
   "metadata": {},
   "outputs": [],
   "source": [
    "# 9. Find the union of two sets"
   ]
  },
  {
   "cell_type": "code",
   "execution_count": null,
   "id": "f9d403a7-3eb3-49ec-a8d8-ad22e953d2c0",
   "metadata": {},
   "outputs": [],
   "source": [
    "# Define two sets\n",
    "set1 = {1, 2, 3, 4, 5}\n",
    "set2 = {4, 5, 6, 7, 8}\n",
    "\n",
    "# Find the union of the two sets using the `union()` method\n",
    "union_result = set1.union(set2)\n",
    "\n",
    "# Print the original sets and their union\n",
    "print(\"Set 1:\", set1)\n",
    "print(\"Set 2:\", set2)\n",
    "print(\"Union of Set 1 and Set 2:\", union_result)"
   ]
  },
  {
   "cell_type": "code",
   "execution_count": null,
   "id": "269e3348-c1e2-441e-9cc4-1c6d991fae1f",
   "metadata": {},
   "outputs": [],
   "source": []
  },
  {
   "cell_type": "code",
   "execution_count": null,
   "id": "4eeff9f3-2e66-4af4-870f-c2d8d9c7885d",
   "metadata": {},
   "outputs": [],
   "source": [
    "# 10. Find the intersection of two sets"
   ]
  },
  {
   "cell_type": "code",
   "execution_count": 9,
   "id": "94b21f6d-0256-45fe-a4c2-afb2658a4cc2",
   "metadata": {},
   "outputs": [
    {
     "name": "stdout",
     "output_type": "stream",
     "text": [
      "Set 1: {1, 2, 3, 4, 5}\n",
      "Set 2: {3, 4, 5, 6, 7}\n",
      "Intersection: {3, 4, 5}\n"
     ]
    }
   ],
   "source": [
    "# Create two sets\n",
    "set1 = {1, 2, 3, 4, 5}\n",
    "set2 = {3, 4, 5, 6, 7}\n",
    "\n",
    "# Find the intersection using the intersection() method\n",
    "intersection_result = set1.intersection(set2)\n",
    "\n",
    "# Print the original sets and the intersection\n",
    "print(\"Set 1:\", set1)\n",
    "print(\"Set 2:\", set2)\n",
    "print(\"Intersection:\", intersection_result)"
   ]
  },
  {
   "cell_type": "code",
   "execution_count": null,
   "id": "79358106-5ba3-4814-8da6-ce40804aebee",
   "metadata": {},
   "outputs": [],
   "source": []
  },
  {
   "cell_type": "code",
   "execution_count": null,
   "id": "cede0e0a-183a-4bd6-8fbe-8571843571b5",
   "metadata": {},
   "outputs": [],
   "source": [
    "# 11. Find the difference between two sets."
   ]
  },
  {
   "cell_type": "code",
   "execution_count": 10,
   "id": "e74da327-051d-4b18-ad11-d165ca7e85c1",
   "metadata": {},
   "outputs": [
    {
     "name": "stdout",
     "output_type": "stream",
     "text": [
      "Set 1: {1, 2, 3, 4, 5}\n",
      "Set 2: {3, 4, 5, 6, 7}\n",
      "Difference: {1, 2}\n"
     ]
    }
   ],
   "source": [
    "# Create two sets\n",
    "set1 = {1, 2, 3, 4, 5}\n",
    "set2 = {3, 4, 5, 6, 7}\n",
    "\n",
    "# Find the difference between the sets using the difference() method\n",
    "difference_set = set1.difference(set2)\n",
    "\n",
    "# Print the original sets and the difference set\n",
    "print(\"Set 1:\", set1)\n",
    "print(\"Set 2:\", set2)\n",
    "print(\"Difference:\", difference_set)"
   ]
  },
  {
   "cell_type": "code",
   "execution_count": null,
   "id": "7cd88771-7302-4f74-859e-62ca795bb8ea",
   "metadata": {},
   "outputs": [],
   "source": []
  },
  {
   "cell_type": "code",
   "execution_count": null,
   "id": "384ee69f-58e9-4495-8889-e4e1e120d0ad",
   "metadata": {},
   "outputs": [],
   "source": [
    "# 12. Check if a set is a subset of another set."
   ]
  },
  {
   "cell_type": "code",
   "execution_count": 11,
   "id": "060ef38c-91e0-4b79-8127-43b42adfb201",
   "metadata": {},
   "outputs": [
    {
     "name": "stdout",
     "output_type": "stream",
     "text": [
      "Is set1 a subset of set2: True\n"
     ]
    }
   ],
   "source": [
    "# Define the two sets\n",
    "set1 = {1, 2, 3}\n",
    "set2 = {1, 2, 3, 4, 5}\n",
    "\n",
    "# Use the \"issubset()\" method to check if set1 is a subset of set2\n",
    "is_subset = set1.issubset(set2)\n",
    "\n",
    "# Print the result\n",
    "print(\"Is set1 a subset of set2:\", is_subset)"
   ]
  },
  {
   "cell_type": "code",
   "execution_count": null,
   "id": "e1a8f838-7366-40ba-915e-50b3f22a5b5a",
   "metadata": {},
   "outputs": [],
   "source": []
  },
  {
   "cell_type": "code",
   "execution_count": null,
   "id": "0352f0b6-f193-4c6f-aaf4-5675d967313c",
   "metadata": {},
   "outputs": [],
   "source": [
    "# 13. Check if a set is a superset of another set."
   ]
  },
  {
   "cell_type": "code",
   "execution_count": 12,
   "id": "84810416-a917-489c-a893-7917058dce42",
   "metadata": {},
   "outputs": [
    {
     "name": "stdout",
     "output_type": "stream",
     "text": [
      "set1 is a superset of set2\n"
     ]
    }
   ],
   "source": [
    "# Create two sets\n",
    "set1 = {1, 2, 3, 4, 5, 6}\n",
    "set2 = {3, 4}\n",
    "\n",
    "# Check if set1 is a superset of set2\n",
    "is_superset = set1.issuperset(set2)\n",
    "\n",
    "# Print the result\n",
    "if is_superset:\n",
    "    print(\"set1 is a superset of set2\")\n",
    "else:\n",
    "    print(\"set1 is not a superset of set2\")"
   ]
  },
  {
   "cell_type": "code",
   "execution_count": null,
   "id": "027bb0a1-ea85-4cd9-91ff-fee565f7b7f4",
   "metadata": {},
   "outputs": [],
   "source": []
  },
  {
   "cell_type": "code",
   "execution_count": null,
   "id": "c20703ed-0e2c-4a14-9a6e-30da75e393a0",
   "metadata": {},
   "outputs": [],
   "source": [
    "# 14. Create a set from a list"
   ]
  },
  {
   "cell_type": "code",
   "execution_count": 13,
   "id": "65ff7e3b-54fe-419c-86b6-dddef8af9840",
   "metadata": {},
   "outputs": [
    {
     "name": "stdout",
     "output_type": "stream",
     "text": [
      "Original List: [2, 4, 1, 4, 3, 2, 5]\n",
      "Set from List: {1, 2, 3, 4, 5}\n"
     ]
    }
   ],
   "source": [
    "# Step 1: Create a list of elements\n",
    "my_list = [2, 4, 1, 4, 3, 2, 5]\n",
    "\n",
    "# Step 2: Use the set() constructor to convert the list into a set\n",
    "# This automatically removes duplicates and creates a set with unique elements\n",
    "my_set = set(my_list)\n",
    "\n",
    "# Step 3: Print the original list and the resulting set\n",
    "print(\"Original List:\", my_list)\n",
    "print(\"Set from List:\", my_set)"
   ]
  },
  {
   "cell_type": "code",
   "execution_count": null,
   "id": "10bd93b8-11ef-4047-8b6f-1238d97fb47b",
   "metadata": {},
   "outputs": [],
   "source": []
  },
  {
   "cell_type": "code",
   "execution_count": null,
   "id": "969edea3-cf13-4ef3-ade8-c09a105e9cc5",
   "metadata": {},
   "outputs": [],
   "source": [
    "# 15. Convert a set to a list."
   ]
  },
  {
   "cell_type": "code",
   "execution_count": 14,
   "id": "abbde506-b242-40c4-b659-5f92b9e7ef1a",
   "metadata": {},
   "outputs": [
    {
     "name": "stdout",
     "output_type": "stream",
     "text": [
      "Original Set: {1, 2, 3, 4, 5, 6, 9}\n",
      "Converted List: [1, 2, 3, 4, 5, 6, 9]\n"
     ]
    }
   ],
   "source": [
    "# Step 1: Create a set with some elements\n",
    "my_set = {3, 1, 4, 1, 5, 9, 2, 6, 5}\n",
    "\n",
    "# Step 2: Convert the set to a list using the list() function\n",
    "my_list = list(my_set)\n",
    "\n",
    "# Now, my_list contains the elements from my_set in list format\n",
    "\n",
    "# Step 3: Print the original set and the converted list\n",
    "print(\"Original Set:\", my_set)\n",
    "print(\"Converted List:\", my_list)"
   ]
  },
  {
   "cell_type": "code",
   "execution_count": null,
   "id": "f22b2cd9-cb1c-431d-ad86-3010328bddf9",
   "metadata": {},
   "outputs": [],
   "source": []
  },
  {
   "cell_type": "code",
   "execution_count": null,
   "id": "d4abdf48-ad57-4efe-a76d-ada0ae4b74ee",
   "metadata": {},
   "outputs": [],
   "source": [
    "# 16. Remove a random element from a set."
   ]
  },
  {
   "cell_type": "code",
   "execution_count": 15,
   "id": "34e36c1d-1a88-47d7-8d4f-b7f11511cb29",
   "metadata": {},
   "outputs": [
    {
     "name": "stdout",
     "output_type": "stream",
     "text": [
      "Original set: {1, 2, 3, 4, 5}\n",
      "Updated set after removing 2 : {1, 3, 4, 5}\n"
     ]
    }
   ],
   "source": [
    "import random  # Import the random module\n",
    "\n",
    "# Create a set with some elements\n",
    "my_set = {1, 2, 3, 4, 5}\n",
    "\n",
    "# Display the original set\n",
    "print(\"Original set:\", my_set)\n",
    "\n",
    "# Choose a random element from the set using the random.choice() function\n",
    "random_element = random.choice(list(my_set))\n",
    "\n",
    "# Remove the chosen random element from the set using the remove() method\n",
    "my_set.remove(random_element)\n",
    "\n",
    "# Display the updated set after removing the random element\n",
    "print(\"Updated set after removing\", random_element, \":\", my_set)"
   ]
  },
  {
   "cell_type": "code",
   "execution_count": null,
   "id": "45852f80-e067-440f-881a-1b1de721c3d5",
   "metadata": {},
   "outputs": [],
   "source": []
  },
  {
   "cell_type": "code",
   "execution_count": null,
   "id": "a1fa363f-482d-4fb8-ad72-3a41ad6cea79",
   "metadata": {},
   "outputs": [],
   "source": [
    "# 17. Pop an element from a set."
   ]
  },
  {
   "cell_type": "code",
   "execution_count": 16,
   "id": "b47ef340-822d-4780-bdfe-f14d9213f91d",
   "metadata": {},
   "outputs": [
    {
     "name": "stdout",
     "output_type": "stream",
     "text": [
      "Original set: {1, 2, 3, 4, 5}\n",
      "Popped element: 1\n",
      "Set after popping: {2, 3, 4, 5}\n"
     ]
    }
   ],
   "source": [
    "# Create a set with some elements\n",
    "my_set = {1, 2, 3, 4, 5}\n",
    "\n",
    "# Print the original set\n",
    "print(\"Original set:\", my_set)\n",
    "\n",
    "# Pop an element from the set using the pop() method\n",
    "popped_element = my_set.pop()\n",
    "\n",
    "# Print the element that was popped\n",
    "print(\"Popped element:\", popped_element)\n",
    "\n",
    "# Print the set after popping an element\n",
    "print(\"Set after popping:\", my_set)"
   ]
  },
  {
   "cell_type": "code",
   "execution_count": null,
   "id": "3b37a89c-8ddb-4f0f-9ba9-4bb7626a2531",
   "metadata": {},
   "outputs": [],
   "source": []
  },
  {
   "cell_type": "code",
   "execution_count": null,
   "id": "e61444d0-80c6-42a1-b035-661113d60f15",
   "metadata": {},
   "outputs": [],
   "source": [
    "# 18. Check if two sets have no elements in common."
   ]
  },
  {
   "cell_type": "code",
   "execution_count": 17,
   "id": "06480eef-5024-4041-8b1e-8889b66762c4",
   "metadata": {},
   "outputs": [
    {
     "name": "stdout",
     "output_type": "stream",
     "text": [
      "The two sets have no elements in common.\n"
     ]
    }
   ],
   "source": [
    "# Step 1: Define two sets\n",
    "set1 = {1, 2, 3, 4}\n",
    "set2 = {5, 6, 7, 8}\n",
    "\n",
    "# Step 2: Check if the intersection of the two sets is empty\n",
    "# The intersection is the set of elements that are common to both sets\n",
    "common_elements = set1.intersection(set2)\n",
    "\n",
    "# Step 3: Check if the common_elements set is empty\n",
    "if not common_elements:\n",
    "    print(\"The two sets have no elements in common.\")\n",
    "else:\n",
    "    print(\"The two sets have common elements:\", common_elements)"
   ]
  },
  {
   "cell_type": "code",
   "execution_count": null,
   "id": "9286a238-496b-44e1-a7a6-0c2a3943b52a",
   "metadata": {},
   "outputs": [],
   "source": []
  },
  {
   "cell_type": "code",
   "execution_count": null,
   "id": "8fc8b0ef-f844-4a27-864c-dc0432dad927",
   "metadata": {},
   "outputs": [],
   "source": [
    "# 19. Find the symmetric difference between two sets."
   ]
  },
  {
   "cell_type": "code",
   "execution_count": 18,
   "id": "a906e67c-9a9e-4840-8553-ab9b8df3876a",
   "metadata": {},
   "outputs": [
    {
     "name": "stdout",
     "output_type": "stream",
     "text": [
      "Symmetric Difference: {1, 2, 3, 6, 7, 8}\n"
     ]
    }
   ],
   "source": [
    "# Define two sets\n",
    "set1 = {1, 2, 3, 4, 5}\n",
    "set2 = {4, 5, 6, 7, 8}\n",
    "\n",
    "# Calculate the symmetric difference using the ^ operator\n",
    "symmetric_difference = set1 ^ set2\n",
    "\n",
    "# Print the symmetric difference\n",
    "print(\"Symmetric Difference:\", symmetric_difference)"
   ]
  },
  {
   "cell_type": "code",
   "execution_count": null,
   "id": "368511d4-c0bc-4cd5-b05a-3ebafb89d578",
   "metadata": {},
   "outputs": [],
   "source": []
  },
  {
   "cell_type": "code",
   "execution_count": null,
   "id": "0ee170ff-2d4e-4973-a3c1-47e98ba91519",
   "metadata": {},
   "outputs": [],
   "source": [
    "### 20. Update a set with elements from another set."
   ]
  },
  {
   "cell_type": "code",
   "execution_count": 19,
   "id": "93d65dbc-f92a-47a3-a499-07ed2b89daa2",
   "metadata": {},
   "outputs": [
    {
     "name": "stdout",
     "output_type": "stream",
     "text": [
      "Set 1: {1, 2, 3}\n",
      "Set 2: {3, 4, 5}\n",
      "Updated Set 1: {1, 2, 3, 4, 5}\n"
     ]
    }
   ],
   "source": [
    "# Create the first set\n",
    "set1 = {1, 2, 3}\n",
    "print(\"Set 1:\", set1)\n",
    "\n",
    "# Create the second set\n",
    "set2 = {3, 4, 5}\n",
    "print(\"Set 2:\", set2)\n",
    "\n",
    "# Update set1 with elements from set2\n",
    "set1.update(set2)\n",
    "print(\"Updated Set 1:\", set1)"
   ]
  },
  {
   "cell_type": "code",
   "execution_count": null,
   "id": "3d5514f8-7cec-4cdf-a2f5-1e86c06f761d",
   "metadata": {},
   "outputs": [],
   "source": []
  },
  {
   "cell_type": "code",
   "execution_count": null,
   "id": "b62002b9-ae24-4348-80d3-221631b07cae",
   "metadata": {},
   "outputs": [],
   "source": [
    "### 21. Create a set of the first 5 prime numbers."
   ]
  },
  {
   "cell_type": "code",
   "execution_count": 33,
   "id": "6228e227-6af6-4b6d-a26b-57344da6c098",
   "metadata": {},
   "outputs": [
    {
     "name": "stdout",
     "output_type": "stream",
     "text": [
      "Set of the first 5 prime numbers: {2, 3, 5, 7, 11}\n"
     ]
    }
   ],
   "source": [
    "# Function to check if a number is prime\n",
    "def is_prime(num):\n",
    "    if num <= 1:\n",
    "        return False\n",
    "    for i in range(2, int(num ** 0.5) + 1):\n",
    "        if num % i == 0:\n",
    "            return False\n",
    "    return True\n",
    "\n",
    "# Create an empty set to store the prime numbers\n",
    "prime_set = set()\n",
    "\n",
    "# Initialize the number to start checking for primes\n",
    "num = 2\n",
    "\n",
    "# Loop until we have found the first 5 prime numbers\n",
    "while len(prime_set) < 5:\n",
    "    # Check if the current number is prime using the is_prime function\n",
    "    if is_prime(num):\n",
    "        # If the number is prime, add it to the prime_set\n",
    "        prime_set.add(num)\n",
    "\n",
    "    # Move on to the next number for the next iteration\n",
    "    num += 1\n",
    "\n",
    "# Print the set of prime numbers\n",
    "print(\"Set of the first 5 prime numbers:\", prime_set)"
   ]
  },
  {
   "cell_type": "code",
   "execution_count": null,
   "id": "9a70d760-b962-408e-8f79-6288aa382f8b",
   "metadata": {},
   "outputs": [],
   "source": []
  },
  {
   "cell_type": "code",
   "execution_count": null,
   "id": "48c48f22-7528-4686-8af7-9b88b25527a5",
   "metadata": {},
   "outputs": [],
   "source": [
    "### 22. Check if two sets are identical."
   ]
  },
  {
   "cell_type": "code",
   "execution_count": 34,
   "id": "bf829f31-d3d9-4a79-9010-64c4583726f8",
   "metadata": {},
   "outputs": [
    {
     "name": "stdout",
     "output_type": "stream",
     "text": [
      "The sets are identical.\n"
     ]
    }
   ],
   "source": [
    "# Step 1: Define two sets\n",
    "set1 = {1, 2, 3, 4, 5}\n",
    "set2 = {3, 1, 5, 2, 4}  # The order of elements doesn't matter in sets\n",
    "\n",
    "# Step 2: Check if the sets are identical using the `==` operator\n",
    "# Sets are unordered collections, so the order of elements doesn't matter.\n",
    "# The `==` operator compares the content of the sets.\n",
    "if set1 == set2:\n",
    "    print(\"The sets are identical.\")\n",
    "else:\n",
    "    print(\"The sets are not identical.\")"
   ]
  },
  {
   "cell_type": "code",
   "execution_count": null,
   "id": "b4a2de58-1831-4853-abb6-50aae8ac0356",
   "metadata": {},
   "outputs": [],
   "source": []
  },
  {
   "cell_type": "code",
   "execution_count": null,
   "id": "082a6b09-7bd0-46ed-8ae1-7ac92062c8fc",
   "metadata": {},
   "outputs": [],
   "source": [
    "### 23. Create a frozen set"
   ]
  },
  {
   "cell_type": "code",
   "execution_count": 20,
   "id": "1e1f67c5-e11e-4a62-9be4-b97104742510",
   "metadata": {},
   "outputs": [
    {
     "name": "stdout",
     "output_type": "stream",
     "text": [
      "Frozen Set: frozenset({1, 2, 3, 4, 5})\n"
     ]
    }
   ],
   "source": [
    "# Step 2: Define a list of elements that you want to include in the frozen set\n",
    "elements = [1, 2, 3, 4, 5]\n",
    "\n",
    "# Step 3: Create a frozen set using the 'frozenset' constructor and passing the list of elements\n",
    "my_frozen_set = frozenset(elements)\n",
    "\n",
    "# Step 4: Print the frozen set\n",
    "print(\"Frozen Set:\", my_frozen_set)"
   ]
  },
  {
   "cell_type": "code",
   "execution_count": null,
   "id": "66d380ff-2c39-403d-9641-21a38d5871c5",
   "metadata": {},
   "outputs": [],
   "source": []
  },
  {
   "cell_type": "code",
   "execution_count": null,
   "id": "c18d641d-8b10-421e-839c-8f76c1ee8637",
   "metadata": {},
   "outputs": [],
   "source": [
    "### 24. Check if a set is disjoint with another set."
   ]
  },
  {
   "cell_type": "code",
   "execution_count": 21,
   "id": "19a8e104-2516-49fe-bf3c-75f648ac0e89",
   "metadata": {},
   "outputs": [
    {
     "name": "stdout",
     "output_type": "stream",
     "text": [
      "Are the sets disjoint? True\n"
     ]
    }
   ],
   "source": [
    "# Step 1: Define the two sets you want to check for disjointness\n",
    "set1 = {1, 2, 3, 4}\n",
    "set2 = {5, 6, 7, 8}\n",
    "\n",
    "# Step 2: Use the `isdisjoint()` method to check if the sets are disjoint\n",
    "# The `isdisjoint()` method returns True if the sets have no common elements,\n",
    "# and False if they have at least one common element.\n",
    "disjoint_status = set1.isdisjoint(set2)\n",
    "\n",
    "# Step 3: Print the result\n",
    "print(\"Are the sets disjoint?\", disjoint_status)"
   ]
  },
  {
   "cell_type": "code",
   "execution_count": null,
   "id": "b06b6843-cf6f-4117-8555-10bc14372a9c",
   "metadata": {},
   "outputs": [],
   "source": []
  },
  {
   "cell_type": "code",
   "execution_count": null,
   "id": "9bc51987-bf65-4990-9c12-c9bd9a0d72f6",
   "metadata": {},
   "outputs": [],
   "source": [
    "### 25. Create a set of squares of numbers from 1 to 5."
   ]
  },
  {
   "cell_type": "code",
   "execution_count": 22,
   "id": "2ac54e75-63a0-4bda-95fb-42eb357e831b",
   "metadata": {},
   "outputs": [
    {
     "name": "stdout",
     "output_type": "stream",
     "text": [
      "{1, 4, 9, 16, 25}\n"
     ]
    }
   ],
   "source": [
    "# Step 1: Create an empty set to store the squares of numbers\n",
    "squares_set = set()\n",
    "\n",
    "# Step 2: Use a loop to iterate through numbers from 1 to 5\n",
    "for num in range(1, 6):\n",
    "    # Step 3: Calculate the square of the current number\n",
    "    square = num ** 2\n",
    "\n",
    "    # Step 4: Add the square to the set\n",
    "    squares_set.add(square)\n",
    "\n",
    "# Step 5: Print the set of squares\n",
    "print(squares_set)"
   ]
  },
  {
   "cell_type": "code",
   "execution_count": null,
   "id": "44821fa5-7f70-4731-9cf7-bfb800961be0",
   "metadata": {},
   "outputs": [],
   "source": []
  },
  {
   "cell_type": "code",
   "execution_count": null,
   "id": "8702f300-c76d-4600-82d4-06110ad745da",
   "metadata": {},
   "outputs": [],
   "source": [
    "### 26. Filter out all even numbers from a set."
   ]
  },
  {
   "cell_type": "code",
   "execution_count": 23,
   "id": "c64224c8-139e-4926-b67d-bb5040d935ba",
   "metadata": {},
   "outputs": [
    {
     "name": "stdout",
     "output_type": "stream",
     "text": [
      "Original Set: {1, 2, 3, 4, 5}\n",
      "Even Numbers Set: {2, 4}\n"
     ]
    }
   ],
   "source": [
    "# Step 1: Create a set with integers from 1 to 5\n",
    "original_set = {1, 2, 3, 4, 5}\n",
    "\n",
    "# Step 2: Initialize an empty set to store the filtered even numbers\n",
    "even_numbers_set = set()\n",
    "\n",
    "# Step 3: Iterate through each element in the original set\n",
    "for num in original_set:\n",
    "    # Step 4: Check if the current number is even (divisible by 2)\n",
    "    if num % 2 == 0:\n",
    "        # Step 5: If even, add it to the even_numbers_set\n",
    "        even_numbers_set.add(num)\n",
    "\n",
    "# Step 6: Print the original set and the set containing even numbers\n",
    "print(\"Original Set:\", original_set)\n",
    "print(\"Even Numbers Set:\", even_numbers_set)"
   ]
  },
  {
   "cell_type": "code",
   "execution_count": null,
   "id": "5b896846-246c-488e-9c09-8023eb8a1517",
   "metadata": {},
   "outputs": [],
   "source": []
  },
  {
   "cell_type": "code",
   "execution_count": null,
   "id": "3ea15a1d-808f-43d5-867b-7d7946535b12",
   "metadata": {},
   "outputs": [],
   "source": [
    "### 27. Multiply all elements in a set by 2."
   ]
  },
  {
   "cell_type": "code",
   "execution_count": 24,
   "id": "fad7357f-e442-4f5c-a361-cdd00ab15b96",
   "metadata": {},
   "outputs": [
    {
     "name": "stdout",
     "output_type": "stream",
     "text": [
      "Original Set: {1, 2, 3, 4, 5}\n",
      "Multiplied Set: {2, 4, 6, 8, 10}\n"
     ]
    }
   ],
   "source": [
    "# Create a set with integers from 1 to 5\n",
    "original_set = {1, 2, 3, 4, 5}\n",
    "\n",
    "# Initialize an empty set to store the multiplied elements\n",
    "multiplied_set = set()\n",
    "\n",
    "# Loop through each element in the original set\n",
    "for num in original_set:\n",
    "    # Multiply the current element by 2\n",
    "    multiplied_num = num * 2\n",
    "\n",
    "    # Add the multiplied element to the multiplied_set\n",
    "    multiplied_set.add(multiplied_num)\n",
    "\n",
    "# The original_set remains unchanged\n",
    "print(\"Original Set:\", original_set)\n",
    "\n",
    "# Display the set with elements multiplied by 2\n",
    "print(\"Multiplied Set:\", multiplied_set)"
   ]
  },
  {
   "cell_type": "code",
   "execution_count": null,
   "id": "7c136ec9-0f32-4c79-a334-9f444e0a9198",
   "metadata": {},
   "outputs": [],
   "source": []
  },
  {
   "cell_type": "code",
   "execution_count": null,
   "id": "99d8f98d-c9b1-4628-bbe9-23a6dce7bc1e",
   "metadata": {},
   "outputs": [],
   "source": [
    "### 28. Create a set of random numbers."
   ]
  },
  {
   "cell_type": "code",
   "execution_count": 25,
   "id": "53d81039-943d-43cf-b1b8-5833ce8ca4f6",
   "metadata": {},
   "outputs": [
    {
     "name": "stdout",
     "output_type": "stream",
     "text": [
      "Generated set of random numbers: {65, 99, 40, 13, 87}\n"
     ]
    }
   ],
   "source": [
    "# Step 1: Import the `random` module to generate random numbers\n",
    "import random\n",
    "\n",
    "# Step 2: Define the number of random numbers you want in the set\n",
    "num_random_numbers = 5\n",
    "\n",
    "# Step 3: Initialize an empty set to store the random numbers\n",
    "random_number_set = set()\n",
    "\n",
    "# Step 4: Use a loop to generate random numbers and add them to the set\n",
    "for _ in range(num_random_numbers):\n",
    "    # Generate a random integer using the `randint` function from the `random` module\n",
    "    random_num = random.randint(1, 100)  # Generate a random number between 1 and 100\n",
    "    # Add the random number to the set\n",
    "    random_number_set.add(random_num)\n",
    "\n",
    "# Step 5: Print the generated set of random numbers\n",
    "print(\"Generated set of random numbers:\", random_number_set)"
   ]
  },
  {
   "cell_type": "code",
   "execution_count": null,
   "id": "7bc511ba-b3c7-4978-97a6-747d1c4df167",
   "metadata": {},
   "outputs": [],
   "source": []
  },
  {
   "cell_type": "code",
   "execution_count": null,
   "id": "dc396f5f-af54-4963-8da0-7d467f17b821",
   "metadata": {},
   "outputs": [],
   "source": [
    "### 29. Check if a set is empty."
   ]
  },
  {
   "cell_type": "code",
   "execution_count": 26,
   "id": "06058ae0-a64e-4348-83a0-c762580a3859",
   "metadata": {},
   "outputs": [
    {
     "name": "stdout",
     "output_type": "stream",
     "text": [
      "The set is empty.\n"
     ]
    }
   ],
   "source": [
    "# Step 1: Create a set (you can replace this with your own set)\n",
    "my_set = set()\n",
    "\n",
    "# Step 2: Check if the set is empty using the 'if' statement\n",
    "if not my_set:\n",
    "    print(\"The set is empty.\")\n",
    "else:\n",
    "    print(\"The set is not empty.\")"
   ]
  },
  {
   "cell_type": "code",
   "execution_count": null,
   "id": "2b52d062-894a-44a9-885b-fde2959c8392",
   "metadata": {},
   "outputs": [],
   "source": []
  },
  {
   "cell_type": "code",
   "execution_count": null,
   "id": "77e0230c-5a1d-48d8-b5ff-84c4578dc10d",
   "metadata": {},
   "outputs": [],
   "source": [
    "### 30. Create a nested set (hint: use frozenset)."
   ]
  },
  {
   "cell_type": "code",
   "execution_count": 27,
   "id": "287e60c1-6214-449f-a727-3d17f2267d88",
   "metadata": {},
   "outputs": [
    {
     "name": "stdout",
     "output_type": "stream",
     "text": [
      "Nested Set: {frozenset({1, 2, 3, 4, 5}), frozenset({6, 7, 8, 9, 10})}\n"
     ]
    }
   ],
   "source": [
    "# Step 1: Create the inner sets\n",
    "set1 = {1, 2, 3, 4, 5}\n",
    "set2 = {6, 7, 8, 9, 10}\n",
    "\n",
    "# Step 2: Create frozensets from the inner sets\n",
    "frozen_set1 = frozenset(set1)\n",
    "frozen_set2 = frozenset(set2)\n",
    "\n",
    "# Step 3: Create the nested set using the frozensets\n",
    "nested_set = {frozen_set1, frozen_set2}\n",
    "\n",
    "# Print the nested set\n",
    "print(\"Nested Set:\", nested_set)"
   ]
  },
  {
   "cell_type": "code",
   "execution_count": null,
   "id": "71a17490-d112-4ac1-9b43-7b5f549feb71",
   "metadata": {},
   "outputs": [],
   "source": []
  },
  {
   "cell_type": "code",
   "execution_count": null,
   "id": "48140f53-36b1-479b-9f1b-029a267991a6",
   "metadata": {},
   "outputs": [],
   "source": [
    "### 31.  Remove an element from a set using the discard method."
   ]
  },
  {
   "cell_type": "code",
   "execution_count": 28,
   "id": "530d86fd-a57f-480b-8632-5d56cb7c4b34",
   "metadata": {},
   "outputs": [
    {
     "name": "stdout",
     "output_type": "stream",
     "text": [
      "Initial set: {1, 2, 3, 4, 5}\n",
      "Set after removing 3 : {1, 2, 4, 5}\n"
     ]
    }
   ],
   "source": [
    "# Create a set with some elements\n",
    "my_set = {1, 2, 3, 4, 5}\n",
    "\n",
    "# Display the initial set\n",
    "print(\"Initial set:\", my_set)\n",
    "\n",
    "# Define the element to be removed\n",
    "element_to_remove = 3\n",
    "\n",
    "# Use the discard() method to remove the element from the set\n",
    "# If the element is not present in the set, discard() won't raise an error\n",
    "my_set.discard(element_to_remove)\n",
    "\n",
    "# Display the set after removing the element\n",
    "print(\"Set after removing\", element_to_remove, \":\", my_set)"
   ]
  },
  {
   "cell_type": "code",
   "execution_count": null,
   "id": "8e90af91-4b85-4536-9206-eac31d9cce2d",
   "metadata": {},
   "outputs": [],
   "source": []
  },
  {
   "cell_type": "code",
   "execution_count": null,
   "id": "2e960a5a-4aa3-4132-9a71-d90fc03567b7",
   "metadata": {},
   "outputs": [],
   "source": [
    "### 32. Compare two sets."
   ]
  },
  {
   "cell_type": "code",
   "execution_count": 29,
   "id": "9faca967-a977-4a2e-afd8-e1457b3d18f0",
   "metadata": {},
   "outputs": [
    {
     "name": "stdout",
     "output_type": "stream",
     "text": [
      "Set 1: {1, 2, 3, 4, 5}\n",
      "Set 2: {4, 5, 6, 7, 8}\n",
      "Is set1 a subset of set2? False\n",
      "Is set2 a subset of set1? False\n",
      "Intersection: {4, 5}\n",
      "Union: {1, 2, 3, 4, 5, 6, 7, 8}\n",
      "Elements in set1 but not in set2: {1, 2, 3}\n",
      "Elements in set2 but not in set1: {8, 6, 7}\n"
     ]
    }
   ],
   "source": [
    "# Step 1: Define two sets\n",
    "set1 = {1, 2, 3, 4, 5}\n",
    "set2 = {4, 5, 6, 7, 8}\n",
    "\n",
    "# Step 2: Use set operations to compare the sets\n",
    "# Check if set1 is a subset of set2\n",
    "is_subset = set1.issubset(set2)\n",
    "\n",
    "# Check if set2 is a subset of set1\n",
    "is_superset = set1.issuperset(set2)\n",
    "\n",
    "# Find the intersection of the sets\n",
    "intersection = set1.intersection(set2)\n",
    "\n",
    "# Find the union of the sets\n",
    "union = set1.union(set2)\n",
    "\n",
    "# Find the elements that are in set1 but not in set2\n",
    "difference1 = set1.difference(set2)\n",
    "\n",
    "# Find the elements that are in set2 but not in set1\n",
    "difference2 = set2.difference(set1)\n",
    "\n",
    "# Step 3: Print the results\n",
    "print(\"Set 1:\", set1)\n",
    "print(\"Set 2:\", set2)\n",
    "print(\"Is set1 a subset of set2?\", is_subset)\n",
    "print(\"Is set2 a subset of set1?\", is_superset)\n",
    "print(\"Intersection:\", intersection)\n",
    "print(\"Union:\", union)\n",
    "print(\"Elements in set1 but not in set2:\", difference1)\n",
    "print(\"Elements in set2 but not in set1:\", difference2)"
   ]
  },
  {
   "cell_type": "code",
   "execution_count": null,
   "id": "bad882b2-ff3f-411a-94e5-57d1e9a5135e",
   "metadata": {},
   "outputs": [],
   "source": []
  },
  {
   "cell_type": "code",
   "execution_count": null,
   "id": "d9b8e36a-7f37-4c84-b22d-7c40553e79a0",
   "metadata": {},
   "outputs": [],
   "source": [
    "### 33. Create a set from a string."
   ]
  },
  {
   "cell_type": "code",
   "execution_count": 30,
   "id": "34245485-ac24-48f4-94ba-3836fd9ebfad",
   "metadata": {},
   "outputs": [
    {
     "name": "stdout",
     "output_type": "stream",
     "text": [
      "{'h', 'e', 'o', 'l'}\n"
     ]
    }
   ],
   "source": [
    "# Step 1: Define the input string\n",
    "input_string = \"hello\"\n",
    "\n",
    "# Step 2: Use the set() constructor to create a set from the characters in the string\n",
    "char_set = set(input_string)\n",
    "\n",
    "# Step 3: Print the resulting set\n",
    "print(char_set)"
   ]
  },
  {
   "cell_type": "code",
   "execution_count": null,
   "id": "fb98ae5f-cd9a-44f0-9711-570ddc7dae5e",
   "metadata": {},
   "outputs": [],
   "source": []
  },
  {
   "cell_type": "code",
   "execution_count": null,
   "id": "4129be61-74f8-4628-88d1-22c72dcd5bb4",
   "metadata": {},
   "outputs": [],
   "source": [
    "### 34. Convert a set of strings to a set of integers."
   ]
  },
  {
   "cell_type": "code",
   "execution_count": 31,
   "id": "bd05b3ea-8d20-4fff-a4db-9c58f3240544",
   "metadata": {},
   "outputs": [
    {
     "name": "stdout",
     "output_type": "stream",
     "text": [
      "Original String Set: {'123', '789', '456'}\n",
      "Converted Integer Set: {456, 123, 789}\n"
     ]
    }
   ],
   "source": [
    "# Step 1: Create a set of strings\n",
    "string_set = {\"123\", \"456\", \"789\"}\n",
    "\n",
    "# Step 2: Initialize an empty set to store integers\n",
    "integer_set = set()\n",
    "\n",
    "# Step 3: Iterate through each string in the string set\n",
    "for string in string_set:\n",
    "    # Step 4: Convert the string to an integer using the int() function\n",
    "    integer_value = int(string)\n",
    "\n",
    "    # Step 5: Add the integer to the integer set\n",
    "    integer_set.add(integer_value)\n",
    "\n",
    "# Step 6: Print the original string set and the converted integer set\n",
    "print(\"Original String Set:\", string_set)\n",
    "print(\"Converted Integer Set:\", integer_set)"
   ]
  },
  {
   "cell_type": "code",
   "execution_count": null,
   "id": "b7593e54-7c7f-402e-ba40-0263f75a0973",
   "metadata": {},
   "outputs": [],
   "source": []
  },
  {
   "cell_type": "code",
   "execution_count": null,
   "id": "ab7c4c64-29d3-4935-8106-d4e3b67e5bfb",
   "metadata": {},
   "outputs": [],
   "source": [
    "### 35. Convert a set of integers to a set of strings."
   ]
  },
  {
   "cell_type": "code",
   "execution_count": 32,
   "id": "9d4785ec-08f9-46d2-bfaa-866d9640eec0",
   "metadata": {},
   "outputs": [
    {
     "name": "stdout",
     "output_type": "stream",
     "text": [
      "Original integers_set: {1, 2, 3, 4, 5}\n",
      "Converted strings_set: {'2', '5', '4', '1', '3'}\n"
     ]
    }
   ],
   "source": [
    "# Step 1: Create a set of integers\n",
    "integers_set = {1, 2, 3, 4, 5}\n",
    "\n",
    "# Step 2: Initialize an empty set to store the strings\n",
    "strings_set = set()\n",
    "\n",
    "# Step 3: Iterate through each integer in the integers_set\n",
    "for num in integers_set:\n",
    "    # Step 4: Convert the integer to a string using the str() function\n",
    "    num_str = str(num)\n",
    "\n",
    "    # Step 5: Add the string representation to the strings_set\n",
    "    strings_set.add(num_str)\n",
    "\n",
    "# Step 6: Print the original integers_set and the converted strings_set\n",
    "print(\"Original integers_set:\", integers_set)\n",
    "print(\"Converted strings_set:\", strings_set)"
   ]
  },
  {
   "cell_type": "code",
   "execution_count": null,
   "id": "f4cfe4ab-dfae-436f-b47e-6c70296e6452",
   "metadata": {},
   "outputs": [],
   "source": []
  },
  {
   "cell_type": "code",
   "execution_count": null,
   "id": "6be3377e-8fa2-47a7-b280-fa069f118976",
   "metadata": {},
   "outputs": [],
   "source": [
    "### 36. Create a set from a tuple."
   ]
  },
  {
   "cell_type": "code",
   "execution_count": 35,
   "id": "bd8eef5a-2092-440e-a81f-58efbc00b26f",
   "metadata": {},
   "outputs": [
    {
     "name": "stdout",
     "output_type": "stream",
     "text": [
      "{1, 2, 3, 4, 5}\n"
     ]
    }
   ],
   "source": [
    "# Given tuple\n",
    "input_tuple = (1, 2, 3, 2, 4, 5, 1)\n",
    "\n",
    "# Step 1: Convert the tuple to a set\n",
    "output_set = set(input_tuple)\n",
    "# At this point, the set() function is used to convert the elements of the tuple into a set.\n",
    "# Since sets only contain unique elements, duplicate values are automatically removed.\n",
    "\n",
    "# Step 2: Print the resulting set\n",
    "print(output_set)\n",
    "# The set is now printed, and it will only contain the unique elements from the original tuple."
   ]
  },
  {
   "cell_type": "code",
   "execution_count": null,
   "id": "e7d866dd-47c5-4589-80ca-0688ff3820dd",
   "metadata": {},
   "outputs": [],
   "source": []
  },
  {
   "cell_type": "code",
   "execution_count": null,
   "id": "de12ac62-75e0-477e-83be-44fd1ccb021c",
   "metadata": {},
   "outputs": [],
   "source": [
    "### 37. Convert a set to a tuple."
   ]
  },
  {
   "cell_type": "code",
   "execution_count": 33,
   "id": "8e606d3d-1f99-4cf6-a28b-adbbecdead72",
   "metadata": {},
   "outputs": [
    {
     "name": "stdout",
     "output_type": "stream",
     "text": [
      "Original set: {1, 2, 3, 4, 5}\n",
      "Converted tuple: (1, 2, 3, 4, 5)\n"
     ]
    }
   ],
   "source": [
    "# Step 1: Create a set\n",
    "input_set = {1, 2, 3, 4, 5}\n",
    "\n",
    "# Step 2: Convert the set to a tuple\n",
    "output_tuple = tuple(input_set)\n",
    "\n",
    "# Step 3: Print the original set and the converted tuple\n",
    "print(\"Original set:\", input_set)\n",
    "print(\"Converted tuple:\", output_tuple)"
   ]
  },
  {
   "cell_type": "code",
   "execution_count": null,
   "id": "dddedf45-69c5-4f45-82d9-c9c4f6d0ebda",
   "metadata": {},
   "outputs": [],
   "source": []
  },
  {
   "cell_type": "code",
   "execution_count": null,
   "id": "ae9c3680-41fa-40c8-8b70-02b61ecac9ab",
   "metadata": {},
   "outputs": [],
   "source": [
    "### 38. Find the maximum value in a set."
   ]
  },
  {
   "cell_type": "code",
   "execution_count": 34,
   "id": "c09e629f-9342-48ef-8bcb-9682b2b67802",
   "metadata": {},
   "outputs": [
    {
     "name": "stdout",
     "output_type": "stream",
     "text": [
      "Maximum value: 22\n"
     ]
    }
   ],
   "source": [
    "# Define a set with some values\n",
    "my_set = {15, 7, 22, 13, 8}\n",
    "\n",
    "# Initialize a variable to store the maximum value\n",
    "max_value = None\n",
    "\n",
    "# Iterate through each element in the set\n",
    "for num in my_set:\n",
    "    # Check if max_value is None (first iteration) or if the current number is greater than max_value\n",
    "    if max_value is None or num > max_value:\n",
    "        max_value = num  # Update max_value with the current number if it's greater\n",
    "\n",
    "# Print the maximum value\n",
    "print(\"Maximum value:\", max_value)"
   ]
  },
  {
   "cell_type": "code",
   "execution_count": null,
   "id": "a90e36ad-dfc1-46a9-a7ca-61669036be4d",
   "metadata": {},
   "outputs": [],
   "source": []
  },
  {
   "cell_type": "code",
   "execution_count": null,
   "id": "684d3663-ab6e-423c-ae63-698b042aa857",
   "metadata": {},
   "outputs": [],
   "source": [
    "### 39. Find the minimum value in a set."
   ]
  },
  {
   "cell_type": "code",
   "execution_count": 35,
   "id": "2408f238-23d3-45c3-98ee-fe7c7163620a",
   "metadata": {},
   "outputs": [
    {
     "name": "stdout",
     "output_type": "stream",
     "text": [
      "The minimum value in the set is: 4\n"
     ]
    }
   ],
   "source": [
    "# Create a sample set of numbers\n",
    "number_set = {15, 8, 23, 4, 42, 11}\n",
    "\n",
    "# Initialize a variable to store the minimum value\n",
    "min_value = None\n",
    "\n",
    "# Iterate through each element in the set\n",
    "for num in number_set:\n",
    "    # Check if min_value is None (first iteration) or if num is smaller than the current min_value\n",
    "    if min_value is None or num < min_value:\n",
    "        # Update min_value to the current num since it's smaller\n",
    "        min_value = num\n",
    "\n",
    "# Print the minimum value found in the set\n",
    "print(\"The minimum value in the set is:\", min_value)"
   ]
  },
  {
   "cell_type": "code",
   "execution_count": null,
   "id": "0082057b-6c4d-46c4-82c3-e3ac0ce7f24c",
   "metadata": {},
   "outputs": [],
   "source": []
  },
  {
   "cell_type": "code",
   "execution_count": null,
   "id": "a9adee18-4fc0-4582-93db-bf0ad60f8ff4",
   "metadata": {},
   "outputs": [],
   "source": [
    "### 40. Create a set from user input."
   ]
  },
  {
   "cell_type": "code",
   "execution_count": 36,
   "id": "e51b7b03-0dd2-4929-b848-242ab5eb617c",
   "metadata": {},
   "outputs": [
    {
     "name": "stdout",
     "output_type": "stream",
     "text": [
      "Enter elements for the set (type 'done' to finish):\n"
     ]
    },
    {
     "name": "stdin",
     "output_type": "stream",
     "text": [
      ">  12\n",
      ">  23\n",
      ">  56\n",
      ">  56\n",
      ">  77\n",
      ">  'done'\n",
      ">  done\n"
     ]
    },
    {
     "name": "stdout",
     "output_type": "stream",
     "text": [
      "Final set: {'56', '77', '12', '23', \"'done'\"}\n"
     ]
    }
   ],
   "source": [
    "# Step 1: Initialize an empty set\n",
    "user_set = set()\n",
    "\n",
    "# Step 2: Get input from the user\n",
    "print(\"Enter elements for the set (type 'done' to finish):\")\n",
    "while True:\n",
    "    user_input = input(\"> \")  # Get input from the user\n",
    "\n",
    "    if user_input.lower() == 'done':\n",
    "        break  # Exit the loop if the user enters 'done'\n",
    "\n",
    "    # Step 3: Add the user input to the set\n",
    "    user_set.add(user_input)\n",
    "\n",
    "# Step 4: Display the final set created from user input\n",
    "print(\"Final set:\", user_set)"
   ]
  },
  {
   "cell_type": "code",
   "execution_count": null,
   "id": "d15086f3-3e38-4700-a565-9ac6ec9c5f91",
   "metadata": {},
   "outputs": [],
   "source": []
  },
  {
   "cell_type": "code",
   "execution_count": null,
   "id": "e759189f-fe4e-437b-ab7a-24776e48631c",
   "metadata": {},
   "outputs": [],
   "source": [
    "### 41. Check if the intersection of two sets is empty."
   ]
  },
  {
   "cell_type": "code",
   "execution_count": 37,
   "id": "5208fb45-b122-4132-9ee3-c080039b4739",
   "metadata": {},
   "outputs": [
    {
     "name": "stdout",
     "output_type": "stream",
     "text": [
      "The intersection of the two sets is not empty.\n"
     ]
    }
   ],
   "source": [
    "# Step 1: Define two sets\n",
    "set1 = {1, 2, 3, 4, 5}\n",
    "set2 = {4, 5, 6, 7, 8}\n",
    "\n",
    "# Step 2: Find the intersection of the two sets using the `intersection()` method\n",
    "intersection_result = set1.intersection(set2)\n",
    "\n",
    "# Step 3: Check if the intersection result is empty\n",
    "if not intersection_result:\n",
    "    print(\"The intersection of the two sets is empty.\")\n",
    "else:\n",
    "    print(\"The intersection of the two sets is not empty.\")"
   ]
  },
  {
   "cell_type": "code",
   "execution_count": null,
   "id": "55a2137b-beab-4299-b94d-a53529c447f7",
   "metadata": {},
   "outputs": [],
   "source": []
  },
  {
   "cell_type": "code",
   "execution_count": null,
   "id": "1228d72f-376d-4a16-ae8c-fb675b061a49",
   "metadata": {},
   "outputs": [],
   "source": [
    "### 42. Create a set of the first 5 Fibonacci numbers."
   ]
  },
  {
   "cell_type": "code",
   "execution_count": 38,
   "id": "6a2daf8a-9bae-47d6-a809-cf35985465e5",
   "metadata": {},
   "outputs": [
    {
     "name": "stdout",
     "output_type": "stream",
     "text": [
      "Set of the first 5 Fibonacci numbers: {0, 1, 2, 3, 5}\n"
     ]
    }
   ],
   "source": [
    "# Create a set to store the first 5 Fibonacci numbers\n",
    "fibonacci_set = set()\n",
    "\n",
    "# Initialize the first two Fibonacci numbers\n",
    "a, b = 0, 1\n",
    "\n",
    "# Loop to generate the first 5 Fibonacci numbers\n",
    "for _ in range(6):\n",
    "    # Add the current Fibonacci number to the set\n",
    "    fibonacci_set.add(a)\n",
    "\n",
    "    # Calculate the next Fibonacci number\n",
    "    a, b = b, a + b\n",
    "\n",
    "# Print the set of Fibonacci numbers\n",
    "print(\"Set of the first 5 Fibonacci numbers:\", fibonacci_set)"
   ]
  },
  {
   "cell_type": "code",
   "execution_count": null,
   "id": "98499281-a408-401d-8c1a-b73a38a69f8a",
   "metadata": {},
   "outputs": [],
   "source": []
  },
  {
   "cell_type": "code",
   "execution_count": null,
   "id": "39bc1d36-87d7-40ce-be16-feff60477b63",
   "metadata": {},
   "outputs": [],
   "source": [
    "### 43. Remove duplicates from a list using sets."
   ]
  },
  {
   "cell_type": "code",
   "execution_count": 39,
   "id": "be0278d0-2c38-4d96-a5b2-7f9b8e85ce8c",
   "metadata": {},
   "outputs": [
    {
     "name": "stdout",
     "output_type": "stream",
     "text": [
      "Original List: [2, 4, 6, 8, 4, 10, 6, 12, 14, 8]\n",
      "List with Duplicates Removed: [2, 4, 6, 8, 10, 12, 14]\n"
     ]
    }
   ],
   "source": [
    "# Step 1: Define a list with duplicates\n",
    "original_list = [2, 4, 6, 8, 4, 10, 6, 12, 14, 8]\n",
    "\n",
    "# Step 2: Convert the list to a set\n",
    "unique_set = set(original_list)\n",
    "# Now, 'unique_set' contains only unique elements from 'original_list'\n",
    "\n",
    "# Step 3: Convert the set back to a list\n",
    "unique_list = list(unique_set)\n",
    "# Now, 'unique_list' is a list containing only unique elements\n",
    "\n",
    "# Step 4: Print the original list and the list with duplicates removed\n",
    "print(\"Original List:\", original_list)\n",
    "print(\"List with Duplicates Removed:\", unique_list)"
   ]
  },
  {
   "cell_type": "code",
   "execution_count": null,
   "id": "12fa753b-d961-4fc7-9383-a0fedb375781",
   "metadata": {},
   "outputs": [],
   "source": []
  },
  {
   "cell_type": "code",
   "execution_count": null,
   "id": "4e1379ca-8cf7-46dd-ae5c-12c2dfe00899",
   "metadata": {},
   "outputs": [],
   "source": [
    "### 44. Check if two sets have the same elements, regardless of their count."
   ]
  },
  {
   "cell_type": "code",
   "execution_count": 40,
   "id": "a01b4537-0b68-4137-8559-654ca25442da",
   "metadata": {},
   "outputs": [
    {
     "name": "stdout",
     "output_type": "stream",
     "text": [
      "The sets have the same elements.\n"
     ]
    }
   ],
   "source": [
    "def have_same_elements(set1, set2):\n",
    "    # Convert the sets to lists and sort them\n",
    "    sorted_list1 = sorted(list(set1))\n",
    "    sorted_list2 = sorted(list(set2))\n",
    "\n",
    "    # Compare the sorted lists to check if they are equal\n",
    "    return sorted_list1 == sorted_list2\n",
    "\n",
    "# Example sets\n",
    "set1 = {1, 2, 3, 2, 1}\n",
    "set2 = {3, 1, 2}\n",
    "\n",
    "# Check if the sets have the same elements\n",
    "result = have_same_elements(set1, set2)\n",
    "\n",
    "# Print the result\n",
    "if result:\n",
    "    print(\"The sets have the same elements.\")\n",
    "else:\n",
    "    print(\"The sets do not have the same elements.\")"
   ]
  },
  {
   "cell_type": "code",
   "execution_count": null,
   "id": "01959e64-904c-4171-999e-08b1f4a83872",
   "metadata": {},
   "outputs": [],
   "source": []
  },
  {
   "cell_type": "code",
   "execution_count": null,
   "id": "f9457c88-c5b4-4ef9-a64b-97094875c91b",
   "metadata": {},
   "outputs": [],
   "source": [
    "### 45. Create a set of the first `n` powers of 2"
   ]
  },
  {
   "cell_type": "code",
   "execution_count": 36,
   "id": "e07c5d26-73cc-4620-a128-33d7f1394117",
   "metadata": {},
   "outputs": [
    {
     "name": "stdout",
     "output_type": "stream",
     "text": [
      "{1, 2, 4, 8, 16}\n"
     ]
    }
   ],
   "source": [
    "def generate_powers_of_2(n):\n",
    "    # Initialize an empty set to store the powers of 2\n",
    "    powers_of_2 = set()\n",
    "\n",
    "    # Loop from 0 to n-1\n",
    "    for i in range(n):\n",
    "        # Calculate the current power of 2 using the exponentiation operator **\n",
    "        power = 2 ** i\n",
    "\n",
    "        # Add the current power of 2 to the set\n",
    "        powers_of_2.add(power)\n",
    "\n",
    "    # Return the set of powers of 2\n",
    "    return powers_of_2\n",
    "\n",
    "# Define the value of n\n",
    "n = 5\n",
    "\n",
    "# Call the function to generate the set of powers of 2\n",
    "powers_set = generate_powers_of_2(n)\n",
    "\n",
    "# Print the resulting set\n",
    "print(powers_set)"
   ]
  },
  {
   "cell_type": "code",
   "execution_count": null,
   "id": "8ff724a5-79c1-49ef-94ac-9c9845da568f",
   "metadata": {},
   "outputs": [],
   "source": []
  },
  {
   "cell_type": "code",
   "execution_count": null,
   "id": "14258131-4ce1-45a4-8d62-5d1afc4b4554",
   "metadata": {},
   "outputs": [],
   "source": [
    "### 46. Find the common elements between a set and a list."
   ]
  },
  {
   "cell_type": "code",
   "execution_count": 41,
   "id": "b953386a-60b3-4896-a9ba-2d1cf863413a",
   "metadata": {},
   "outputs": [
    {
     "name": "stdout",
     "output_type": "stream",
     "text": [
      "Common elements: [7, 9, 12]\n"
     ]
    }
   ],
   "source": [
    "# Step 1: Define a set and a list\n",
    "my_set = {3, 7, 9, 12, 15}\n",
    "my_list = [7, 12, 5, 9]\n",
    "\n",
    "# Step 2: Convert the list to a set for efficient comparison\n",
    "list_to_set = set(my_list)\n",
    "\n",
    "# Step 3: Initialize an empty list to store common elements\n",
    "common_elements = []\n",
    "\n",
    "# Step 4: Iterate through the elements in the set\n",
    "for element in my_set:\n",
    "    # Step 5: Check if the element is present in the converted set (list_to_set)\n",
    "    if element in list_to_set:\n",
    "        # Step 6: If the element is present in both the set and the list, add it to the common_elements list\n",
    "        common_elements.append(element)\n",
    "\n",
    "# Step 7: Print the common elements\n",
    "print(\"Common elements:\", common_elements)"
   ]
  },
  {
   "cell_type": "code",
   "execution_count": null,
   "id": "76c7f8f7-665e-4e33-92df-2a89491c9ed3",
   "metadata": {},
   "outputs": [],
   "source": []
  },
  {
   "cell_type": "code",
   "execution_count": 42,
   "id": "f3ab360b-40e2-4d7e-b534-464d98fc7f67",
   "metadata": {},
   "outputs": [
    {
     "name": "stdin",
     "output_type": "stream",
     "text": [
      "Enter the value of n:  34\n"
     ]
    },
    {
     "name": "stdout",
     "output_type": "stream",
     "text": [
      "The set of the first 34 triangular numbers is: {1, 3, 6, 136, 10, 15, 528, 276, 21, 406, 153, 28, 36, 171, 300, 45, 561, 435, 55, 190, 66, 325, 78, 465, 210, 595, 91, 351, 231, 105, 496, 120, 378, 253}\n"
     ]
    }
   ],
   "source": [
    "### 47. Create a set of the first `n` triangular numbers.:\n",
    "\n",
    "def generate_triangular_numbers(n):\n",
    "    triangular_numbers = set()  # Create an empty set to store the triangular numbers\n",
    "    for i in range(1, n + 1):\n",
    "        triangular_number = i * (i + 1) // 2  # Calculate the ith triangular number using the formula\n",
    "        triangular_numbers.add(triangular_number)  # Add the calculated triangular number to the set\n",
    "    return triangular_numbers\n",
    "\n",
    "# Input the value of 'n'\n",
    "n = int(input(\"Enter the value of n: \"))\n",
    "\n",
    "# Call the function to generate the set of first 'n' triangular numbers\n",
    "triangular_set = generate_triangular_numbers(n)\n",
    "\n",
    "# Display the set of triangular numbers\n",
    "print(f\"The set of the first {n} triangular numbers is:\", triangular_set)"
   ]
  },
  {
   "cell_type": "code",
   "execution_count": null,
   "id": "5a5759f3-88fa-4db2-8021-f5c92df733bc",
   "metadata": {},
   "outputs": [],
   "source": []
  },
  {
   "cell_type": "code",
   "execution_count": null,
   "id": "8079e855-4221-4a27-9ce8-3a4b7153b865",
   "metadata": {},
   "outputs": [],
   "source": [
    "### 48. Check if a set contains another set as a subset."
   ]
  },
  {
   "cell_type": "code",
   "execution_count": 43,
   "id": "9ff0bcbc-5573-4fc8-b439-2e5ad708599a",
   "metadata": {},
   "outputs": [
    {
     "name": "stdout",
     "output_type": "stream",
     "text": [
      "set2 is a subset of set1\n"
     ]
    }
   ],
   "source": [
    "# Define two sets\n",
    "set1 = {1, 2, 3, 4, 5}\n",
    "set2 = {3, 4}\n",
    "\n",
    "# Check if set2 is a subset of set1\n",
    "is_subset = set2.issubset(set1)\n",
    "\n",
    "# Print the result\n",
    "if is_subset:\n",
    "    print(\"set2 is a subset of set1\")\n",
    "else:\n",
    "    print(\"set2 is not a subset of set1\")"
   ]
  },
  {
   "cell_type": "code",
   "execution_count": null,
   "id": "0f28aaba-09b3-4541-ab54-0de0341ea88f",
   "metadata": {},
   "outputs": [],
   "source": []
  },
  {
   "cell_type": "code",
   "execution_count": null,
   "id": "1d9d3bdb-8399-43ec-806f-1676cc6d3886",
   "metadata": {},
   "outputs": [],
   "source": [
    "### 49. Create a set of alternating 1s and 0s of length `n`."
   ]
  },
  {
   "cell_type": "code",
   "execution_count": 44,
   "id": "c76b3a61-da34-4ebb-ab61-067a18dee3a0",
   "metadata": {},
   "outputs": [
    {
     "name": "stdout",
     "output_type": "stream",
     "text": [
      "{0, 1}\n"
     ]
    }
   ],
   "source": [
    "def create_alternating_set(n):\n",
    "    # Initialize an empty set to store the alternating sequence.\n",
    "    alternating_set = set()\n",
    "\n",
    "    # Loop to generate alternating 1s and 0s.\n",
    "    for i in range(n):\n",
    "        # Alternate between adding 1 and 0 to the set based on whether i is even or odd.\n",
    "        if i % 2 == 0:\n",
    "            alternating_set.add(1)  # Add 1 if i is even.\n",
    "        else:\n",
    "            alternating_set.add(0)  # Add 0 if i is odd.\n",
    "\n",
    "    return alternating_set\n",
    "\n",
    "# Define the desired length of the alternating set.\n",
    "length_n = 10\n",
    "\n",
    "# Call the function to create the alternating set of length 'length_n'.\n",
    "result = create_alternating_set(length_n)\n",
    "\n",
    "# Print the resulting set.\n",
    "print(result)"
   ]
  },
  {
   "cell_type": "code",
   "execution_count": null,
   "id": "57b819f8-d9cb-4a0a-9d81-addd824ecb2b",
   "metadata": {},
   "outputs": [],
   "source": []
  },
  {
   "cell_type": "code",
   "execution_count": null,
   "id": "0516dad2-5750-44ef-8a1a-612c261d6806",
   "metadata": {},
   "outputs": [],
   "source": [
    "### 50. Merge multiple sets into one."
   ]
  },
  {
   "cell_type": "code",
   "execution_count": 45,
   "id": "d343783c-e3f2-4982-9c03-e24bf93a1f07",
   "metadata": {},
   "outputs": [
    {
     "name": "stdout",
     "output_type": "stream",
     "text": [
      "Merged Set: {1, 2, 3, 4, 5, 6, 7}\n"
     ]
    }
   ],
   "source": [
    "# Step 1: Create multiple sets\n",
    "set1 = {1, 2, 3}\n",
    "set2 = {3, 4, 5}\n",
    "set3 = {5, 6, 7}\n",
    "\n",
    "# Step 2: Use the union() method to merge sets\n",
    "merged_set = set1.union(set2, set3)\n",
    "\n",
    "# Alternatively, you can use the | operator\n",
    "# merged_set = set1 | set2 | set3\n",
    "\n",
    "# Step 3: Print the merged set\n",
    "print(\"Merged Set:\", merged_set)"
   ]
  },
  {
   "cell_type": "code",
   "execution_count": null,
   "id": "fe4e2ec4-2768-4c11-a3d6-14219a3b56d6",
   "metadata": {},
   "outputs": [],
   "source": []
  }
 ],
 "metadata": {
  "kernelspec": {
   "display_name": "Python 3 (ipykernel)",
   "language": "python",
   "name": "python3"
  },
  "language_info": {
   "codemirror_mode": {
    "name": "ipython",
    "version": 3
   },
   "file_extension": ".py",
   "mimetype": "text/x-python",
   "name": "python",
   "nbconvert_exporter": "python",
   "pygments_lexer": "ipython3",
   "version": "3.10.8"
  }
 },
 "nbformat": 4,
 "nbformat_minor": 5
}
